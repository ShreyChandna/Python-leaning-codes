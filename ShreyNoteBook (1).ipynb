{
 "cells": [
  {
   "cell_type": "code",
   "execution_count": 4,
   "metadata": {},
   "outputs": [
    {
     "name": "stdout",
     "output_type": "stream",
     "text": [
      "<class 'int'>\n",
      "<class 'str'>\n",
      "<class 'str'>\n",
      "<class 'float'>\n"
     ]
    }
   ],
   "source": [
    "a=90\n",
    "b=\"program\"\n",
    "c='language'\n",
    "d=90.89\n",
    "\n",
    "\n",
    "print(type(a))\n",
    "\n",
    "print(type(b))\n",
    "\n",
    "print(type(c))\n",
    "\n",
    "print(type(d))"
   ]
  },
  {
   "cell_type": "code",
   "execution_count": 5,
   "metadata": {},
   "outputs": [
    {
     "name": "stdout",
     "output_type": "stream",
     "text": [
      "11218512 11218512\n"
     ]
    }
   ],
   "source": [
    "a=90\n",
    "b=90\n",
    "\n",
    "print(id(a),id(b))"
   ]
  },
  {
   "cell_type": "code",
   "execution_count": null,
   "metadata": {},
   "outputs": [],
   "source": [
    "'''\n",
    "str , float , int , bytes, bytearray , complex , range , frozenset, set , dict, list , tuple\n",
    "\n",
    "\n",
    "'''"
   ]
  },
  {
   "cell_type": "code",
   "execution_count": 7,
   "metadata": {},
   "outputs": [
    {
     "name": "stdout",
     "output_type": "stream",
     "text": [
      "118\n",
      "0b10001110000010\n"
     ]
    }
   ],
   "source": [
    "a=0b1110110\n",
    "print(a)\n",
    "print(bin(9090))"
   ]
  },
  {
   "cell_type": "code",
   "execution_count": 9,
   "metadata": {},
   "outputs": [
    {
     "name": "stdout",
     "output_type": "stream",
     "text": [
      "5551\n",
      "0o12657\n"
     ]
    }
   ],
   "source": [
    "a=0o12657\n",
    "print(a)\n",
    "\n",
    "print(oct(5551))"
   ]
  },
  {
   "cell_type": "code",
   "execution_count": 11,
   "metadata": {},
   "outputs": [
    {
     "name": "stdout",
     "output_type": "stream",
     "text": [
      "64206\n",
      "0x2312\n"
     ]
    }
   ],
   "source": [
    "a=0xFACE\n",
    "print(a)\n",
    "\n",
    "print(hex(8978))"
   ]
  },
  {
   "cell_type": "code",
   "execution_count": 15,
   "metadata": {},
   "outputs": [
    {
     "name": "stdout",
     "output_type": "stream",
     "text": [
      "0b100010101010110\n",
      "0o53105\n",
      "0xba5\n",
      "2990\n"
     ]
    }
   ],
   "source": [
    "print(bin(0x4556))\n",
    "print(oct(0x5645))\n",
    "print(hex(0o5645))\n",
    "print(int(0o5656))"
   ]
  },
  {
   "cell_type": "code",
   "execution_count": 16,
   "metadata": {},
   "outputs": [
    {
     "name": "stdout",
     "output_type": "stream",
     "text": [
      "<class 'float'> 100473248\n"
     ]
    }
   ],
   "source": [
    "a=90.78\n",
    "print(type(a),id(a))\n"
   ]
  },
  {
   "cell_type": "code",
   "execution_count": null,
   "metadata": {},
   "outputs": [],
   "source": [
    "'''\n",
    "complex number - \n",
    "\n",
    "real+-imganary value j\n",
    "\n",
    "ex-\n",
    "    3+4j\n",
    "    3 - real value\n",
    "    4 - imag value\n",
    "\n",
    "'''\n"
   ]
  },
  {
   "cell_type": "code",
   "execution_count": 6,
   "metadata": {},
   "outputs": [
    {
     "name": "stdout",
     "output_type": "stream",
     "text": [
      "(3+4j) (8-9j)\n",
      "3\n",
      "4.0\n"
     ]
    }
   ],
   "source": [
    "a=3+4j\n",
    "b=8-9j\n",
    "print(a,b)\n",
    "print(int(a.real))\n",
    "print(a.imag)"
   ]
  },
  {
   "cell_type": "markdown",
   "metadata": {},
   "source": [
    "a=3+4j\n",
    "b=8-9j\n",
    "c=True+8j\n",
    "print(a,b,c)\n",
    "\n",
    "print(int(a.real))\n",
    "print(int(a.imag))\n",
    "print(type(a))"
   ]
  },
  {
   "cell_type": "code",
   "execution_count": 9,
   "metadata": {},
   "outputs": [
    {
     "name": "stdout",
     "output_type": "stream",
     "text": [
      "<class 'range'>\n",
      "1\n",
      "2\n",
      "3\n",
      "4\n",
      "5\n",
      "6\n",
      "7\n",
      "8\n",
      "9\n",
      "10\n",
      "[1, 2, 3, 4, 5, 6, 7, 8, 9, 10]\n",
      "(1, 2, 3, 4, 5, 6, 7, 8, 9, 10)\n"
     ]
    }
   ],
   "source": [
    "a=range(1,10)\n",
    "print(type(a))\n",
    "for i in range(1,11):\n",
    "    print(i)\n",
    "    \n",
    "L=list(range(1,11))\n",
    "T=tuple(range(1,11))\n",
    "print(L)\n",
    "print(T)"
   ]
  },
  {
   "cell_type": "code",
   "execution_count": 25,
   "metadata": {},
   "outputs": [
    {
     "name": "stdout",
     "output_type": "stream",
     "text": [
      "['False', 'None', 'True', 'and', 'as', 'assert', 'break', 'class', 'continue', 'def', 'del', 'elif', 'else', 'except', 'finally', 'for', 'from', 'global', 'if', 'import', 'in', 'is', 'lambda', 'nonlocal', 'not', 'or', 'pass', 'raise', 'return', 'try', 'while', 'with', 'yield']\n"
     ]
    }
   ],
   "source": [
    "import keyword\n",
    "print(keyword.kwlist)"
   ]
  },
  {
   "cell_type": "code",
   "execution_count": null,
   "metadata": {},
   "outputs": [],
   "source": [
    "# operators\n",
    "'''\n",
    "+ - / % * //(floor division)\n",
    "\n",
    "\n",
    "\n",
    "'''"
   ]
  },
  {
   "cell_type": "code",
   "execution_count": 27,
   "metadata": {},
   "outputs": [
    {
     "name": "stdout",
     "output_type": "stream",
     "text": [
      "1\n",
      "1.5\n"
     ]
    }
   ],
   "source": [
    "a=9\n",
    "b=6\n",
    "print(a//b)\n",
    "print(a/b)"
   ]
  },
  {
   "cell_type": "code",
   "execution_count": 33,
   "metadata": {},
   "outputs": [
    {
     "name": "stdout",
     "output_type": "stream",
     "text": [
      "18\n",
      "hello python\n",
      "program program program program program program \n",
      "8\n"
     ]
    }
   ],
   "source": [
    "print(9+9)\n",
    "print(\"hello \"+\"python\")\n",
    "print(\"program \"*6)\n",
    "print(2**3)"
   ]
  },
  {
   "cell_type": "code",
   "execution_count": 35,
   "metadata": {},
   "outputs": [
    {
     "name": "stdout",
     "output_type": "stream",
     "text": [
      "*****\n",
      "****\n",
      "***\n",
      "**\n",
      "*\n"
     ]
    }
   ],
   "source": [
    "print(\"*\"*5)\n",
    "print(\"*\"*4)\n",
    "print(\"*\"*3)\n",
    "print(\"*\"*2)\n",
    "print(\"*\"*1)"
   ]
  },
  {
   "cell_type": "code",
   "execution_count": null,
   "metadata": {},
   "outputs": [],
   "source": [
    "# > < >= <=  !=\n",
    "# and or not\n",
    "#equliaty   ==   !=\n",
    "#memebership opeartor\n",
    "#in / not in\n"
   ]
  },
  {
   "cell_type": "code",
   "execution_count": 39,
   "metadata": {},
   "outputs": [
    {
     "name": "stdout",
     "output_type": "stream",
     "text": [
      "True\n",
      "True\n",
      "True\n",
      "True\n"
     ]
    }
   ],
   "source": [
    "print(\"cat\" in \"concatenate\")\n",
    "print(78 in [56,98,78,45,32,43])\n",
    "print(\"math\" in [\"sci\",\"sst\",\"eng\",\"math\",\"hindi\"])\n",
    "print(\"punjabi\" not in [\"sci\",\"sst\",\"eng\",\"math\",\"hindi\"])"
   ]
  },
  {
   "cell_type": "code",
   "execution_count": 41,
   "metadata": {},
   "outputs": [
    {
     "name": "stdout",
     "output_type": "stream",
     "text": [
      "True\n",
      "False\n"
     ]
    }
   ],
   "source": [
    "#identity operator\n",
    "#is ,not is\n",
    "\n",
    "a=90\n",
    "b=90\n",
    "\n",
    "print(a is b)\n",
    "\n",
    "b=78\n",
    "\n",
    "print(a is b)\n",
    "\n"
   ]
  },
  {
   "cell_type": "code",
   "execution_count": null,
   "metadata": {},
   "outputs": [],
   "source": [
    "# >> << ~ & | ^ ! bit wise \n",
    "\n",
    "'''\n",
    "\n",
    "        a     b       a&b           a|b            a^b\n",
    "        0     0        0             0              0 \n",
    "        1     1        1             1              0\n",
    "        0     1        0             1              1\n",
    "        1     0        0             1              1\n",
    "\n",
    "0011\n",
    "0101\n",
    "\n",
    "0111\n",
    "0001\n",
    "0110\n",
    "\n",
    "\n",
    "'''   "
   ]
  },
  {
   "cell_type": "code",
   "execution_count": 6,
   "metadata": {},
   "outputs": [
    {
     "name": "stdout",
     "output_type": "stream",
     "text": [
      "1\n",
      "7\n",
      "6\n",
      "72\n",
      "4\n"
     ]
    }
   ],
   "source": [
    "a=3\n",
    "b=5\n",
    "\n",
    "print(a&b)\n",
    "print(a|b)\n",
    "print(a^b)\n",
    "\n",
    "a=18\n",
    "print(a<<2)\n",
    "print(a>>2)\n",
    "\n",
    "\n"
   ]
  },
  {
   "cell_type": "code",
   "execution_count": null,
   "metadata": {},
   "outputs": [],
   "source": [
    "'''\n",
    "               64         32             16            8         4        2      1\n",
    "                                                                 0        1      1    =3\n",
    "                                                                 1        0      1    =5\n",
    "                                                                 \n",
    "                                                      a&b        0        0      1    =1  \n",
    "                                                      a|b        1        1      1    =7\n",
    "                                                      a^b        1        1      0    =6\n",
    "                                                      \n",
    "                                          \n",
    "                                          1            0         0        1      0    =18\n",
    "                \n",
    "       <<       1          0              0            1         0        0      0    =72\n",
    "       \n",
    "       >>                                                        1        0      0    =4\n",
    "                                          \n",
    "                                                                                                           \n",
    "                                                      \n",
    "\n",
    "'''"
   ]
  },
  {
   "cell_type": "code",
   "execution_count": null,
   "metadata": {},
   "outputs": [],
   "source": [
    "# control structures\n",
    "\n",
    "'''\n",
    "\n",
    "    1: Branching statements\n",
    "           for loop , while loop , nested loop\n",
    "    2: Decision statements\n",
    "           if , if else  , if elif\n",
    "    3: Jumping statements\n",
    "           break , continue, return, yield\n",
    "           \n",
    "\n",
    "\n",
    "'''"
   ]
  },
  {
   "cell_type": "code",
   "execution_count": null,
   "metadata": {},
   "outputs": [],
   "source": [
    "'''\n",
    "    for (i=0 ; i<=10 ; i++) in C,c++\n",
    "    \n",
    "    for varaiable in collection/sequence/range/list/tuple/dictionary/set :      in python\n",
    "        logic\n",
    "        \n",
    "\n",
    "'''"
   ]
  },
  {
   "cell_type": "code",
   "execution_count": 14,
   "metadata": {},
   "outputs": [
    {
     "name": "stdout",
     "output_type": "stream",
     "text": [
      "1 2 3 4 5 \n",
      "p r o g r a m m i n g "
     ]
    }
   ],
   "source": [
    "for i in [1,2,3,4,5]:\n",
    "    print(i,end=\" \")\n",
    "    \n",
    "print()\n",
    "\n",
    "for i in \"programming\":\n",
    "    print(i,end=\" \")"
   ]
  },
  {
   "cell_type": "code",
   "execution_count": 10,
   "metadata": {},
   "outputs": [
    {
     "name": "stdout",
     "output_type": "stream",
     "text": [
      "0\t1\t2\t3\t4\t5\t6\t7\t8\t9\t"
     ]
    }
   ],
   "source": [
    "for i in range(10):\n",
    "    print(i,end=\"\\t\")"
   ]
  },
  {
   "cell_type": "code",
   "execution_count": 11,
   "metadata": {},
   "outputs": [
    {
     "name": "stdout",
     "output_type": "stream",
     "text": [
      "1\t2\t3\t4\t5\t6\t7\t8\t9\t10\t"
     ]
    }
   ],
   "source": [
    "for i in range(1,11):\n",
    "    print(i,end=\"\\t\")"
   ]
  },
  {
   "cell_type": "code",
   "execution_count": 12,
   "metadata": {},
   "outputs": [
    {
     "name": "stdout",
     "output_type": "stream",
     "text": [
      "1\t3\t5\t7\t9\t11\t13\t15\t17\t19\t"
     ]
    }
   ],
   "source": [
    "for i in range(1,21,2):\n",
    "    print(i,end=\"\\t\")"
   ]
  },
  {
   "cell_type": "code",
   "execution_count": 13,
   "metadata": {},
   "outputs": [
    {
     "name": "stdout",
     "output_type": "stream",
     "text": [
      "0\t2\t4\t6\t8\t10\t12\t14\t16\t18\t20\t"
     ]
    }
   ],
   "source": [
    "for i in range(0,21,2):\n",
    "    print(i,end=\"\\t\")"
   ]
  },
  {
   "cell_type": "code",
   "execution_count": 14,
   "metadata": {},
   "outputs": [
    {
     "name": "stdout",
     "output_type": "stream",
     "text": [
      "20\t19\t18\t17\t16\t15\t14\t13\t12\t11\t10\t9\t8\t7\t6\t5\t4\t3\t2\t1\t"
     ]
    }
   ],
   "source": [
    "for i in range(20,0,-1):\n",
    "    print(i,end=\"\\t\")"
   ]
  },
  {
   "cell_type": "code",
   "execution_count": 15,
   "metadata": {},
   "outputs": [
    {
     "name": "stdout",
     "output_type": "stream",
     "text": [
      "20\t18\t16\t14\t12\t10\t8\t6\t4\t2\t"
     ]
    }
   ],
   "source": [
    "for i in range(20,0,-2):\n",
    "    print(i,end=\"\\t\")"
   ]
  },
  {
   "cell_type": "code",
   "execution_count": 16,
   "metadata": {},
   "outputs": [
    {
     "name": "stdout",
     "output_type": "stream",
     "text": [
      "p\tr\to\tg\tr\ta\tm\tm\ti\tn\tg\t"
     ]
    }
   ],
   "source": [
    "for i in \"programming\":\n",
    "    print(i,end=\"\\t\")"
   ]
  },
  {
   "cell_type": "code",
   "execution_count": 18,
   "metadata": {},
   "outputs": [
    {
     "name": "stdout",
     "output_type": "stream",
     "text": [
      "112\t114\t111\t71\t82\t65\t77\t109\t105\t110\t103\t"
     ]
    }
   ],
   "source": [
    "for i in \"proGRAMming\":\n",
    "    print(ord(i),end=\"\\t\")"
   ]
  },
  {
   "cell_type": "code",
   "execution_count": 19,
   "metadata": {},
   "outputs": [
    {
     "name": "stdout",
     "output_type": "stream",
     "text": [
      "P\tR\tO\tG\tR\tA\tM\tM\tI\tN\tG\t"
     ]
    }
   ],
   "source": [
    "for i in \"programming\":\n",
    "    print(chr(ord(i)-32),end=\"\\t\")"
   ]
  },
  {
   "cell_type": "code",
   "execution_count": 21,
   "metadata": {},
   "outputs": [
    {
     "name": "stdout",
     "output_type": "stream",
     "text": [
      "1\t2\t3\t4\t5\t6\t"
     ]
    }
   ],
   "source": [
    "for i in [1,2,3,4,5,6]:\n",
    "    print(i,end=\"\\t\")"
   ]
  },
  {
   "cell_type": "code",
   "execution_count": 22,
   "metadata": {},
   "outputs": [
    {
     "name": "stdout",
     "output_type": "stream",
     "text": [
      "Enter a number : 9\n",
      "9  x  1  =  9\n",
      "9  x  2  =  18\n",
      "9  x  3  =  27\n",
      "9  x  4  =  36\n",
      "9  x  5  =  45\n",
      "9  x  6  =  54\n",
      "9  x  7  =  63\n",
      "9  x  8  =  72\n",
      "9  x  9  =  81\n",
      "9  x  10  =  90\n"
     ]
    }
   ],
   "source": [
    "a = int(input(\"Enter a number : \"))  # int() converts anu str number into integer format\n",
    "for i in range(1,11):\n",
    "    print(a,\" x \",i,\" = \",(a*i))\n",
    "    "
   ]
  },
  {
   "cell_type": "code",
   "execution_count": 25,
   "metadata": {},
   "outputs": [
    {
     "name": "stdout",
     "output_type": "stream",
     "text": [
      "Enter a number a : 10\n",
      "Enter a number b : 20\n",
      "10\t20\t30\t40\t50\t60\t70\t80\t90\t100\t\n",
      "11\t22\t33\t44\t55\t66\t77\t88\t99\t110\t\n",
      "12\t24\t36\t48\t60\t72\t84\t96\t108\t120\t\n",
      "13\t26\t39\t52\t65\t78\t91\t104\t117\t130\t\n",
      "14\t28\t42\t56\t70\t84\t98\t112\t126\t140\t\n",
      "15\t30\t45\t60\t75\t90\t105\t120\t135\t150\t\n",
      "16\t32\t48\t64\t80\t96\t112\t128\t144\t160\t\n",
      "17\t34\t51\t68\t85\t102\t119\t136\t153\t170\t\n",
      "18\t36\t54\t72\t90\t108\t126\t144\t162\t180\t\n",
      "19\t38\t57\t76\t95\t114\t133\t152\t171\t190\t\n",
      "20\t40\t60\t80\t100\t120\t140\t160\t180\t200\t\n"
     ]
    }
   ],
   "source": [
    "a = int(input(\"Enter a number a : \")) \n",
    "b = int(input(\"Enter a number b : \")) \n",
    "\n",
    "for i in range(a,b+1):    # nested loops \n",
    "    for j in range(1,11):     # life cycle of inner for loop depends on outer loop\n",
    "        print(i*j,end=\"\\t\")\n",
    "    print()\n",
    "            \n",
    "            \n",
    "            "
   ]
  },
  {
   "cell_type": "code",
   "execution_count": 27,
   "metadata": {},
   "outputs": [
    {
     "name": "stdout",
     "output_type": "stream",
     "text": [
      "Enter a number a : 1\n",
      "Enter a number a : 2\n",
      "Enter a number a : 3\n",
      "Enter a number a : 4\n",
      "Enter a number a : 5\n",
      "Enter a number a : 6\n",
      "Enter a number a : 7\n",
      "Enter a number a : 8\n",
      "Enter a number a : 9\n",
      "Enter a number a : 10\n",
      "Sum of all these numbers :  55\n"
     ]
    }
   ],
   "source": [
    "\n",
    "s = 0\n",
    "for i in range(1,11):  \n",
    "    a = int(input(\"Enter a number a : \")) \n",
    "    s = s + a\n",
    "    \n",
    "print(\"Sum of all these numbers : \",s)\n",
    "    \n",
    "    "
   ]
  },
  {
   "cell_type": "code",
   "execution_count": null,
   "metadata": {},
   "outputs": [],
   "source": [
    "#while( true ):\n",
    "# logic\n",
    "\n"
   ]
  },
  {
   "cell_type": "code",
   "execution_count": 29,
   "metadata": {},
   "outputs": [
    {
     "name": "stdout",
     "output_type": "stream",
     "text": [
      "0 1 2 3 4 5 6 7 8 9 10 "
     ]
    }
   ],
   "source": [
    "i=0\n",
    "while(i<=10):\n",
    "    print(i,end=\" \")    \n",
    "    i=i+1\n",
    "    \n",
    "    "
   ]
  },
  {
   "cell_type": "code",
   "execution_count": 30,
   "metadata": {},
   "outputs": [
    {
     "name": "stdout",
     "output_type": "stream",
     "text": [
      "0 2 4 6 8 10 "
     ]
    }
   ],
   "source": [
    "i=0\n",
    "while(i<=10):\n",
    "    print(i,end=\" \")    \n",
    "    i=i+2"
   ]
  },
  {
   "cell_type": "code",
   "execution_count": 31,
   "metadata": {},
   "outputs": [
    {
     "name": "stdout",
     "output_type": "stream",
     "text": [
      "Enter a number a : 23\n",
      "Enter a number a : 45\n",
      "Enter a number a : 23\n",
      "Enter a number a : 67\n",
      "Enter a number a : 78\n",
      "Enter a number a : 900\n",
      "Enter a number a : 43\n",
      "Enter a number a : 54\n",
      "Enter a number a : 69\n",
      "Enter a number a : 29\n",
      "Enter a number a : 70\n",
      "Large number:  900\n"
     ]
    }
   ],
   "source": [
    "i=0\n",
    "temp=0\n",
    "while(i<=10):\n",
    "    a = int(input(\"Enter /a number a : \"))    \n",
    "    if temp < a :\n",
    "        temp = a\n",
    "    \n",
    "    i = i + 1\n",
    "    \n",
    "    \n",
    "print(\"Large number: \",temp)            "
   ]
  },
  {
   "cell_type": "code",
   "execution_count": 32,
   "metadata": {},
   "outputs": [
    {
     "name": "stdout",
     "output_type": "stream",
     "text": [
      "Enter a number a : 89\n",
      "Enter a number a : 67\n",
      "Enter a number a : 56\n",
      "Enter a number a : 34\n",
      "Enter a number a : 0\n",
      "Enter a number a : 67\n",
      "Enter a number a : 45\n",
      "Enter a number a : -3\n",
      "Enter a number a : 74\n",
      "Enter a number a : 890\n",
      "Enter a number a : 545\n",
      "Small number:  -3\n"
     ]
    }
   ],
   "source": [
    "i=0\n",
    "temp=999999\n",
    "while(i<=10):\n",
    "    a = int(input(\"Enter a number a : \"))    \n",
    "    if temp > a :\n",
    "        temp = a\n",
    "    \n",
    "    i = i + 1\n",
    "    \n",
    "    \n",
    "print(\"Small number: \",temp)  "
   ]
  },
  {
   "cell_type": "code",
   "execution_count": null,
   "metadata": {},
   "outputs": [],
   "source": [
    "#if true:\n",
    "#    true logic \n",
    "#else:\n",
    "#    false logic\n",
    "\n"
   ]
  },
  {
   "cell_type": "code",
   "execution_count": 33,
   "metadata": {},
   "outputs": [
    {
     "name": "stdout",
     "output_type": "stream",
     "text": [
      "Enter a number a : 2\n",
      "Enter a number b : 3\n",
      "b is greater\n"
     ]
    }
   ],
   "source": [
    "a = int(input(\"Enter a number a : \")) \n",
    "b = int(input(\"Enter a number b : \")) \n",
    "\n",
    "if a==b:\n",
    "    print(\"Equals\")\n",
    "else:\n",
    "    if a > b:\n",
    "        print(\"a is greater\")\n",
    "    else:\n",
    "        print(\"b is greater\")\n",
    "        \n",
    "\n"
   ]
  },
  {
   "cell_type": "code",
   "execution_count": 34,
   "metadata": {},
   "outputs": [
    {
     "name": "stdout",
     "output_type": "stream",
     "text": [
      "Enter a number a : 4\n",
      "Enter a number b : 3\n",
      "a is greater\n"
     ]
    }
   ],
   "source": [
    "a = int(input(\"Enter a number a : \")) \n",
    "b = int(input(\"Enter a number b : \")) \n",
    "\n",
    "if a==b:\n",
    "    print(\"Equals\")\n",
    "elif a > b:\n",
    "    print(\"a is greater\")\n",
    "else:\n",
    "    print(\"b is greater\")"
   ]
  },
  {
   "cell_type": "code",
   "execution_count": null,
   "metadata": {},
   "outputs": [],
   "source": [
    "'''\n",
    "Q1: enter 3 numbers and find out which is greater\n",
    "Q2: reverse a enter number of n digits\n",
    "Q3: print factorial of enter number\n",
    "Q4: print whether enter number is Prime or Composite\n",
    "\n",
    "'''\n"
   ]
  },
  {
   "cell_type": "code",
   "execution_count": 2,
   "metadata": {},
   "outputs": [
    {
     "name": "stdout",
     "output_type": "stream",
     "text": [
      "0 1 2 3 4 after this loop....\n"
     ]
    }
   ],
   "source": [
    "i=0\n",
    "while i<=10:\n",
    "    if i==5:\n",
    "        break\n",
    "    \n",
    "    print(i,end=\" \")\n",
    "    i+=1\n",
    "    \n",
    "print(\"after this loop....\")\n",
    "\n",
    "    "
   ]
  },
  {
   "cell_type": "code",
   "execution_count": 4,
   "metadata": {},
   "outputs": [
    {
     "name": "stdout",
     "output_type": "stream",
     "text": [
      "1 2 3 4 6 7 8 9 10 11 \n",
      "after this loop....\n"
     ]
    }
   ],
   "source": [
    "i=0\n",
    "while i<=10:\n",
    "    i+=1\n",
    "    \n",
    "    if i==5:\n",
    "        continue\n",
    "    \n",
    "    print(i,end=\" \")\n",
    "  \n",
    "    \n",
    "print(\"\\nafter this loop....\")"
   ]
  },
  {
   "cell_type": "code",
   "execution_count": null,
   "metadata": {},
   "outputs": [],
   "source": [
    "#functions - these are reusables modules / subroutines \n",
    "'''\n",
    "    def funcname(argument list):\n",
    "        ''' docstring  '''\n",
    "        \n",
    "        logic\n",
    "        \n",
    "        return result / tuple of more than result\n",
    "        \n",
    "arguments / paramaters\n",
    "TYPES of functions:\n",
    "\n",
    "1: general functions\n",
    "2: recursive functions\n",
    "3: lambda functions\n",
    "4: generator functions\n",
    "5: decorator functions\n",
    "6: nested functions\n",
    "        \n",
    "'''\n"
   ]
  },
  {
   "cell_type": "code",
   "execution_count": 6,
   "metadata": {},
   "outputs": [
    {
     "name": "stdout",
     "output_type": "stream",
     "text": [
      "Hello\n",
      "Help on function func in module __main__:\n",
      "\n",
      "func()\n",
      "    this is a general function......\n",
      "\n"
     ]
    }
   ],
   "source": [
    "def func():\n",
    "    ''' this is a general function......'''    \n",
    "    print(\"Hello\")\n",
    "    \n",
    "    \n",
    "func()  \n",
    "\n",
    "help(func)\n",
    "    \n",
    "    "
   ]
  },
  {
   "cell_type": "code",
   "execution_count": 10,
   "metadata": {},
   "outputs": [
    {
     "name": "stdout",
     "output_type": "stream",
     "text": [
      "Help on function add in module __main__:\n",
      "\n",
      "add(a, b)\n",
      "    this is a general add function......\n",
      "\n"
     ]
    }
   ],
   "source": [
    "def add(a,b):   #a,b are arguments\n",
    "    ''' this is a general add function......'''  \n",
    "    return a+b\n",
    "\n",
    "add(2,3)     # 2,3 are parameters\n",
    "help(add)"
   ]
  },
  {
   "cell_type": "code",
   "execution_count": 11,
   "metadata": {},
   "outputs": [
    {
     "name": "stdout",
     "output_type": "stream",
     "text": [
      "enter a number : 5\n",
      "Factorial :  120\n"
     ]
    }
   ],
   "source": [
    "#5*4*3*2*1\n",
    "def factorial(a):\n",
    "    m=1\n",
    "    for i in range(a,0,-1):\n",
    "        m = m * i\n",
    "\n",
    "    return m\n",
    "\n",
    "n = int(input(\"enter a number : \"))\n",
    "print(\"Factorial : \",factorial(n))\n"
   ]
  },
  {
   "cell_type": "code",
   "execution_count": 13,
   "metadata": {},
   "outputs": [
    {
     "name": "stdout",
     "output_type": "stream",
     "text": [
      "enter a number : 9\n",
      "9  x  1  =  9\n",
      "9  x  2  =  18\n",
      "9  x  3  =  27\n",
      "9  x  4  =  36\n",
      "9  x  5  =  45\n",
      "9  x  6  =  54\n",
      "9  x  7  =  63\n",
      "9  x  8  =  72\n",
      "9  x  9  =  81\n",
      "9  x  10  =  90\n"
     ]
    }
   ],
   "source": [
    "# table of a number:\n",
    "def table(a):\n",
    "    for i in range(1,11):\n",
    "        print(a,\" x \",i,\" = \",(a*i))\n",
    "\n",
    "n = int(input(\"enter a number : \"))\n",
    "table(n)      "
   ]
  },
  {
   "cell_type": "code",
   "execution_count": null,
   "metadata": {},
   "outputs": [],
   "source": [
    "#list class\n",
    "\n",
    "'''\n",
    "mutable in nature - can append, update, delete\n",
    "we can store index based objects. \n",
    "hetrogenous or homogenous object can be stored.\n",
    "[]\n",
    "list()\n",
    "\n",
    "\n",
    "'''\n"
   ]
  },
  {
   "cell_type": "code",
   "execution_count": 14,
   "metadata": {},
   "outputs": [
    {
     "name": "stdout",
     "output_type": "stream",
     "text": [
      "<class 'list'>\n",
      "<class 'list'>\n"
     ]
    }
   ],
   "source": [
    "L = []\n",
    "L1=list()\n",
    "print(type(L))\n",
    "print(type(L1))"
   ]
  },
  {
   "cell_type": "code",
   "execution_count": 17,
   "metadata": {},
   "outputs": [
    {
     "name": "stdout",
     "output_type": "stream",
     "text": [
      "<class 'list'>\n",
      "[1, 2, 3, 4, 5, 6, 7, 8, 9, 10, 11, 12, 13, 14, 15, 16, 17, 18, 19, 20]\n"
     ]
    }
   ],
   "source": [
    "L=list(range(1,21))  # homogenous in nature - coz all objects are integer\n",
    "print(type(L))\n",
    "print(L)"
   ]
  },
  {
   "cell_type": "markdown",
   "metadata": {},
   "source": [
    " L=[89.9,56,98,12,\"program\",]"
   ]
  },
  {
   "cell_type": "code",
   "execution_count": 18,
   "metadata": {},
   "outputs": [
    {
     "name": "stdout",
     "output_type": "stream",
     "text": [
      "[89.9, 56, 'program', 98, 12, 'program', 'hello', 890, 654, 78.9, 'hello']\n"
     ]
    }
   ],
   "source": [
    "L=[89.9,56,\"program\",98,12,\"program\",\"hello\",890,654,78.90,\"hello\"]\n",
    "print(L)"
   ]
  },
  {
   "cell_type": "code",
   "execution_count": 34,
   "metadata": {},
   "outputs": [
    {
     "name": "stdout",
     "output_type": "stream",
     "text": [
      "210\n",
      "20\n",
      "1\n",
      "[20, 19, 18, 17, 16, 15, 14, 13, 12, 11, 10, 9, 8, 7, 6, 5, 4, 3, 2, 1]\n"
     ]
    }
   ],
   "source": [
    "L=list(range(1,21))\n",
    "print(sum(L))\n",
    "print(max(L))\n",
    "print(min(L))\n",
    "print(sorted(L,reverse=True))\n"
   ]
  },
  {
   "cell_type": "code",
   "execution_count": 31,
   "metadata": {},
   "outputs": [
    {
     "name": "stdout",
     "output_type": "stream",
     "text": [
      "1.2.3.4\n"
     ]
    }
   ],
   "source": [
    "a,b,c,d=1,2,3,4\n",
    "print(a,b,c,d,sep=\".\")"
   ]
  },
  {
   "cell_type": "code",
   "execution_count": 35,
   "metadata": {},
   "outputs": [
    {
     "name": "stdout",
     "output_type": "stream",
     "text": [
      "['z', 'w', 'v', 'r', 'p', 'm', 'd', 'b', 'a']\n"
     ]
    }
   ],
   "source": [
    "L=['a','v','r','w','p',\"b\",\"z\",\"m\",\"d\"]\n",
    "print(sorted(L,reverse=True))"
   ]
  },
  {
   "cell_type": "markdown",
   "metadata": {},
   "source": [
    "##### L=['apple','van','rope','well','pip',\"boy\",\"zee\",\"mango\",\"dog\"]"
   ]
  },
  {
   "cell_type": "code",
   "execution_count": 38,
   "metadata": {},
   "outputs": [
    {
     "name": "stdout",
     "output_type": "stream",
     "text": [
      "['zee', 'william', 'well', 'van', 'rope', 'pip', 'mango', 'dog', 'boy', 'apple']\n"
     ]
    }
   ],
   "source": [
    "L=['apple','van','rope','well',\"william\",'pip',\"boy\",\"zee\",\"mango\",\"dog\"]\n",
    "print(sorted(L,reverse=True))"
   ]
  },
  {
   "cell_type": "code",
   "execution_count": 39,
   "metadata": {},
   "outputs": [
    {
     "name": "stdout",
     "output_type": "stream",
     "text": [
      "['apple', 'boy', 'dog', 'mango', 'pip', 'rope', 'van', 'well', 'william', 'zee']\n"
     ]
    }
   ],
   "source": [
    "L=['apple','van','rope','well',\"william\",'pip',\"boy\",\"zee\",\"mango\",\"dog\"]\n",
    "print(sorted(L))"
   ]
  },
  {
   "cell_type": "code",
   "execution_count": 44,
   "metadata": {},
   "outputs": [
    {
     "name": "stdout",
     "output_type": "stream",
     "text": [
      "['apple', 'van', 'rope', 'well', 'william', 'pip', 'boy', 'zee', 'mango', 'dog']\n",
      "well\n",
      "WELLS\n",
      "['apple', 'van', 'rope', 'WELLS', 'william', 'pip', 'boy', 'zee', 'mango', 'dog']\n"
     ]
    }
   ],
   "source": [
    "#indexing \n",
    "L=['apple','van','rope','well',\"william\",'pip',\"boy\",\"zee\",\"mango\",\"dog\"]\n",
    "print(L)\n",
    "print(L[3])\n",
    "L[3]=\"WELLS\"\n",
    "print(L[3])\n",
    "print(L)\n"
   ]
  },
  {
   "cell_type": "code",
   "execution_count": 50,
   "metadata": {},
   "outputs": [
    {
     "name": "stdout",
     "output_type": "stream",
     "text": [
      "['well', 'william', 'pip', 'boy', 'zee']\n",
      "['apple', 'rope', 'william', 'boy', 'mango']\n",
      "10\n",
      "['dog', 'mango', 'zee', 'boy', 'pip', 'william', 'well', 'rope', 'van', 'apple']\n",
      "['apple', 'van', 'rope', 'well', 'william', 'pip', 'boy', 'zee', 'mango', 'dog']\n"
     ]
    }
   ],
   "source": [
    "#slicing  (: operator) L[start:end:step]\n",
    "L=['apple','van','rope','well',\"william\",'pip',\"boy\",\"zee\",\"mango\",\"dog\"]\n",
    "#    0        1     2      3      4         5     6     7     8      9\n",
    "#   -10      -9     -8    -7      -6        -5   -4    -3   -2     -1\n",
    "\n",
    "print(L[3:8])\n",
    "print(L[::2])\n",
    "print(len(L))\n",
    "print(L[::-1])\n",
    "print(L[::1])\n"
   ]
  },
  {
   "cell_type": "code",
   "execution_count": 54,
   "metadata": {},
   "outputs": [
    {
     "name": "stdout",
     "output_type": "stream",
     "text": [
      "['william', 'pip', 'boy', 'zee', 'mango']\n",
      "['dog', 'mango', 'zee', 'boy', 'pip', 'william', 'well']\n",
      "['mango', 'zee', 'boy', 'pip']\n"
     ]
    }
   ],
   "source": [
    "L=['apple','van','rope','well',\"william\",'pip',\"boy\",\"zee\",\"mango\",\"dog\"]\n",
    "print(L[4:9])\n",
    "print(L[9:2:-1])\n",
    "print(L[8:4:-1])\n"
   ]
  },
  {
   "cell_type": "code",
   "execution_count": 57,
   "metadata": {},
   "outputs": [
    {
     "name": "stdout",
     "output_type": "stream",
     "text": [
      "['apple', 'van', 'rope', 'well', 'william', 'pip', 'boy', 'zee', 'mango', 'dog', 'orange']\n",
      "['apple', 'van', 'rope', 'well', 'william', 'pip', 'boy', 'zee', 'mango', 'dog', 'orange', ['a', 'e', 'i', 'o', 'u']]\n"
     ]
    }
   ],
   "source": [
    "#insertion - append(),extend(),insert()\n",
    "L=['apple','van','rope','well',\"william\",'pip',\"boy\",\"zee\",\"mango\",\"dog\"]\n",
    "L.append(\"orange\")\n",
    "print(L)\n",
    "\n",
    "L1=['a','e','i','o','u']\n",
    "\n",
    "L.append(L1)\n",
    "print(L)\n",
    "\n"
   ]
  },
  {
   "cell_type": "code",
   "execution_count": 59,
   "metadata": {},
   "outputs": [
    {
     "name": "stdout",
     "output_type": "stream",
     "text": [
      "['apple', 'van', 'rope', 'well', 'william', 'pip', 'boy', 'zee', 'mango', 'dog', 'orange', ['a', 'e', 'i', 'o', 'u'], 'p', 'l', 'u', 'm', 'p', 'l', 'u', 'm']\n"
     ]
    }
   ],
   "source": [
    "L.extend(\"plum\")\n",
    "print(L)"
   ]
  },
  {
   "cell_type": "code",
   "execution_count": 60,
   "metadata": {},
   "outputs": [
    {
     "ename": "TypeError",
     "evalue": "'int' object is not iterable",
     "output_type": "error",
     "traceback": [
      "\u001b[1;31m---------------------------------------------------------------------------\u001b[0m",
      "\u001b[1;31mTypeError\u001b[0m                                 Traceback (most recent call last)",
      "\u001b[1;32m<ipython-input-60-0c3294822a93>\u001b[0m in \u001b[0;36m<module>\u001b[1;34m()\u001b[0m\n\u001b[1;32m----> 1\u001b[1;33m \u001b[0mL\u001b[0m\u001b[1;33m.\u001b[0m\u001b[0mextend\u001b[0m\u001b[1;33m(\u001b[0m\u001b[1;36m900\u001b[0m\u001b[1;33m)\u001b[0m\u001b[1;33m\u001b[0m\u001b[0m\n\u001b[0m",
      "\u001b[1;31mTypeError\u001b[0m: 'int' object is not iterable"
     ]
    }
   ],
   "source": [
    "L.extend(900)"
   ]
  },
  {
   "cell_type": "code",
   "execution_count": 61,
   "metadata": {},
   "outputs": [],
   "source": [
    "L.extend([1,2,3,4])"
   ]
  },
  {
   "cell_type": "code",
   "execution_count": 62,
   "metadata": {},
   "outputs": [
    {
     "name": "stdout",
     "output_type": "stream",
     "text": [
      "['apple', 'van', 'rope', 'well', 'william', 'pip', 'boy', 'zee', 'mango', 'dog', 'orange', ['a', 'e', 'i', 'o', 'u'], 'p', 'l', 'u', 'm', 'p', 'l', 'u', 'm', 1, 2, 3, 4]\n"
     ]
    }
   ],
   "source": [
    "print(L)"
   ]
  },
  {
   "cell_type": "code",
   "execution_count": 66,
   "metadata": {},
   "outputs": [
    {
     "name": "stdout",
     "output_type": "stream",
     "text": [
      "['apple', 900, 900, 'van', 'rope', 'well', 'william', 'pip', 'boy', 'zee', 'mango', 'dog', 'orange', ['a', 'e', 'i', 'o', 'u'], 'p', 'l', 'u', 'm', 'p', 'l', 'u', 'm', 1, 2, 3, 4, 1]\n",
      "['apple', 900, 'hello', 900, 'van', 'rope', 'well', 'william', 'pip', 'boy', 'zee', 'mango', 'dog', 'orange', ['a', 'e', 'i', 'o', 'u'], 'p', 'l', 'u', 'm', 'p', 'l', 'u', 'm', 1, 2, 3, 4, 1]\n"
     ]
    }
   ],
   "source": [
    "L.insert(1,900) # 1 index id, 900 value\n",
    "print(L)\n",
    "L.insert(2,\"hello\")\n",
    "print(L)"
   ]
  },
  {
   "cell_type": "code",
   "execution_count": 71,
   "metadata": {},
   "outputs": [
    {
     "name": "stdout",
     "output_type": "stream",
     "text": [
      "[10, 20, 30, 40, 50, 60, 70, 80, 90, 100]\n",
      "[10, 20, 30, 50, 60, 70, 80, 90, 100]\n",
      "[]\n"
     ]
    }
   ],
   "source": [
    "# remove -  del , pop(), remove(),clear()\n",
    "L=list(range(10,110,10))\n",
    "print(L)\n",
    "del L[3]\n",
    "print(L)\n",
    "\n",
    "L.clear()\n",
    "print(L)"
   ]
  },
  {
   "cell_type": "code",
   "execution_count": 73,
   "metadata": {},
   "outputs": [
    {
     "name": "stdout",
     "output_type": "stream",
     "text": [
      "[10, 20, 30, 40, 50, 60, 70, 80, 90, 100]\n",
      "[10, 20, 30, 70, 80, 90, 100]\n"
     ]
    },
    {
     "ename": "NameError",
     "evalue": "name 'L' is not defined",
     "output_type": "error",
     "traceback": [
      "\u001b[1;31m---------------------------------------------------------------------------\u001b[0m",
      "\u001b[1;31mNameError\u001b[0m                                 Traceback (most recent call last)",
      "\u001b[1;32m<ipython-input-73-ad13e299dd49>\u001b[0m in \u001b[0;36m<module>\u001b[1;34m()\u001b[0m\n\u001b[0;32m      4\u001b[0m \u001b[0mprint\u001b[0m\u001b[1;33m(\u001b[0m\u001b[0mL\u001b[0m\u001b[1;33m)\u001b[0m\u001b[1;33m\u001b[0m\u001b[0m\n\u001b[0;32m      5\u001b[0m \u001b[1;32mdel\u001b[0m \u001b[0mL\u001b[0m\u001b[1;33m\u001b[0m\u001b[0m\n\u001b[1;32m----> 6\u001b[1;33m \u001b[0mprint\u001b[0m\u001b[1;33m(\u001b[0m\u001b[0mL\u001b[0m\u001b[1;33m)\u001b[0m\u001b[1;33m\u001b[0m\u001b[0m\n\u001b[0m\u001b[0;32m      7\u001b[0m \u001b[1;33m\u001b[0m\u001b[0m\n",
      "\u001b[1;31mNameError\u001b[0m: name 'L' is not defined"
     ]
    }
   ],
   "source": [
    "L=list(range(10,110,10))\n",
    "print(L)\n",
    "del L[3:6]\n",
    "print(L)\n",
    "del L\n",
    "print(L)\n",
    "\n"
   ]
  },
  {
   "cell_type": "code",
   "execution_count": 1,
   "metadata": {},
   "outputs": [
    {
     "name": "stdout",
     "output_type": "stream",
     "text": [
      "[10, 20, 30, 40, 50, 60, 70, 80, 90, 100]\n",
      "[10, 20, 30, 40, 50, 60, 70, 80, 90]\n",
      "[10, 20, 30, 50, 60, 70, 80, 90]\n"
     ]
    }
   ],
   "source": [
    "L=list(range(10,110,10))\n",
    "print(L)\n",
    "\n",
    "L.pop()  # LIFO \n",
    "print(L)\n",
    "\n",
    "L.pop(3)  # 3 is the index number\n",
    "print(L)"
   ]
  },
  {
   "cell_type": "code",
   "execution_count": 6,
   "metadata": {},
   "outputs": [
    {
     "name": "stdout",
     "output_type": "stream",
     "text": [
      "[10, 20, 30, 40, 50, 60, 70, 80, 90, 100]\n",
      "[10, 20, 40, 50, 60, 70, 80, 90, 100]\n"
     ]
    }
   ],
   "source": [
    "L=list(range(10,110,10))\n",
    "print(L)\n",
    "L.remove(30) #integer object value\n",
    "print(L)"
   ]
  },
  {
   "cell_type": "code",
   "execution_count": 9,
   "metadata": {},
   "outputs": [
    {
     "name": "stdout",
     "output_type": "stream",
     "text": [
      "['apple', 'van', 'rope', 'well', 'william', 'pip', 'boy', 'zee', 'well', 'mango', 'dog', 'orange']\n"
     ]
    }
   ],
   "source": [
    "L=['apple', 'van', 'well','rope', 'well', 'william', 'pip', 'boy', 'zee','well', 'mango', 'dog', 'orange']\n",
    "L.remove(\"well\")\n",
    "print(L)\n"
   ]
  },
  {
   "cell_type": "code",
   "execution_count": 12,
   "metadata": {},
   "outputs": [
    {
     "name": "stdout",
     "output_type": "stream",
     "text": [
      "[1, 2, 3, 4]\n",
      "[1, 2, 3, 4]\n",
      "[1, 2, 900, 4]\n",
      "[1, 2, 3, 4]\n"
     ]
    }
   ],
   "source": [
    "#deep copy  -  values get copied from index ids to another\n",
    "# shallow copy - address location get copied  from one list to another\n",
    "L=[1,2,3,4]\n",
    "L1 = L.copy()  # deep copy\n",
    "\n",
    "print(L)\n",
    "print(L1)\n",
    "\n",
    "L[2]=900\n",
    "\n",
    "print(L)\n",
    "print(L1)\n",
    "\n"
   ]
  },
  {
   "cell_type": "code",
   "execution_count": 13,
   "metadata": {},
   "outputs": [
    {
     "name": "stdout",
     "output_type": "stream",
     "text": [
      "[1, 2, 3, 4]\n",
      "[1, 2, 3, 4]\n",
      "[1, 2, 900, 4]\n",
      "[1, 2, 900, 4]\n"
     ]
    }
   ],
   "source": [
    "L=[1,2,3,4]\n",
    "L1 = L  #shallow copy\n",
    "\n",
    "print(L)\n",
    "print(L1)\n",
    "\n",
    "L[2]=900\n",
    "\n",
    "print(L)\n",
    "print(L1)"
   ]
  },
  {
   "cell_type": "code",
   "execution_count": 17,
   "metadata": {},
   "outputs": [
    {
     "name": "stdout",
     "output_type": "stream",
     "text": [
      "3\n",
      "9\n"
     ]
    }
   ],
   "source": [
    "L=['apple', 'van', 'well','rope', 'well', 'william', 'pip', 'boy', 'zee','well', 'mango', 'dog', 'orange']\n",
    "print(L.count(\"well\"))\n",
    "print(L.index(\"well\",5)) #5 is the index from where searching get started"
   ]
  },
  {
   "cell_type": "code",
   "execution_count": 20,
   "metadata": {},
   "outputs": [
    {
     "data": {
      "text/plain": [
       "3"
      ]
     },
     "execution_count": 20,
     "metadata": {},
     "output_type": "execute_result"
    }
   ],
   "source": [
    "L.index(\"rope\")"
   ]
  },
  {
   "cell_type": "code",
   "execution_count": 24,
   "metadata": {},
   "outputs": [
    {
     "name": "stdout",
     "output_type": "stream",
     "text": [
      "['apple', 'boy', 'dog', 'mango', 'orange', 'pip', 'rope', 'van', 'well', 'well', 'well', 'william', 'zee']\n",
      "['zee', 'william', 'well', 'well', 'well', 'van', 'rope', 'pip', 'orange', 'mango', 'dog', 'boy', 'apple']\n"
     ]
    }
   ],
   "source": [
    "L.sort()\n",
    "print(L)\n",
    "L.reverse()\n",
    "print(L)"
   ]
  },
  {
   "cell_type": "code",
   "execution_count": 27,
   "metadata": {},
   "outputs": [
    {
     "name": "stdout",
     "output_type": "stream",
     "text": [
      "zee\twilliam\twell\twell\twell\tvan\trope\tpip\torange\tmango\tdog\tboy\tapple\t"
     ]
    }
   ],
   "source": [
    "#List comprehension\n",
    "for i in L:\n",
    "    print(i,end=\"\\t\")\n"
   ]
  },
  {
   "cell_type": "code",
   "execution_count": null,
   "metadata": {},
   "outputs": [],
   "source": [
    "'''\n",
    "\n",
    "    [ expression/condition-if-else     forloop     ifcondition ]\n",
    "                3                         1            2\n",
    "    [i  for i in L]\n",
    "    \n",
    "    it returns a list\n",
    "\n",
    "'''"
   ]
  },
  {
   "cell_type": "code",
   "execution_count": 28,
   "metadata": {},
   "outputs": [
    {
     "data": {
      "text/plain": [
       "[1, 2, 3, 4, 5, 6, 7, 8, 9, 10]"
      ]
     },
     "execution_count": 28,
     "metadata": {},
     "output_type": "execute_result"
    }
   ],
   "source": [
    "L=list(range(1,11))\n",
    "[i for i in L]"
   ]
  },
  {
   "cell_type": "code",
   "execution_count": 29,
   "metadata": {},
   "outputs": [
    {
     "name": "stdout",
     "output_type": "stream",
     "text": [
      "1\n",
      "2\n",
      "3\n",
      "4\n",
      "5\n",
      "6\n",
      "7\n",
      "8\n",
      "9\n",
      "10\n"
     ]
    },
    {
     "data": {
      "text/plain": [
       "[None, None, None, None, None, None, None, None, None, None]"
      ]
     },
     "execution_count": 29,
     "metadata": {},
     "output_type": "execute_result"
    }
   ],
   "source": [
    "L=list(range(1,11))\n",
    "[print(i) for i in L]"
   ]
  },
  {
   "cell_type": "code",
   "execution_count": 30,
   "metadata": {},
   "outputs": [
    {
     "name": "stdout",
     "output_type": "stream",
     "text": [
      "1\n",
      "2\n",
      "3\n",
      "4\n",
      "5\n",
      "6\n",
      "7\n",
      "8\n",
      "9\n",
      "10\n"
     ]
    }
   ],
   "source": [
    "L=list(range(1,11))\n",
    "X = [print(i) for i in L]\n"
   ]
  },
  {
   "cell_type": "code",
   "execution_count": 32,
   "metadata": {},
   "outputs": [
    {
     "name": "stdout",
     "output_type": "stream",
     "text": [
      "*\n",
      "**\n",
      "***\n",
      "****\n",
      "*****\n"
     ]
    }
   ],
   "source": [
    "X=[print(\"*\"*i) for i in range(1,6)]"
   ]
  },
  {
   "cell_type": "code",
   "execution_count": 33,
   "metadata": {},
   "outputs": [
    {
     "name": "stdout",
     "output_type": "stream",
     "text": [
      "     *\n",
      "    **\n",
      "   ***\n",
      "  ****\n",
      " *****\n"
     ]
    }
   ],
   "source": [
    "j=5\n",
    "X=[print(\" \"*(j-i),\"*\"*i) for i in range(1,6)]"
   ]
  },
  {
   "cell_type": "code",
   "execution_count": 34,
   "metadata": {},
   "outputs": [
    {
     "name": "stdout",
     "output_type": "stream",
     "text": [
      "*****\n",
      "****\n",
      "***\n",
      "**\n",
      "*\n"
     ]
    }
   ],
   "source": [
    "X=[print(\"*\"*i) for i in range(5,0,-1)]"
   ]
  },
  {
   "cell_type": "code",
   "execution_count": 35,
   "metadata": {},
   "outputs": [
    {
     "name": "stdout",
     "output_type": "stream",
     "text": [
      " *****\n",
      "  ****\n",
      "   ***\n",
      "    **\n",
      "     *\n"
     ]
    }
   ],
   "source": [
    "j=5\n",
    "X=[print(\" \"*(j-i),\"*\"*i) for i in range(5,0,-1)]"
   ]
  },
  {
   "cell_type": "code",
   "execution_count": null,
   "metadata": {},
   "outputs": [],
   "source": [
    "'''\n",
    "\n",
    "n=3\n",
    "\n",
    "*\n",
    "***\n",
    "*\n",
    "\n",
    "n=5\n",
    "\n",
    "*\n",
    "***\n",
    "*****\n",
    "***\n",
    "*\n",
    "\n",
    "\n",
    "n=7\n",
    "\n",
    "*\n",
    "***\n",
    "*****\n",
    "*******\n",
    "*****\n",
    "***\n",
    "*\n",
    "\n",
    "\n",
    "Q2: \n",
    "\n",
    "ABCDE\n",
    " ABCD\n",
    "  ABC\n",
    "   AB\n",
    "    A\n",
    "\n",
    "\n",
    "'''"
   ]
  },
  {
   "cell_type": "code",
   "execution_count": 37,
   "metadata": {},
   "outputs": [
    {
     "name": "stdout",
     "output_type": "stream",
     "text": [
      "Enter a number 1 : 2\n",
      "Enter a number 2 : 3\n",
      "b is greater\n"
     ]
    }
   ],
   "source": [
    "#single line if statement\n",
    "#  true_expression if condition else false_expression\n",
    "\n",
    "a = int(input(\"Enter a number 1 : \"))\n",
    "b = int(input(\"Enter a number 2 : \"))\n",
    "\n",
    "x = \"a is greater\" if a>b else \"b is greater\"\n",
    "print(x)\n"
   ]
  },
  {
   "cell_type": "code",
   "execution_count": 40,
   "metadata": {},
   "outputs": [
    {
     "name": "stdout",
     "output_type": "stream",
     "text": [
      "Enter a number 1 : 3\n",
      "Enter a number 2 : 2\n",
      "Enter a number 3 : 1\n",
      "a is greater\n"
     ]
    }
   ],
   "source": [
    "a = int(input(\"Enter a number 1 : \"))\n",
    "b = int(input(\"Enter a number 2 : \"))\n",
    "c = int(input(\"Enter a number 3 : \"))\n",
    "\n",
    "x = \"a is greater\" if a>b and a>c else \"b is greater\" if b>a and b>c else \"c is greater\"\n",
    "print(x)"
   ]
  },
  {
   "cell_type": "code",
   "execution_count": 43,
   "metadata": {},
   "outputs": [
    {
     "name": "stdout",
     "output_type": "stream",
     "text": [
      "[2, 4, 6, 8, 10]\n"
     ]
    }
   ],
   "source": [
    "L = list(range(1,11))\n",
    "x = [i for i in L if i%2==0]\n",
    "print(x)\n"
   ]
  },
  {
   "cell_type": "code",
   "execution_count": 49,
   "metadata": {},
   "outputs": [
    {
     "name": "stdout",
     "output_type": "stream",
     "text": [
      "[10, 15, 20, 25, 30, 35, 40, 45, 50, 55, 60, 65, 70, 75, 80, 85, 90, 95, 100, 105]\n",
      "[15, 25, 35, 45, 55, 65, 75, 85, 95, 105]\n"
     ]
    }
   ],
   "source": [
    "L = list(range(10,110,5))\n",
    "print(L)\n",
    "x = [i for i in L if i%5==0 and i%10!=0]\n",
    "print(x)"
   ]
  },
  {
   "cell_type": "code",
   "execution_count": null,
   "metadata": {},
   "outputs": [],
   "source": []
  },
  {
   "cell_type": "code",
   "execution_count": 52,
   "metadata": {},
   "outputs": [
    {
     "name": "stdout",
     "output_type": "stream",
     "text": [
      "[10, 15, 20, 25, 30, 35, 40, 45, 50, 55, 60, 65, 70, 75, 80, 85, 90, 95, 100, 105]\n",
      "['not', 15, 'not', 25, 'not', 35, 'not', 45, 'not', 55, 'not', 65, 'not', 75, 'not', 85, 'not', 95, 'not', 105]\n"
     ]
    }
   ],
   "source": [
    "L = list(range(10,110,5))\n",
    "print(L)\n",
    "x = [i if i%10!=0 else \"not\" for i in L if i%5==0]\n",
    "print(x)"
   ]
  },
  {
   "cell_type": "code",
   "execution_count": 54,
   "metadata": {},
   "outputs": [
    {
     "name": "stdout",
     "output_type": "stream",
     "text": [
      "['P', 'R', 'O', 'G', 'R', 'A', 'M', 'M', 'I', 'N', 'G']\n"
     ]
    }
   ],
   "source": [
    "x=[chr(ord(i)-32) for i in \"programming\"]\n",
    "print(x)"
   ]
  },
  {
   "cell_type": "code",
   "execution_count": 57,
   "metadata": {},
   "outputs": [
    {
     "name": "stdout",
     "output_type": "stream",
     "text": [
      "PROGRAMMING"
     ]
    }
   ],
   "source": [
    "x=[print(chr(ord(i)-32),end=\"\") for i in \"programming\"]\n"
   ]
  },
  {
   "cell_type": "code",
   "execution_count": 14,
   "metadata": {},
   "outputs": [
    {
     "name": "stdout",
     "output_type": "stream",
     "text": [
      "Enter a number : 1\n",
      "Enter a number : 2\n",
      "Enter a number : 3\n",
      "Enter a number : 4\n",
      "\n",
      "Enter a number : 5\n",
      "Enter a number : 6\n",
      "Enter a number : 7\n",
      "Enter a number : 8\n",
      "\n",
      "Enter a number : 6\n",
      "Enter a number : 7\n",
      "Enter a number : 8\n",
      "Enter a number : 9\n",
      "\n",
      "Enter a number : 7\n",
      "Enter a number : 8\n",
      "Enter a number : 9\n",
      "Enter a number : 10\n",
      "\n",
      "[[1, 2, 3, 4], [5, 6, 7, 8], [6, 7, 8, 9], [7, 8, 9, 10]]\n"
     ]
    }
   ],
   "source": [
    "#create a list of multiple sublist .  Hint-> [ [4,5,6,7],[],[],[] ] internally list contain 4 sublists\n",
    "\n",
    "M=[]\n",
    "for i in range(1,5):\n",
    "    L=[]\n",
    "    for i in range(1,5):\n",
    "        a = int(input(\"Enter a number : \"))\n",
    "        L.append(a)\n",
    "    \n",
    "    M.append(L)\n",
    "    print()\n",
    "print(M)\n",
    "\n",
    "\n"
   ]
  },
  {
   "cell_type": "code",
   "execution_count": 15,
   "metadata": {},
   "outputs": [
    {
     "name": "stdout",
     "output_type": "stream",
     "text": [
      "['boy', 'zee', 'van', 'well', 'william', 'rope', 'pip', 'mango', 'dog', 'orange', 'apple']\n"
     ]
    }
   ],
   "source": [
    "L=['apple', 'van', 'well','rope', 'well', 'william', 'pip', 'boy', 'zee','well', 'mango', 'dog', 'orange']\n",
    "\n",
    "L=list(set(L))\n",
    "print(L)\n"
   ]
  },
  {
   "cell_type": "code",
   "execution_count": null,
   "metadata": {},
   "outputs": [],
   "source": [
    "#tuple\n",
    "'''\n",
    "tuple - immutable - no change( no append, update,delete)\n",
    "homogenous / hetrogenous\n",
    "support slicing and indexing\n",
    "()\n",
    "tuple()\n",
    "\n",
    "'''"
   ]
  },
  {
   "cell_type": "code",
   "execution_count": 58,
   "metadata": {},
   "outputs": [
    {
     "name": "stdout",
     "output_type": "stream",
     "text": [
      "<class 'tuple'>\n",
      "<class 'tuple'>\n"
     ]
    }
   ],
   "source": [
    "T = ()\n",
    "T1=tuple()\n",
    "print(type(T))\n",
    "print(type(T1))"
   ]
  },
  {
   "cell_type": "code",
   "execution_count": 65,
   "metadata": {},
   "outputs": [
    {
     "name": "stdout",
     "output_type": "stream",
     "text": [
      "(1, 2, 3, 4, 5, 6, 7, 8, 9, 10)\n",
      "(1, 2, 3, 4, 5, 6, 7, 8, 9, 10)\n",
      "(1, 2, 3, 4, 5, 6, 7, 8, 9, 10)\n",
      "55\n",
      "10\n",
      "1\n",
      "(10, 9, 8, 7, 6, 5, 4, 3, 2, 1)\n"
     ]
    }
   ],
   "source": [
    "T=tuple(range(1,11))\n",
    "print(T)\n",
    "#del T[1] not supported\n",
    "#T[1]=900 not supported\n",
    "\n",
    "\n",
    "T1=T  # shallow copy\n",
    "\n",
    "print(T)\n",
    "print(T1)\n",
    "\n",
    "\n",
    "print(sum(T))\n",
    "print(max(T))\n",
    "print(min(T))\n",
    "print(tuple(sorted(T,reverse=1)))\n"
   ]
  },
  {
   "cell_type": "code",
   "execution_count": 66,
   "metadata": {},
   "outputs": [
    {
     "name": "stdout",
     "output_type": "stream",
     "text": [
      "('well', 'william', 'pip', 'boy', 'zee')\n",
      "('apple', 'rope', 'william', 'boy', 'mango')\n",
      "10\n",
      "('dog', 'mango', 'zee', 'boy', 'pip', 'william', 'well', 'rope', 'van', 'apple')\n",
      "('apple', 'van', 'rope', 'well', 'william', 'pip', 'boy', 'zee', 'mango', 'dog')\n"
     ]
    }
   ],
   "source": [
    "T=('apple','van','rope','well',\"william\",'pip',\"boy\",\"zee\",\"mango\",\"dog\")\n",
    "\n",
    "print(T[3:8])\n",
    "print(T[::2])\n",
    "print(len(T))\n",
    "print(T[::-1])\n",
    "print(T[::1])\n",
    "\n"
   ]
  },
  {
   "cell_type": "code",
   "execution_count": 67,
   "metadata": {},
   "outputs": [
    {
     "name": "stdout",
     "output_type": "stream",
     "text": [
      "3\n",
      "9\n"
     ]
    }
   ],
   "source": [
    "T=('apple', 'van', 'well','rope', 'well', 'william', 'pip', 'boy', 'zee','well', 'mango', 'dog', 'orange')\n",
    "print(T.count(\"well\"))\n",
    "print(T.index(\"well\",5))"
   ]
  },
  {
   "cell_type": "code",
   "execution_count": null,
   "metadata": {},
   "outputs": [],
   "source": [
    "'''tuple comrehension\n",
    "\n",
    "\n",
    "x = tuple( expression/condition-if-else     forloop     ifcondition)\n",
    "\n",
    "return tuple\n",
    "\n",
    "'''"
   ]
  },
  {
   "cell_type": "code",
   "execution_count": 69,
   "metadata": {},
   "outputs": [
    {
     "name": "stdout",
     "output_type": "stream",
     "text": [
      "(10, 15, 20, 25, 30, 35, 40, 45, 50, 55, 60, 65, 70, 75, 80, 85, 90, 95, 100, 105)\n",
      "(15, 25, 35, 45, 55, 65, 75, 85, 95, 105)\n"
     ]
    }
   ],
   "source": [
    "T = tuple(range(10,110,5))\n",
    "print(T)\n",
    "x = tuple(i for i in L if i%5==0 and i%10!=0)\n",
    "print(x)"
   ]
  },
  {
   "cell_type": "code",
   "execution_count": 8,
   "metadata": {},
   "outputs": [
    {
     "name": "stdout",
     "output_type": "stream",
     "text": [
      "<class 'bytes'>\n",
      "b'\\n\\x14\\x1e(2<'\n",
      "10\n",
      "60\n",
      "10\n",
      "20\n",
      "30\n",
      "40\n",
      "50\n",
      "60\n"
     ]
    }
   ],
   "source": [
    "#bytes represents the group of bytes like an array\n",
    "x=[10,20,30,40,50,60]\n",
    "b = bytes(x)\n",
    "print(type(b))\n",
    "print(b)\n",
    "print(b[0])\n",
    "print(b[-1])\n",
    "\n",
    "#b[2]=900 not supported\n",
    "\n",
    "for i in b: print(i)\n",
    "\n"
   ]
  },
  {
   "cell_type": "code",
   "execution_count": 10,
   "metadata": {},
   "outputs": [
    {
     "name": "stdout",
     "output_type": "stream",
     "text": [
      "<class 'bytearray'>\n",
      "bytearray(b'\\n\\x14\\x1e(2<')\n",
      "10\n",
      "60\n",
      "10\n",
      "20\n",
      "213\n",
      "40\n",
      "50\n",
      "60\n"
     ]
    }
   ],
   "source": [
    "#bytearray represents the group of bytes like an array , can be modified\n",
    "x=[10,20,30,40,50,60]\n",
    "b = bytearray(x)\n",
    "print(type(b))\n",
    "print(b)\n",
    "print(b[0])\n",
    "print(b[-1])\n",
    "\n",
    "b[2]=213\n",
    "\n",
    "for i in b: print(i)\n",
    "    \n",
    "#range class "
   ]
  },
  {
   "cell_type": "code",
   "execution_count": null,
   "metadata": {},
   "outputs": [],
   "source": [
    "#dictionary - key-valye pair set\n",
    "'''\n",
    "key must be unique\n",
    "value can be duplicate\n",
    "{K:V,K:V,K:V,K:V}\n",
    "dict()\n",
    "\n",
    "D[keyname]\n",
    "\n",
    "dict is mutable and the order wont be preserved\n",
    "\n",
    "dictionary comprehension\n",
    "\n",
    "D = {K:V expression/if cond       forloop       if condi}\n",
    "\n",
    "'''"
   ]
  },
  {
   "cell_type": "code",
   "execution_count": 21,
   "metadata": {},
   "outputs": [
    {
     "name": "stdout",
     "output_type": "stream",
     "text": [
      "('a', 'e', 'i', 'o', 'u')\n",
      "[10, 20, 30, 40, 50]\n",
      "150\n",
      "50\n",
      "10\n",
      "['u', 'o', 'i', 'e', 'a']\n"
     ]
    }
   ],
   "source": [
    "D={'a':10,'e':20,'i':30,'o':40,'u':50}\n",
    "print(tuple(D.keys()))\n",
    "print(list(D.values()))\n",
    "\n",
    "M = list(D.values())\n",
    "K = tuple(D.keys())\n",
    "\n",
    "print(sum(M))\n",
    "print(max(M))\n",
    "print(min(M))\n",
    "print(sorted(K,reverse=1))\n",
    "\n"
   ]
  },
  {
   "cell_type": "code",
   "execution_count": 22,
   "metadata": {},
   "outputs": [
    {
     "name": "stdout",
     "output_type": "stream",
     "text": [
      "a 10\n",
      "e 20\n",
      "i 30\n",
      "o 40\n",
      "u 50\n"
     ]
    }
   ],
   "source": [
    "D={'a':10,'e':20,'i':30,'o':40,'u':50}\n",
    "\n",
    "for k,v in D.items():\n",
    "    print(k,v)"
   ]
  },
  {
   "cell_type": "code",
   "execution_count": 23,
   "metadata": {},
   "outputs": [
    {
     "name": "stdout",
     "output_type": "stream",
     "text": [
      "{'country': 'Singapore', 'population': 40}\n",
      "{'country': 'Canada', 'population': 50}\n",
      "{'country': 'USA', 'population': 60}\n",
      "{'country': 'India', 'population': 70}\n"
     ]
    }
   ],
   "source": [
    "T=({'country':'Singapore','population':40},\n",
    "   {'country':'Canada','population':50},\n",
    "   {'country':'USA','population':60},\n",
    "   {'country':'India','population':70})\n",
    "\n",
    "for i in T:\n",
    "    print(i)"
   ]
  },
  {
   "cell_type": "code",
   "execution_count": 25,
   "metadata": {},
   "outputs": [
    {
     "name": "stdout",
     "output_type": "stream",
     "text": [
      "Singapore 40\n",
      "Canada 50\n",
      "USA 60\n",
      "India 70\n"
     ]
    }
   ],
   "source": [
    "for i in T:\n",
    "    print(i['country'],i['population'])"
   ]
  },
  {
   "cell_type": "code",
   "execution_count": 26,
   "metadata": {},
   "outputs": [
    {
     "name": "stdout",
     "output_type": "stream",
     "text": [
      "{}\n"
     ]
    }
   ],
   "source": [
    "D={'a':10,'e':20,'i':30,'o':40,'u':50}\n",
    "D.clear()\n",
    "print(D)"
   ]
  },
  {
   "cell_type": "code",
   "execution_count": 28,
   "metadata": {},
   "outputs": [
    {
     "name": "stdout",
     "output_type": "stream",
     "text": [
      "{'a': 10, 'e': 20, 'i': 30, 'o': 40, 'u': 50}\n",
      "{'a': 10, 'e': 20, 'i': 30, 'o': 40, 'u': 50}\n",
      "{'a': 10, 'e': 20, 'i': 900, 'o': 40, 'u': 50}\n",
      "{'a': 10, 'e': 20, 'i': 30, 'o': 40, 'u': 50}\n"
     ]
    }
   ],
   "source": [
    "D={'a':10,'e':20,'i':30,'o':40,'u':50}\n",
    "D1 = D.copy() # deep copy  \n",
    "\n",
    "print(D)\n",
    "print(D1)\n",
    "\n",
    "D['i']=900\n",
    "\n",
    "print(D)\n",
    "print(D1)\n",
    "\n"
   ]
  },
  {
   "cell_type": "code",
   "execution_count": 29,
   "metadata": {},
   "outputs": [
    {
     "name": "stdout",
     "output_type": "stream",
     "text": [
      "{'a': 10, 'e': 20, 'i': 30, 'o': 40, 'u': 50}\n",
      "{'a': 10, 'e': 20, 'i': 30, 'o': 40, 'u': 50}\n",
      "{'a': 10, 'e': 20, 'i': 900, 'o': 40, 'u': 50}\n",
      "{'a': 10, 'e': 20, 'i': 900, 'o': 40, 'u': 50}\n"
     ]
    }
   ],
   "source": [
    "D={'a':10,'e':20,'i':30,'o':40,'u':50}\n",
    "D1 = D # shallow copy  \n",
    "\n",
    "print(D)\n",
    "print(D1)\n",
    "\n",
    "D['i']=900\n",
    "\n",
    "print(D)\n",
    "print(D1)"
   ]
  },
  {
   "cell_type": "code",
   "execution_count": 36,
   "metadata": {},
   "outputs": [
    {
     "name": "stdout",
     "output_type": "stream",
     "text": [
      "{'p': 900, 'r': 900, 'o': 900, 'g': 900, 'a': 900, 'm': 900}\n"
     ]
    }
   ],
   "source": [
    "# parameter of fromkeys() must be a collection of objects\n",
    "D = D.fromkeys('program',900)\n",
    "print(D)"
   ]
  },
  {
   "cell_type": "code",
   "execution_count": 45,
   "metadata": {},
   "outputs": [
    {
     "name": "stdout",
     "output_type": "stream",
     "text": [
      "Enter new value for p key: 1\n",
      "Enter new value for r key: 2\n",
      "Enter new value for o key: 3\n",
      "Enter new value for g key: 4\n",
      "Enter new value for a key: 5\n",
      "Enter new value for m key: 6\n",
      "Modified Dictionary \n",
      " {'p': 1, 'r': 2, 'o': 3, 'g': 4, 'a': 5, 'm': 6}\n"
     ]
    }
   ],
   "source": [
    "#Q : D={'p': 9090, 'r': 9060, 'o': 9200, 'g': 9040, 'a': 9009, 'm': 90}\n",
    "#all values ar user defined\n",
    "#use fromkeys()\n",
    "\n",
    "\n",
    "D = D.fromkeys('program',0)\n",
    "\n",
    "Len = len(D.values())\n",
    "Key = tuple(D.keys())\n",
    "\n",
    "for i in range(1,Len+1):\n",
    "    k = Key[i-1]\n",
    "    v = int(input(\"Enter new value for \"+k+\" key: \"))\n",
    "    D[k] = v\n",
    "    \n",
    "print(\"Modified Dictionary \\n\",D)\n",
    "    \n",
    "\n",
    "\n",
    "\n"
   ]
  },
  {
   "cell_type": "code",
   "execution_count": 52,
   "metadata": {},
   "outputs": [
    {
     "name": "stdout",
     "output_type": "stream",
     "text": [
      "4\n",
      "2\n",
      "{'p': 1, 'r': 2, 'o': 3, 'a': 5, 'm': 6}\n",
      "{'p': 1, 'r': 2, 'o': 3, 'a': 5}\n",
      "{'p': 1, 'o': 3, 'a': 5}\n"
     ]
    },
    {
     "ename": "NameError",
     "evalue": "name 'D' is not defined",
     "output_type": "error",
     "traceback": [
      "\u001b[1;31m---------------------------------------------------------------------------\u001b[0m",
      "\u001b[1;31mNameError\u001b[0m                                 Traceback (most recent call last)",
      "\u001b[1;32m<ipython-input-52-1c0f282ff6e6>\u001b[0m in \u001b[0;36m<module>\u001b[1;34m()\u001b[0m\n\u001b[0;32m      9\u001b[0m \u001b[0mprint\u001b[0m\u001b[1;33m(\u001b[0m\u001b[0mD\u001b[0m\u001b[1;33m)\u001b[0m\u001b[1;33m\u001b[0m\u001b[0m\n\u001b[0;32m     10\u001b[0m \u001b[1;32mdel\u001b[0m \u001b[0mD\u001b[0m\u001b[1;33m\u001b[0m\u001b[0m\n\u001b[1;32m---> 11\u001b[1;33m \u001b[0mprint\u001b[0m\u001b[1;33m(\u001b[0m\u001b[0mD\u001b[0m\u001b[1;33m)\u001b[0m\u001b[1;33m\u001b[0m\u001b[0m\n\u001b[0m",
      "\u001b[1;31mNameError\u001b[0m: name 'D' is not defined"
     ]
    }
   ],
   "source": [
    "D={'p': 1, 'r': 2, 'o': 3, 'g': 4, 'a': 5, 'm': 6}\n",
    "print(D.get('g'))\n",
    "print(D['r'])\n",
    "D.pop('g') # delete a single key\n",
    "print(D)\n",
    "D.popitem() # delete a last key:value\n",
    "print(D)\n",
    "del D['r']\n",
    "print(D)\n",
    "del D\n",
    "print(D)"
   ]
  },
  {
   "cell_type": "code",
   "execution_count": 53,
   "metadata": {},
   "outputs": [
    {
     "name": "stdout",
     "output_type": "stream",
     "text": [
      "{'p': 1, 'r': 2, 'o': 3, 'g': 4, 'a': 5, 'm': 6, 1: 1, 2: 2, 3: 3, 4: 4}\n"
     ]
    }
   ],
   "source": [
    "D={'p': 1, 'r': 2, 'o': 3, 'g': 4, 'a': 5, 'm': 6}\n",
    "D1={1:1,2:2,3:3,4:4}\n",
    "D.update(D1) # merge dictinary\n",
    "print(D)"
   ]
  },
  {
   "cell_type": "code",
   "execution_count": 56,
   "metadata": {},
   "outputs": [
    {
     "name": "stdout",
     "output_type": "stream",
     "text": [
      "{'program': 900}\n"
     ]
    }
   ],
   "source": [
    "D=dict()\n",
    "D.setdefault('program',900)\n",
    "print(D)\n"
   ]
  },
  {
   "cell_type": "code",
   "execution_count": 57,
   "metadata": {},
   "outputs": [
    {
     "name": "stdout",
     "output_type": "stream",
     "text": [
      "Enter key :a\n",
      "Enter value :  34\n",
      "Enter key :e\n",
      "Enter value :  56\n",
      "Enter key :i\n",
      "Enter value :  89\n",
      "Enter key :o\n",
      "Enter value :  90\n",
      "{'a': 34, 'e': 56, 'i': 89, 'o': 90}\n"
     ]
    }
   ],
   "source": [
    "#Q: create a dictionary using setdefault()\n",
    "D={}\n",
    "for i in range(1,5):\n",
    "    k = input(\"Enter key :\")\n",
    "    v = int(input(\"Enter value :  \"))\n",
    "    D.setdefault(k,v)\n",
    "    \n",
    "print(D)\n",
    "    \n",
    "    "
   ]
  },
  {
   "cell_type": "code",
   "execution_count": null,
   "metadata": {},
   "outputs": [],
   "source": [
    "'''\n",
    "\n",
    "\n",
    "    {K:V forloop  ifcondition}\n",
    "    dicitionay comprehension\n",
    "    \n",
    "\n",
    "'''"
   ]
  },
  {
   "cell_type": "code",
   "execution_count": 1,
   "metadata": {},
   "outputs": [
    {
     "name": "stdout",
     "output_type": "stream",
     "text": [
      "{1: 1, 2: 4, 3: 9, 4: 16, 5: 25}\n"
     ]
    }
   ],
   "source": [
    "D={}\n",
    "for i in range(1,6):\n",
    "    D[i] = i*i\n",
    "    \n",
    "print(D)\n",
    "    "
   ]
  },
  {
   "cell_type": "code",
   "execution_count": 2,
   "metadata": {},
   "outputs": [
    {
     "name": "stdout",
     "output_type": "stream",
     "text": [
      "{1: 1, 2: 4, 3: 9, 4: 16, 5: 25}\n"
     ]
    }
   ],
   "source": [
    "D = {i : i*i for i in range(1,6)} \n",
    "print(D)"
   ]
  },
  {
   "cell_type": "code",
   "execution_count": 4,
   "metadata": {},
   "outputs": [
    {
     "name": "stdout",
     "output_type": "stream",
     "text": [
      "{'bread': 26.7, 'butter': 41.83, 'coffee': 93.45, 'tea': 58.74}\n"
     ]
    }
   ],
   "source": [
    "items_price = {'bread' : 30 , 'butter' :47 , 'coffee':105 , 'tea': 66}\n",
    "\n",
    "dis = 0.89\n",
    "\n",
    "new_price = {k : v * dis  for (k,v) in items_price.items() }\n",
    "print(new_price)"
   ]
  },
  {
   "cell_type": "code",
   "execution_count": 7,
   "metadata": {},
   "outputs": [
    {
     "name": "stdout",
     "output_type": "stream",
     "text": [
      "{'bread': 30, 'tea': 66}\n"
     ]
    }
   ],
   "source": [
    "items_price = {'bread' : 30 , 'butter' :47 , 'coffee':105 , 'tea': 66}\n",
    "D = { K:V for K,V in items_price.items() if V%2 == 0}\n",
    "print(D)"
   ]
  },
  {
   "cell_type": "code",
   "execution_count": 9,
   "metadata": {},
   "outputs": [
    {
     "name": "stdout",
     "output_type": "stream",
     "text": [
      "{'bread': 30}\n"
     ]
    }
   ],
   "source": [
    "items_price = {'bread' : 30 , 'butter' :47 , 'coffee':105 , 'tea': 66}\n",
    "D = { K:V for K,V in items_price.items() if V%2 == 0 and V<40}\n",
    "print(D)"
   ]
  },
  {
   "cell_type": "code",
   "execution_count": 10,
   "metadata": {},
   "outputs": [
    {
     "name": "stdout",
     "output_type": "stream",
     "text": [
      "{'bread': 'Average', 'butter': 'Average', 'coffee': 'Expensive', 'tea': 'Average'}\n"
     ]
    }
   ],
   "source": [
    "items_price = {'bread' : 30 , 'butter' :47 , 'coffee':105 , 'tea': 66}\n",
    "D = { K : (\"Expensive\" if V > 100 else \"Average\")  for K,V in items_price.items()}\n",
    "print(D) "
   ]
  },
  {
   "cell_type": "code",
   "execution_count": 11,
   "metadata": {},
   "outputs": [
    {
     "name": "stdout",
     "output_type": "stream",
     "text": [
      "{2: {10: 20, 20: 40, 30: 60, 40: 80}, 3: {10: 30, 20: 60, 30: 90, 40: 120}, 4: {10: 40, 20: 80, 30: 120, 40: 160}, 5: {10: 50, 20: 100, 30: 150, 40: 200}}\n"
     ]
    }
   ],
   "source": [
    "#nested dict comprehension\n",
    "\n",
    "d = { i : { j : i*j for j in range(10,50,10)}  for i in range(2,6)}\n",
    "print(d)"
   ]
  },
  {
   "cell_type": "code",
   "execution_count": 14,
   "metadata": {},
   "outputs": [
    {
     "name": "stdout",
     "output_type": "stream",
     "text": [
      "<class 'set'>\n",
      "<class 'set'>\n"
     ]
    }
   ],
   "source": [
    "#set\n",
    "\n",
    "s={1,2,3,4}\n",
    "s1=set()\n",
    "\n",
    "print(type(s))\n",
    "print(type(s1))\n",
    "\n"
   ]
  },
  {
   "cell_type": "code",
   "execution_count": 15,
   "metadata": {},
   "outputs": [
    {
     "name": "stdout",
     "output_type": "stream",
     "text": [
      "{1, 2, 3, 4, 5, 6, 7, 8}\n"
     ]
    }
   ],
   "source": [
    "s={1,2,3,5,2,3,3,6,5,7,8,2,5,3,4,6,3,4,5,6,7,3,4,5}\n",
    "print(s)"
   ]
  },
  {
   "cell_type": "code",
   "execution_count": 19,
   "metadata": {},
   "outputs": [
    {
     "name": "stdout",
     "output_type": "stream",
     "text": [
      "{(1, 2, 3, 4), 'pooja', 21.23, 45, 21, 56}\n"
     ]
    }
   ],
   "source": [
    "s={(1,2,3,4),45,56,21,21.23,\"pooja\"}\n",
    "print(s)\n",
    "\n",
    "#rule - set can be a collection of tuple only\n"
   ]
  },
  {
   "cell_type": "code",
   "execution_count": 17,
   "metadata": {},
   "outputs": [
    {
     "ename": "TypeError",
     "evalue": "unhashable type: 'list'",
     "output_type": "error",
     "traceback": [
      "\u001b[1;31m---------------------------------------------------------------------------\u001b[0m",
      "\u001b[1;31mTypeError\u001b[0m                                 Traceback (most recent call last)",
      "\u001b[1;32m<ipython-input-17-3a16b57e4b7c>\u001b[0m in \u001b[0;36m<module>\u001b[1;34m()\u001b[0m\n\u001b[1;32m----> 1\u001b[1;33m \u001b[0ms\u001b[0m\u001b[1;33m=\u001b[0m\u001b[1;33m{\u001b[0m\u001b[1;33m[\u001b[0m\u001b[1;36m1\u001b[0m\u001b[1;33m,\u001b[0m\u001b[1;36m2\u001b[0m\u001b[1;33m,\u001b[0m\u001b[1;36m3\u001b[0m\u001b[1;33m,\u001b[0m\u001b[1;36m4\u001b[0m\u001b[1;33m]\u001b[0m\u001b[1;33m,\u001b[0m\u001b[1;33m[\u001b[0m\u001b[1;36m1\u001b[0m\u001b[1;33m,\u001b[0m\u001b[1;36m2\u001b[0m\u001b[1;33m,\u001b[0m\u001b[1;36m3\u001b[0m\u001b[1;33m,\u001b[0m\u001b[1;36m4\u001b[0m\u001b[1;33m]\u001b[0m\u001b[1;33m}\u001b[0m\u001b[1;33m\u001b[0m\u001b[0m\n\u001b[0m",
      "\u001b[1;31mTypeError\u001b[0m: unhashable type: 'list'"
     ]
    }
   ],
   "source": [
    "s={[1,2,3,4],[1,2,3,4]}"
   ]
  },
  {
   "cell_type": "code",
   "execution_count": 20,
   "metadata": {},
   "outputs": [
    {
     "name": "stdout",
     "output_type": "stream",
     "text": [
      "{1, 2, 3, 4, 5, 6, 7, 8, 9, 10}\n"
     ]
    }
   ],
   "source": [
    "s=set(range(1,11))\n",
    "print(s)"
   ]
  },
  {
   "cell_type": "code",
   "execution_count": 21,
   "metadata": {},
   "outputs": [
    {
     "ename": "TypeError",
     "evalue": "'set' object does not support item assignment",
     "output_type": "error",
     "traceback": [
      "\u001b[1;31m---------------------------------------------------------------------------\u001b[0m",
      "\u001b[1;31mTypeError\u001b[0m                                 Traceback (most recent call last)",
      "\u001b[1;32m<ipython-input-21-17705b399fec>\u001b[0m in \u001b[0;36m<module>\u001b[1;34m()\u001b[0m\n\u001b[1;32m----> 1\u001b[1;33m \u001b[0ms\u001b[0m\u001b[1;33m[\u001b[0m\u001b[1;36m3\u001b[0m\u001b[1;33m]\u001b[0m\u001b[1;33m=\u001b[0m\u001b[1;36m900\u001b[0m\u001b[1;33m\u001b[0m\u001b[0m\n\u001b[0m",
      "\u001b[1;31mTypeError\u001b[0m: 'set' object does not support item assignment"
     ]
    }
   ],
   "source": [
    "s[3]=900\n",
    "#doesnot support updation ,indexing"
   ]
  },
  {
   "cell_type": "code",
   "execution_count": 23,
   "metadata": {},
   "outputs": [
    {
     "ename": "TypeError",
     "evalue": "'set' object is not subscriptable",
     "output_type": "error",
     "traceback": [
      "\u001b[1;31m---------------------------------------------------------------------------\u001b[0m",
      "\u001b[1;31mTypeError\u001b[0m                                 Traceback (most recent call last)",
      "\u001b[1;32m<ipython-input-23-5cc24e399101>\u001b[0m in \u001b[0;36m<module>\u001b[1;34m()\u001b[0m\n\u001b[0;32m      1\u001b[0m \u001b[0ms\u001b[0m \u001b[1;33m=\u001b[0m \u001b[1;33m{\u001b[0m\u001b[1;36m1\u001b[0m\u001b[1;33m,\u001b[0m\u001b[1;36m5\u001b[0m\u001b[1;33m,\u001b[0m\u001b[1;36m4\u001b[0m\u001b[1;33m,\u001b[0m\u001b[1;36m3\u001b[0m\u001b[1;33m,\u001b[0m\u001b[1;36m4\u001b[0m\u001b[1;33m,\u001b[0m\u001b[1;36m5\u001b[0m\u001b[1;33m,\u001b[0m\u001b[1;36m4\u001b[0m\u001b[1;33m,\u001b[0m\u001b[1;36m7\u001b[0m\u001b[1;33m,\u001b[0m\u001b[1;36m6\u001b[0m\u001b[1;33m,\u001b[0m\u001b[1;36m5\u001b[0m\u001b[1;33m,\u001b[0m\u001b[1;36m67\u001b[0m\u001b[1;33m,\u001b[0m\u001b[1;36m6\u001b[0m\u001b[1;33m}\u001b[0m\u001b[1;33m\u001b[0m\u001b[0m\n\u001b[1;32m----> 2\u001b[1;33m \u001b[0mprint\u001b[0m\u001b[1;33m(\u001b[0m\u001b[0ms\u001b[0m\u001b[1;33m[\u001b[0m\u001b[1;36m1\u001b[0m\u001b[1;33m:\u001b[0m\u001b[1;36m6\u001b[0m\u001b[1;33m]\u001b[0m\u001b[1;33m)\u001b[0m\u001b[1;33m\u001b[0m\u001b[0m\n\u001b[0m",
      "\u001b[1;31mTypeError\u001b[0m: 'set' object is not subscriptable"
     ]
    }
   ],
   "source": [
    "s = {1,5,4,3,4,5,4,7,6,5,67,6}\n",
    "print(s[1:6]) # doesnot support slicing"
   ]
  },
  {
   "cell_type": "code",
   "execution_count": 27,
   "metadata": {},
   "outputs": [
    {
     "name": "stdout",
     "output_type": "stream",
     "text": [
      "55\n",
      "10\n",
      "1\n",
      "[10, 9, 8, 7, 6, 5, 4, 3, 2, 1]\n"
     ]
    }
   ],
   "source": [
    "s=set(range(1,11))\n",
    "print(sum(s))\n",
    "print(max(s))\n",
    "print(min(s))\n",
    "print(sorted(s,reverse=1))\n",
    "\n"
   ]
  },
  {
   "cell_type": "code",
   "execution_count": 29,
   "metadata": {},
   "outputs": [
    {
     "name": "stdout",
     "output_type": "stream",
     "text": [
      "{1, 2, 3, 5, 7, 9}\n",
      "{1, 2, 7, 9}\n",
      "{1, 7}\n",
      "{9, 2}\n",
      "{3, 5}\n"
     ]
    }
   ],
   "source": [
    "s1 = {1,3,5,7}\n",
    "s2 = {2,3,5,9}\n",
    "\n",
    "print(s1 | s2)\n",
    "print(s1 ^ s2)\n",
    "print(s1 - s2)\n",
    "print(s2 - s1)\n",
    "print(s1 & s2)"
   ]
  },
  {
   "cell_type": "code",
   "execution_count": 32,
   "metadata": {},
   "outputs": [
    {
     "name": "stdout",
     "output_type": "stream",
     "text": [
      "{1, 2, 3, 5, 7, 9}\n",
      "{1, 2, 3, 5, 7, 9}\n"
     ]
    }
   ],
   "source": [
    "s1 = {1,3,5,7}\n",
    "s2 = {2,3,5,9}\n",
    "\n",
    "print(s1.union(s2))\n",
    "print(s1 | s2)\n"
   ]
  },
  {
   "cell_type": "code",
   "execution_count": 37,
   "metadata": {},
   "outputs": [
    {
     "name": "stdout",
     "output_type": "stream",
     "text": [
      "{3, 5}\n",
      "{3, 5}\n",
      "{3, 5}\n"
     ]
    }
   ],
   "source": [
    "s1 = {1,3,5,7}\n",
    "s2 = {2,3,5,9}\n",
    "\n",
    "print(s1.intersection(s2))\n",
    "print(s1 & s2)\n",
    "\n",
    "s1.intersection_update(s2)\n",
    "print(s1)"
   ]
  },
  {
   "cell_type": "code",
   "execution_count": 38,
   "metadata": {},
   "outputs": [
    {
     "name": "stdout",
     "output_type": "stream",
     "text": [
      "{1, 2, 7, 9}\n",
      "{1, 2, 7, 9}\n",
      "{1, 2, 7, 9}\n"
     ]
    }
   ],
   "source": [
    "s1 = {1,3,5,7}\n",
    "s2 = {2,3,5,9}\n",
    "\n",
    "print(s1.symmetric_difference(s2))\n",
    "print(s1 ^ s2)\n",
    "\n",
    "s1.symmetric_difference_update(s2)\n",
    "print(s1)"
   ]
  },
  {
   "cell_type": "code",
   "execution_count": 39,
   "metadata": {},
   "outputs": [
    {
     "name": "stdout",
     "output_type": "stream",
     "text": [
      "{1, 7}\n",
      "{1, 7}\n",
      "{1, 7}\n"
     ]
    }
   ],
   "source": [
    "s1 = {1,3,5,7}\n",
    "s2 = {2,3,5,9}\n",
    "\n",
    "print(s1.difference(s2))\n",
    "print(s1 - s2)\n",
    "\n",
    "s1.difference_update(s2)\n",
    "print(s1)"
   ]
  },
  {
   "cell_type": "code",
   "execution_count": 40,
   "metadata": {},
   "outputs": [
    {
     "name": "stdout",
     "output_type": "stream",
     "text": [
      "{9, 2}\n",
      "{9, 2}\n",
      "{2, 9}\n"
     ]
    }
   ],
   "source": [
    "s1 = {1,3,5,7}\n",
    "s2 = {2,3,5,9}\n",
    "\n",
    "print(s2.difference(s1))\n",
    "print(s2 - s1)\n",
    "\n",
    "s2.difference_update(s1)\n",
    "print(s2)\n"
   ]
  },
  {
   "cell_type": "code",
   "execution_count": 41,
   "metadata": {},
   "outputs": [
    {
     "name": "stdout",
     "output_type": "stream",
     "text": [
      "{1, 2, 3, 4, 5, 900}\n"
     ]
    }
   ],
   "source": [
    "s1 = {1,2,3,4,5}\n",
    "s1.add(900)\n",
    "print(s1)"
   ]
  },
  {
   "cell_type": "code",
   "execution_count": 42,
   "metadata": {},
   "outputs": [
    {
     "name": "stdout",
     "output_type": "stream",
     "text": [
      "set()\n"
     ]
    }
   ],
   "source": [
    "s1.clear()\n",
    "print(s1)\n"
   ]
  },
  {
   "cell_type": "code",
   "execution_count": 43,
   "metadata": {},
   "outputs": [
    {
     "name": "stdout",
     "output_type": "stream",
     "text": [
      "{800, 1, 2, 3, 4, 5}\n",
      "{1, 2, 3, 4, 5}\n"
     ]
    }
   ],
   "source": [
    "s1 = {1,2,3,4,5}\n",
    "\n",
    "s2 = s1.copy() # deep copy\n",
    "\n",
    "s1.add(800)\n",
    "\n",
    "print(s1)\n",
    "print(s2)\n"
   ]
  },
  {
   "cell_type": "code",
   "execution_count": 44,
   "metadata": {},
   "outputs": [
    {
     "name": "stdout",
     "output_type": "stream",
     "text": [
      "{800, 1, 2, 3, 4, 5}\n",
      "{800, 1, 2, 3, 4, 5}\n"
     ]
    }
   ],
   "source": [
    "s1 = {1,2,3,4,5}\n",
    "\n",
    "s2 = s1 # shallow copy\n",
    "\n",
    "s1.add(800)\n",
    "\n",
    "print(s1)\n",
    "print(s2)"
   ]
  },
  {
   "cell_type": "code",
   "execution_count": 47,
   "metadata": {},
   "outputs": [
    {
     "data": {
      "text/plain": [
       "1"
      ]
     },
     "execution_count": 47,
     "metadata": {},
     "output_type": "execute_result"
    }
   ],
   "source": [
    "s1 = {1,2,3,4,5}\n",
    "s1.pop()\n",
    "#FIFO"
   ]
  },
  {
   "cell_type": "code",
   "execution_count": 50,
   "metadata": {},
   "outputs": [
    {
     "name": "stdout",
     "output_type": "stream",
     "text": [
      "{1, 2, 4, 5, 6, 7}\n"
     ]
    }
   ],
   "source": [
    "s1 = {1,2,3,4,5,3,6,7}\n",
    "s1.remove(3)# 3 object value to remove from set\n",
    "print(s1)"
   ]
  },
  {
   "cell_type": "code",
   "execution_count": 52,
   "metadata": {},
   "outputs": [
    {
     "name": "stdout",
     "output_type": "stream",
     "text": [
      "{1, 2, 4, 5, 6, 7}\n"
     ]
    }
   ],
   "source": [
    "s1 = {1,2,3,4,5,3,6,7}\n",
    "s1.discard(3)\n",
    "print(s1)"
   ]
  },
  {
   "cell_type": "code",
   "execution_count": 53,
   "metadata": {},
   "outputs": [
    {
     "ename": "KeyError",
     "evalue": "900",
     "output_type": "error",
     "traceback": [
      "\u001b[1;31m---------------------------------------------------------------------------\u001b[0m",
      "\u001b[1;31mKeyError\u001b[0m                                  Traceback (most recent call last)",
      "\u001b[1;32m<ipython-input-53-f9748c8c2a55>\u001b[0m in \u001b[0;36m<module>\u001b[1;34m()\u001b[0m\n\u001b[0;32m      1\u001b[0m \u001b[0ms1\u001b[0m \u001b[1;33m=\u001b[0m \u001b[1;33m{\u001b[0m\u001b[1;36m1\u001b[0m\u001b[1;33m,\u001b[0m\u001b[1;36m2\u001b[0m\u001b[1;33m,\u001b[0m\u001b[1;36m3\u001b[0m\u001b[1;33m,\u001b[0m\u001b[1;36m4\u001b[0m\u001b[1;33m,\u001b[0m\u001b[1;36m5\u001b[0m\u001b[1;33m,\u001b[0m\u001b[1;36m3\u001b[0m\u001b[1;33m,\u001b[0m\u001b[1;36m6\u001b[0m\u001b[1;33m,\u001b[0m\u001b[1;36m7\u001b[0m\u001b[1;33m}\u001b[0m\u001b[1;33m\u001b[0m\u001b[0m\n\u001b[1;32m----> 2\u001b[1;33m \u001b[0ms1\u001b[0m\u001b[1;33m.\u001b[0m\u001b[0mremove\u001b[0m\u001b[1;33m(\u001b[0m\u001b[1;36m900\u001b[0m\u001b[1;33m)\u001b[0m\u001b[1;33m\u001b[0m\u001b[0m\n\u001b[0m",
      "\u001b[1;31mKeyError\u001b[0m: 900"
     ]
    }
   ],
   "source": [
    "s1 = {1,2,3,4,5,3,6,7}\n",
    "s1.remove(900)"
   ]
  },
  {
   "cell_type": "code",
   "execution_count": 54,
   "metadata": {},
   "outputs": [],
   "source": [
    "s1 = {1,2,3,4,5,3,6,7}\n",
    "s1.discard(900)"
   ]
  },
  {
   "cell_type": "code",
   "execution_count": 55,
   "metadata": {},
   "outputs": [
    {
     "data": {
      "text/plain": [
       "True"
      ]
     },
     "execution_count": 55,
     "metadata": {},
     "output_type": "execute_result"
    }
   ],
   "source": [
    "s1={1,2,3,4,5}\n",
    "s2={3,4}\n",
    "\n",
    "s2.issubset(s1)\n",
    "\n"
   ]
  },
  {
   "cell_type": "code",
   "execution_count": 57,
   "metadata": {},
   "outputs": [
    {
     "name": "stdout",
     "output_type": "stream",
     "text": [
      "False\n",
      "True\n"
     ]
    }
   ],
   "source": [
    "s1={1,2,3,4,5}\n",
    "s2={3,4}\n",
    "\n",
    "print(s2.issuperset(s1))\n",
    "print(s1.issuperset(s2))\n"
   ]
  },
  {
   "cell_type": "code",
   "execution_count": 60,
   "metadata": {},
   "outputs": [
    {
     "name": "stdout",
     "output_type": "stream",
     "text": [
      "True\n",
      "{1, 2, 3, 4}\n"
     ]
    }
   ],
   "source": [
    "s1={1,2}\n",
    "s2={3,4}\n",
    "\n",
    "print(s1.isdisjoint(s2))\n",
    "s1.update(s2)\n",
    "print(s1)\n"
   ]
  },
  {
   "cell_type": "code",
   "execution_count": null,
   "metadata": {},
   "outputs": [],
   "source": [
    "'''\n",
    "\n",
    "functions - reusable code\n",
    "\n",
    "1: built \n",
    "2: UserDefined\n",
    "\n",
    "\n",
    "types :\n",
    "1: userdefined\n",
    "2: recursive functions\n",
    "3: lambda functions\n",
    "4: generators\n",
    "5: nested function\n",
    "6: decorator functions\n",
    "\n",
    "\n",
    "    def functionname(arguments):\n",
    "        ''' docstring '''\n",
    "        logic\n",
    "        return \n",
    "        \n",
    "\n",
    "functionname(parameter)\n",
    "\n",
    "'''"
   ]
  },
  {
   "cell_type": "code",
   "execution_count": 3,
   "metadata": {},
   "outputs": [
    {
     "name": "stdout",
     "output_type": "stream",
     "text": [
      "7\n",
      "Help on function add in module __main__:\n",
      "\n",
      "add(a, b)\n",
      "    this function adds two numbers\n",
      "\n"
     ]
    }
   ],
   "source": [
    "def add(a,b):      #arguments\n",
    "    ''' this function adds two numbers '''\n",
    "    return a+b\n",
    "\n",
    "print(add(3,4)) # parameters   - deep copy based\n",
    "\n",
    "help(add)\n",
    "        \n"
   ]
  },
  {
   "cell_type": "code",
   "execution_count": 5,
   "metadata": {},
   "outputs": [
    {
     "name": "stdout",
     "output_type": "stream",
     "text": [
      "Enter no1: 3\n",
      "Enter no2: 4\n",
      "3\n"
     ]
    }
   ],
   "source": [
    "def add(a,b):    \n",
    "    return a+b\n",
    "\n",
    "\n",
    "x=int(input(\"Enter no1: \"))\n",
    "z=int(input(\"Enter no2: \"))\n",
    "\n",
    "print(add(x,z))  # shallow copy based\n",
    "\n",
    "print(x,z)"
   ]
  },
  {
   "cell_type": "code",
   "execution_count": null,
   "metadata": {},
   "outputs": [],
   "source": [
    "#arguments\n",
    "'''\n",
    "    1: default arguments\n",
    "    2: keyword arguments\n",
    "    3: positional arguments\n",
    "    4: variable length arguments\n",
    "\n",
    "\n",
    "'''"
   ]
  },
  {
   "cell_type": "code",
   "execution_count": 8,
   "metadata": {},
   "outputs": [
    {
     "name": "stdout",
     "output_type": "stream",
     "text": [
      "-100\n",
      "100\n"
     ]
    }
   ],
   "source": [
    "# positional \n",
    "\n",
    "def sub(a,b):\n",
    "    return a-b\n",
    "    \n",
    "print(sub(100,200))\n",
    "print(sub(200,100))\n"
   ]
  },
  {
   "cell_type": "code",
   "execution_count": 14,
   "metadata": {},
   "outputs": [
    {
     "name": "stdout",
     "output_type": "stream",
     "text": [
      "Hello!  Mohan   Good Morning !\n",
      "Hello!  Krishan   Good Morning !\n",
      "Hello!  Mohan   Good Morning !\n",
      "Hello!  Krishan   Good Morning !\n"
     ]
    }
   ],
   "source": [
    "#keyword\n",
    "\n",
    "def wish(name,msg):\n",
    "    print(\"Hello! \",name,\" \",msg)\n",
    "    \n",
    "wish(name=\"Mohan\",msg=\"Good Morning !\")\n",
    "wish(msg=\"Good Morning !\",name=\"Krishan\")\n",
    "wish(\"Mohan\",msg=\"Good Morning !\")\n",
    "wish(\"Krishan\",\"Good Morning !\")\n",
    "    \n",
    "#wish(name=\"Mohan\",\"Good Morning !\")  invalid\n"
   ]
  },
  {
   "cell_type": "code",
   "execution_count": 16,
   "metadata": {},
   "outputs": [
    {
     "name": "stdout",
     "output_type": "stream",
     "text": [
      "Hello!  Guest  Good Morning!\n",
      "Hello!  pooja  Good Morning!\n"
     ]
    }
   ],
   "source": [
    "#default \n",
    "def wish(name=\"Guest\"):\n",
    "     print(\"Hello! \",name,\" Good Morning!\")\n",
    "        \n",
    "wish()\n",
    "wish(\"pooja\")\n"
   ]
  },
  {
   "cell_type": "code",
   "execution_count": null,
   "metadata": {},
   "outputs": [],
   "source": [
    "#variable length\n",
    "\n",
    "'''\n",
    "def func(*a):  tuple \n",
    "def func(**b):   dictionary\n",
    "'''\n",
    "\n"
   ]
  },
  {
   "cell_type": "code",
   "execution_count": 18,
   "metadata": {},
   "outputs": [
    {
     "name": "stdout",
     "output_type": "stream",
     "text": [
      "15\n",
      "6\n",
      "0\n",
      "55\n"
     ]
    }
   ],
   "source": [
    "def func(*a):\n",
    "    s=0\n",
    "    for i in a:\n",
    "        s=s+i\n",
    "        \n",
    "    return s\n",
    "\n",
    "print(func(1,2,3,4,5))\n",
    "print(func(1,2,3))\n",
    "print(func())\n",
    "print(func(1,2,3,4,5,6,7,8,9,10))"
   ]
  },
  {
   "cell_type": "code",
   "execution_count": 20,
   "metadata": {},
   "outputs": [
    {
     "name": "stdout",
     "output_type": "stream",
     "text": [
      "n1:  10\n",
      "n1:  10\n",
      "a:  20\n",
      "a:  30\n",
      "a:  40\n",
      "a:  50\n",
      "n1:  10\n",
      "a:  A\n",
      "a:  B\n",
      "a:  C\n",
      "a:  D\n",
      "a:  E\n",
      "a:  F\n"
     ]
    }
   ],
   "source": [
    "def func(n1,*a):\n",
    "    print(\"n1: \",n1)\n",
    "    s=0\n",
    "    for i in a:\n",
    "        print(\"a: \",i)\n",
    "        \n",
    "func(10)\n",
    "func(10,20,30,40,50)\n",
    "func(10,\"A\",\"B\",\"C\",\"D\",\"E\",\"F\")"
   ]
  },
  {
   "cell_type": "code",
   "execution_count": 23,
   "metadata": {},
   "outputs": [
    {
     "name": "stdout",
     "output_type": "stream",
     "text": [
      "a:  a\n",
      "a:  B\n",
      "a:  C\n",
      "a:  D\n",
      "n1:  10\n"
     ]
    }
   ],
   "source": [
    "def func(*a , n1):\n",
    "    for i in a:\n",
    "        print(\"a: \",i)\n",
    "    print(\"n1: \",n1)\n",
    "    \n",
    "\n",
    "func(\"a\",\"B\",\"C\",\"D\",n1=10)\n",
    "  "
   ]
  },
  {
   "cell_type": "code",
   "execution_count": 25,
   "metadata": {},
   "outputs": [
    {
     "name": "stdout",
     "output_type": "stream",
     "text": [
      "n1 10\n",
      "n2 20\n",
      "n3 30\n",
      "n4 40\n",
      "rno 100\n",
      "name kriti\n",
      "marks 90\n",
      "subject Maths\n"
     ]
    }
   ],
   "source": [
    "def func(**kwargs):\n",
    "    for k,v in kwargs.items():\n",
    "        print(k,v)\n",
    "        \n",
    "func(n1=10,n2=20,n3=30,n4=40)\n",
    "func(rno=100,name=\"kriti\",marks=90,subject=\"Maths\")\n"
   ]
  },
  {
   "cell_type": "code",
   "execution_count": null,
   "metadata": {},
   "outputs": [],
   "source": [
    "#function variables\n",
    "'''\n",
    "\n",
    "1: global\n",
    "2: local\n",
    "\n",
    "\n",
    "'''"
   ]
  },
  {
   "cell_type": "code",
   "execution_count": 33,
   "metadata": {},
   "outputs": [
    {
     "name": "stdout",
     "output_type": "stream",
     "text": [
      "10\n",
      "10\n"
     ]
    }
   ],
   "source": [
    "n=10 # global variable\n",
    "def f1():\n",
    "    print(n)\n",
    "\n",
    "def f2():\n",
    "    print(n)\n",
    "    \n",
    "f1()\n",
    "f2()"
   ]
  },
  {
   "cell_type": "code",
   "execution_count": 31,
   "metadata": {},
   "outputs": [
    {
     "name": "stdout",
     "output_type": "stream",
     "text": [
      "10\n"
     ]
    },
    {
     "ename": "NameError",
     "evalue": "name 'm' is not defined",
     "output_type": "error",
     "traceback": [
      "\u001b[1;31m---------------------------------------------------------------------------\u001b[0m",
      "\u001b[1;31mNameError\u001b[0m                                 Traceback (most recent call last)",
      "\u001b[1;32m<ipython-input-31-2d6db06ca4a7>\u001b[0m in \u001b[0;36m<module>\u001b[1;34m()\u001b[0m\n\u001b[0;32m      7\u001b[0m \u001b[1;33m\u001b[0m\u001b[0m\n\u001b[0;32m      8\u001b[0m \u001b[0mf1\u001b[0m\u001b[1;33m(\u001b[0m\u001b[1;33m)\u001b[0m\u001b[1;33m\u001b[0m\u001b[0m\n\u001b[1;32m----> 9\u001b[1;33m \u001b[0mf2\u001b[0m\u001b[1;33m(\u001b[0m\u001b[1;33m)\u001b[0m\u001b[1;33m\u001b[0m\u001b[0m\n\u001b[0m",
      "\u001b[1;32m<ipython-input-31-2d6db06ca4a7>\u001b[0m in \u001b[0;36mf2\u001b[1;34m()\u001b[0m\n\u001b[0;32m      4\u001b[0m \u001b[1;33m\u001b[0m\u001b[0m\n\u001b[0;32m      5\u001b[0m \u001b[1;32mdef\u001b[0m \u001b[0mf2\u001b[0m\u001b[1;33m(\u001b[0m\u001b[1;33m)\u001b[0m\u001b[1;33m:\u001b[0m\u001b[1;33m\u001b[0m\u001b[0m\n\u001b[1;32m----> 6\u001b[1;33m     \u001b[0mprint\u001b[0m\u001b[1;33m(\u001b[0m\u001b[0mm\u001b[0m\u001b[1;33m)\u001b[0m\u001b[1;33m\u001b[0m\u001b[0m\n\u001b[0m\u001b[0;32m      7\u001b[0m \u001b[1;33m\u001b[0m\u001b[0m\n\u001b[0;32m      8\u001b[0m \u001b[0mf1\u001b[0m\u001b[1;33m(\u001b[0m\u001b[1;33m)\u001b[0m\u001b[1;33m\u001b[0m\u001b[0m\n",
      "\u001b[1;31mNameError\u001b[0m: name 'm' is not defined"
     ]
    }
   ],
   "source": [
    "def f1():\n",
    "    m=10 # local variable\n",
    "    print(m)\n",
    "\n",
    "def f2():\n",
    "    print(m)\n",
    "    \n",
    "f1()\n",
    "f2()"
   ]
  },
  {
   "cell_type": "code",
   "execution_count": 35,
   "metadata": {},
   "outputs": [
    {
     "name": "stdout",
     "output_type": "stream",
     "text": [
      "900\n",
      "10\n"
     ]
    }
   ],
   "source": [
    "m=10\n",
    "\n",
    "def f1():\n",
    "    m=900 # local variable\n",
    "    print(m)\n",
    "\n",
    "def f2():\n",
    "    print(m)\n",
    "    \n",
    "f1()\n",
    "f2()"
   ]
  },
  {
   "cell_type": "code",
   "execution_count": 37,
   "metadata": {},
   "outputs": [
    {
     "name": "stdout",
     "output_type": "stream",
     "text": [
      "900\n",
      "900\n"
     ]
    }
   ],
   "source": [
    "h=10\n",
    "\n",
    "def f1():\n",
    "    global h\n",
    "    h=900 # local variable\n",
    "    print(h)\n",
    "\n",
    "def f2():\n",
    "    print(h)\n",
    "    \n",
    "f1()\n",
    "f2()"
   ]
  },
  {
   "cell_type": "code",
   "execution_count": null,
   "metadata": {},
   "outputs": [],
   "source": [
    "#recursive function - function calls itself \n",
    "'''\n",
    "\n",
    "    def func():\n",
    "        if condition to terminate a function:\n",
    "            return with result\n",
    "        else:\n",
    "            logic\n",
    "            function calling again\n",
    "        \n",
    "'''\n",
    "\n"
   ]
  },
  {
   "cell_type": "code",
   "execution_count": 48,
   "metadata": {},
   "outputs": [
    {
     "name": "stdout",
     "output_type": "stream",
     "text": [
      "120\n"
     ]
    }
   ],
   "source": [
    "def fact(m):\n",
    "    t=1\n",
    "    for i in range(m,0,-1):\n",
    "        t = t*i\n",
    "        \n",
    "    return t\n",
    "        \n",
    "print(fact(5))\n",
    "        "
   ]
  },
  {
   "cell_type": "code",
   "execution_count": 50,
   "metadata": {},
   "outputs": [
    {
     "name": "stdout",
     "output_type": "stream",
     "text": [
      "120\n"
     ]
    }
   ],
   "source": [
    "t=1\n",
    "def factorial(m):\n",
    "    global t \n",
    "    \n",
    "    if m == 0:\n",
    "        return t    \n",
    "    else:\n",
    "        t = t * m\n",
    "        m = m - 1\n",
    "        return factorial(m)\n",
    "        \n",
    "print(factorial(5))"
   ]
  },
  {
   "cell_type": "code",
   "execution_count": 3,
   "metadata": {},
   "outputs": [
    {
     "name": "stdout",
     "output_type": "stream",
     "text": [
      "5 10 15 20 25 30 35 40 45 50 "
     ]
    }
   ],
   "source": [
    "def table(a):\n",
    "    for i in range(1,11):\n",
    "        print(a*i,end=\" \")\n",
    "        \n",
    "        \n",
    "table(5)"
   ]
  },
  {
   "cell_type": "code",
   "execution_count": 5,
   "metadata": {},
   "outputs": [
    {
     "name": "stdout",
     "output_type": "stream",
     "text": [
      "5 10 15 20 25 30 35 40 45 50 "
     ]
    }
   ],
   "source": [
    "def table(a,i=1):\n",
    "    if i>10:\n",
    "        return\n",
    "    else:\n",
    "        print(a*i,end=\" \")\n",
    "        i = i + 1\n",
    "        return table(a,i)\n",
    "    \n",
    "table(5)"
   ]
  },
  {
   "cell_type": "code",
   "execution_count": 8,
   "metadata": {},
   "outputs": [
    {
     "name": "stdout",
     "output_type": "stream",
     "text": [
      "Prime number\n",
      "Composite number\n",
      "Composite number\n",
      "Prime number\n",
      "Prime number\n"
     ]
    }
   ],
   "source": [
    "def Prime(a):\n",
    "    for i in range(2,a):\n",
    "        if a % i == 0:\n",
    "            break\n",
    "        \n",
    "    if a == i+1:\n",
    "        print(\"Prime number\")\n",
    "    else:\n",
    "        print(\"Composite number\")\n",
    "        \n",
    "Prime(13)\n",
    "Prime(18)\n",
    "Prime(27)\n",
    "Prime(79)\n",
    "Prime(97)\n",
    "\n",
    "        "
   ]
  },
  {
   "cell_type": "code",
   "execution_count": 10,
   "metadata": {},
   "outputs": [
    {
     "name": "stdout",
     "output_type": "stream",
     "text": [
      "Prime number\n",
      "Composite number\n",
      "Composite number\n",
      "Prime number\n",
      "Prime number\n"
     ]
    }
   ],
   "source": [
    "def Prime(a,i=2):\n",
    "    if a == i+1:\n",
    "        return \"Prime number\"\n",
    "    else:\n",
    "        if a % i == 0:\n",
    "            return \"Composite number\"\n",
    "        else:\n",
    "            i = i + 1\n",
    "            return Prime(a,i)\n",
    "    \n",
    "print(Prime(13))\n",
    "print(Prime(18))\n",
    "print(Prime(27))\n",
    "print(Prime(79))\n",
    "print(Prime(97))"
   ]
  },
  {
   "cell_type": "code",
   "execution_count": 14,
   "metadata": {},
   "outputs": [
    {
     "name": "stdout",
     "output_type": "stream",
     "text": [
      "108745976\n",
      "108745976\n",
      "Good morning !  pooja\n",
      "Good morning !  mohan\n",
      "Help on function wish in module __main__:\n",
      "\n",
      "wish(name)\n",
      "\n",
      "Help on function wish in module __main__:\n",
      "\n",
      "wish(name)\n",
      "\n"
     ]
    }
   ],
   "source": [
    "#function aliasing - call function by another name\n",
    "\n",
    "def wish(name):\n",
    "    print(\"Good morning ! \",name)\n",
    "    \n",
    "greet = wish\n",
    "print(id(greet))\n",
    "print(id(wish))\n",
    "\n",
    "greet(\"pooja\")\n",
    "wish(\"mohan\")\n",
    "\n",
    "help(wish)\n",
    "help(greet)"
   ]
  },
  {
   "cell_type": "code",
   "execution_count": 15,
   "metadata": {},
   "outputs": [
    {
     "name": "stdout",
     "output_type": "stream",
     "text": [
      "outer function get called\n",
      "end of outer function\n",
      "inner function get called\n"
     ]
    }
   ],
   "source": [
    "#nested functions - function conatin another function\n",
    "\n",
    "def outer():\n",
    "    print(\"outer function get called\")\n",
    "    \n",
    "    def inner():\n",
    "        print(\"inner function get called\")\n",
    "        \n",
    "    print(\"end of outer function\")\n",
    "    \n",
    "    inner()\n",
    "    \n",
    "outer()\n",
    "\n",
    "\n"
   ]
  },
  {
   "cell_type": "code",
   "execution_count": 18,
   "metadata": {},
   "outputs": [
    {
     "name": "stdout",
     "output_type": "stream",
     "text": [
      "outer function get called\n",
      "end of outer function\n",
      "inner function get called\n"
     ]
    }
   ],
   "source": [
    "def outer():\n",
    "    print(\"outer function get called\")\n",
    "    \n",
    "    def inner():\n",
    "        print(\"inner function get called\")\n",
    "        \n",
    "    print(\"end of outer function\")\n",
    "    \n",
    "    return inner\n",
    "\n",
    "f1=outer()\n",
    "f1()\n",
    "\n"
   ]
  },
  {
   "cell_type": "code",
   "execution_count": null,
   "metadata": {},
   "outputs": [],
   "source": [
    "#generator - function responsible to generate the sequence of values\n",
    "# yield keyword is used to generate the value\n"
   ]
  },
  {
   "cell_type": "code",
   "execution_count": 21,
   "metadata": {},
   "outputs": [
    {
     "name": "stdout",
     "output_type": "stream",
     "text": [
      "<class 'generator'>\n",
      "A\n",
      "B\n",
      "C\n",
      "D\n",
      "E\n"
     ]
    },
    {
     "ename": "StopIteration",
     "evalue": "",
     "output_type": "error",
     "traceback": [
      "\u001b[1;31m---------------------------------------------------------------------------\u001b[0m",
      "\u001b[1;31mStopIteration\u001b[0m                             Traceback (most recent call last)",
      "\u001b[1;32m<ipython-input-21-1d24efff5b12>\u001b[0m in \u001b[0;36m<module>\u001b[1;34m()\u001b[0m\n\u001b[0;32m     15\u001b[0m \u001b[0mprint\u001b[0m\u001b[1;33m(\u001b[0m\u001b[0mnext\u001b[0m\u001b[1;33m(\u001b[0m\u001b[0mg\u001b[0m\u001b[1;33m)\u001b[0m\u001b[1;33m)\u001b[0m\u001b[1;33m\u001b[0m\u001b[0m\n\u001b[0;32m     16\u001b[0m \u001b[0mprint\u001b[0m\u001b[1;33m(\u001b[0m\u001b[0mnext\u001b[0m\u001b[1;33m(\u001b[0m\u001b[0mg\u001b[0m\u001b[1;33m)\u001b[0m\u001b[1;33m)\u001b[0m\u001b[1;33m\u001b[0m\u001b[0m\n\u001b[1;32m---> 17\u001b[1;33m \u001b[0mprint\u001b[0m\u001b[1;33m(\u001b[0m\u001b[0mnext\u001b[0m\u001b[1;33m(\u001b[0m\u001b[0mg\u001b[0m\u001b[1;33m)\u001b[0m\u001b[1;33m)\u001b[0m\u001b[1;33m\u001b[0m\u001b[0m\n\u001b[0m",
      "\u001b[1;31mStopIteration\u001b[0m: "
     ]
    }
   ],
   "source": [
    "def mygen():\n",
    "    yield \"A\"\n",
    "    yield \"B\"\n",
    "    yield \"C\"\n",
    "    yield \"D\"\n",
    "    yield \"E\"\n",
    "    \n",
    "    \n",
    "g = mygen()\n",
    "print(type(g))\n",
    "\n",
    "print(next(g))\n",
    "print(next(g))\n",
    "print(next(g))\n",
    "print(next(g))\n",
    "print(next(g))\n",
    "print(next(g))\n"
   ]
  },
  {
   "cell_type": "code",
   "execution_count": 23,
   "metadata": {},
   "outputs": [
    {
     "name": "stdout",
     "output_type": "stream",
     "text": [
      "Start....\n",
      "10 9 8 7 6 5 4 3 2 1 0 "
     ]
    }
   ],
   "source": [
    "def count(no):\n",
    "    print(\"Start....\")\n",
    "    while(no >= 0 ):\n",
    "        yield no\n",
    "        no = no -1\n",
    "        \n",
    "v = count(10)\n",
    "for i in v:\n",
    "    print(i,end=\" \")"
   ]
  },
  {
   "cell_type": "code",
   "execution_count": 26,
   "metadata": {},
   "outputs": [
    {
     "name": "stdout",
     "output_type": "stream",
     "text": [
      "1 2 3 4 5 6 7 8 9 10 55 "
     ]
    }
   ],
   "source": [
    "def sum_no(no,i=1):\n",
    "    s=0\n",
    "    while(i <= no ):\n",
    "        yield i\n",
    "        s = s+i \n",
    "        i = i+1               \n",
    "    yield s\n",
    "    \n",
    "v = sum_no(10)\n",
    "for x in v:\n",
    "    print(x,end=\" \")\n",
    "    \n",
    "        \n",
    "    "
   ]
  },
  {
   "cell_type": "code",
   "execution_count": 28,
   "metadata": {},
   "outputs": [
    {
     "name": "stdout",
     "output_type": "stream",
     "text": [
      "0 1 1 2 3 5 8 13 21 34 55 89 "
     ]
    }
   ],
   "source": [
    "def fib():\n",
    "    a,b=0,1\n",
    "    while True:\n",
    "        yield a\n",
    "        a,b = b,a+b\n",
    "        \n",
    "v = fib()\n",
    "\n",
    "for i in v:\n",
    "    if i>100 :\n",
    "        break\n",
    "    print(i,end=\" \")\n",
    "    \n",
    "        \n",
    "    "
   ]
  },
  {
   "cell_type": "code",
   "execution_count": 29,
   "metadata": {},
   "outputs": [
    {
     "name": "stdout",
     "output_type": "stream",
     "text": [
      "Good morning !  pooja\n"
     ]
    }
   ],
   "source": [
    "#decorator function - add functionality to a function\n",
    "def wish(name):\n",
    "    print(\"Good morning ! \", name)\n",
    "    \n",
    "wish(\"pooja\")"
   ]
  },
  {
   "cell_type": "code",
   "execution_count": 32,
   "metadata": {},
   "outputs": [
    {
     "name": "stdout",
     "output_type": "stream",
     "text": [
      "Good morning !  pooja\n",
      "Good morning !  mohan\n",
      "Good Evening !  William\n",
      "Good morning !  suman\n",
      "____________________________________\n",
      "Good morning !  pooja\n",
      "Good morning !  mohan\n",
      "Good Evening !  William\n",
      "Good morning !  suman\n"
     ]
    }
   ],
   "source": [
    "def decor(func):\n",
    "    def inner(name):\n",
    "        if name==\"William\":\n",
    "            print(\"Good Evening ! \",name)\n",
    "        else:\n",
    "            func(name)\n",
    "    return inner\n",
    "\n",
    "\n",
    "\n",
    "@decor\n",
    "def wish(name):\n",
    "    print(\"Good morning ! \", name)\n",
    "    \n",
    "    \n",
    "wish(\"pooja\")\n",
    "wish(\"mohan\")\n",
    "wish(\"William\")\n",
    "wish(\"suman\")\n",
    "\n",
    "print(\"____________________________________\")\n",
    "\n",
    "d = decor(wish)\n",
    "\n",
    "d(\"pooja\")\n",
    "d(\"mohan\")\n",
    "d(\"William\")\n",
    "d(\"suman\")\n",
    "\n"
   ]
  },
  {
   "cell_type": "code",
   "execution_count": 35,
   "metadata": {},
   "outputs": [
    {
     "name": "stdout",
     "output_type": "stream",
     "text": [
      "10.0\n",
      "values are not getting divide.....\n"
     ]
    }
   ],
   "source": [
    "def division(func):\n",
    "    def inner(a,b):\n",
    "        if b==0:\n",
    "            return \"values are not getting divide.....\"\n",
    "            \n",
    "        else:\n",
    "            return func(a,b)\n",
    "        \n",
    "    return inner\n",
    "                \n",
    "\n",
    "@division    \n",
    "def DIV(a,b):\n",
    "    return a/b\n",
    "\n",
    "print(DIV(20,2))\n",
    "print(DIV(30,0))\n"
   ]
  },
  {
   "cell_type": "code",
   "execution_count": null,
   "metadata": {},
   "outputs": [],
   "source": [
    "#exception Handling\n",
    "'''\n",
    "1: syntax\n",
    "2: Runtime - exceptions\n",
    "\n",
    "print \"hello\"\n",
    "\n",
    "\n",
    "\n",
    "'''"
   ]
  },
  {
   "cell_type": "code",
   "execution_count": 1,
   "metadata": {},
   "outputs": [
    {
     "ename": "ZeroDivisionError",
     "evalue": "division by zero",
     "output_type": "error",
     "traceback": [
      "\u001b[1;31m---------------------------------------------------------------------------\u001b[0m",
      "\u001b[1;31mZeroDivisionError\u001b[0m                         Traceback (most recent call last)",
      "\u001b[1;32m<ipython-input-1-fe01563e1bc6>\u001b[0m in \u001b[0;36m<module>\u001b[1;34m()\u001b[0m\n\u001b[1;32m----> 1\u001b[1;33m \u001b[0mprint\u001b[0m\u001b[1;33m(\u001b[0m\u001b[1;36m10\u001b[0m\u001b[1;33m/\u001b[0m\u001b[1;36m0\u001b[0m\u001b[1;33m)\u001b[0m\u001b[1;33m\u001b[0m\u001b[0m\n\u001b[0m",
      "\u001b[1;31mZeroDivisionError\u001b[0m: division by zero"
     ]
    }
   ],
   "source": [
    "print(10/0)"
   ]
  },
  {
   "cell_type": "code",
   "execution_count": 2,
   "metadata": {},
   "outputs": [
    {
     "ename": "TypeError",
     "evalue": "unsupported operand type(s) for /: 'int' and 'str'",
     "output_type": "error",
     "traceback": [
      "\u001b[1;31m---------------------------------------------------------------------------\u001b[0m",
      "\u001b[1;31mTypeError\u001b[0m                                 Traceback (most recent call last)",
      "\u001b[1;32m<ipython-input-2-5b0f17ebac5b>\u001b[0m in \u001b[0;36m<module>\u001b[1;34m()\u001b[0m\n\u001b[1;32m----> 1\u001b[1;33m \u001b[0mprint\u001b[0m\u001b[1;33m(\u001b[0m\u001b[1;36m10\u001b[0m\u001b[1;33m/\u001b[0m\u001b[1;34m\"ten\"\u001b[0m\u001b[1;33m)\u001b[0m\u001b[1;33m\u001b[0m\u001b[0m\n\u001b[0m",
      "\u001b[1;31mTypeError\u001b[0m: unsupported operand type(s) for /: 'int' and 'str'"
     ]
    }
   ],
   "source": [
    "print(10/\"ten\")"
   ]
  },
  {
   "cell_type": "code",
   "execution_count": null,
   "metadata": {},
   "outputs": [],
   "source": [
    "#An unwanted events that disturb the flow of a programis called exceptions\n",
    "'''\n",
    "(Base class)BaseException  ->  Exception ,SystemExit, GeneratorExit, KeyboardInterrupt(Child Classes)\n",
    "                                  |\n",
    "                                  TypeError\n",
    "                                  ValueError\n",
    "                                  ZeroDivisionError                         \n",
    "                                  OverFlowError\n",
    "                                  NameError\n",
    "                                  AttributeError\n",
    "                                  .......               \n",
    "                                  \n",
    "try - except\n",
    "\n",
    "    try:\n",
    "        Risky code\n",
    "        \n",
    "    except XXXX:\n",
    "        Handling code / Alternative code\n",
    "    \n",
    "    finally:\n",
    "        always get exceuted\n",
    "        Clean Code\n",
    "\n",
    "'''\n",
    "\n"
   ]
  },
  {
   "cell_type": "code",
   "execution_count": 3,
   "metadata": {},
   "outputs": [
    {
     "name": "stdout",
     "output_type": "stream",
     "text": [
      "statement 1\n"
     ]
    },
    {
     "ename": "ZeroDivisionError",
     "evalue": "division by zero",
     "output_type": "error",
     "traceback": [
      "\u001b[1;31m---------------------------------------------------------------------------\u001b[0m",
      "\u001b[1;31mZeroDivisionError\u001b[0m                         Traceback (most recent call last)",
      "\u001b[1;32m<ipython-input-3-9b5f049bd8ab>\u001b[0m in \u001b[0;36m<module>\u001b[1;34m()\u001b[0m\n\u001b[0;32m      1\u001b[0m \u001b[0mprint\u001b[0m\u001b[1;33m(\u001b[0m\u001b[1;34m\"statement 1\"\u001b[0m\u001b[1;33m)\u001b[0m\u001b[1;33m\u001b[0m\u001b[0m\n\u001b[1;32m----> 2\u001b[1;33m \u001b[0mprint\u001b[0m\u001b[1;33m(\u001b[0m\u001b[1;36m10\u001b[0m\u001b[1;33m/\u001b[0m\u001b[1;36m0\u001b[0m\u001b[1;33m)\u001b[0m\u001b[1;33m\u001b[0m\u001b[0m\n\u001b[0m\u001b[0;32m      3\u001b[0m \u001b[0mprint\u001b[0m\u001b[1;33m(\u001b[0m\u001b[1;34m\"statement 2\"\u001b[0m\u001b[1;33m)\u001b[0m\u001b[1;33m\u001b[0m\u001b[0m\n",
      "\u001b[1;31mZeroDivisionError\u001b[0m: division by zero"
     ]
    }
   ],
   "source": [
    "print(\"statement 1\")\n",
    "print(10/0)\n",
    "print(\"statement 2\")"
   ]
  },
  {
   "cell_type": "code",
   "execution_count": 4,
   "metadata": {},
   "outputs": [
    {
     "name": "stdout",
     "output_type": "stream",
     "text": [
      "statement 1\n",
      "5.0\n",
      "statement 2\n"
     ]
    }
   ],
   "source": [
    "print(\"statement 1\")\n",
    "\n",
    "try:\n",
    "    print(10/0)\n",
    "except ZeroDivisionError:\n",
    "    print(10/2)\n",
    "    \n",
    "print(\"statement 2\")"
   ]
  },
  {
   "cell_type": "code",
   "execution_count": 9,
   "metadata": {},
   "outputs": [
    {
     "name": "stdout",
     "output_type": "stream",
     "text": [
      "statement 1\n",
      "<traceback object at 0x0675EFD0>\n",
      "statement 2\n"
     ]
    }
   ],
   "source": [
    "import sys\n",
    "\n",
    "print(\"statement 1\")\n",
    "\n",
    "try:\n",
    "    print(10/0)\n",
    "except ZeroDivisionError as msg:\n",
    "    print(sys.exc_info()[2])\n",
    "    \n",
    "print(\"statement 2\")"
   ]
  },
  {
   "cell_type": "code",
   "execution_count": 15,
   "metadata": {},
   "outputs": [
    {
     "name": "stdout",
     "output_type": "stream",
     "text": [
      "statement 1\n",
      "enter no 1: 10\n",
      "enter no 2:0\n",
      "<class 'ZeroDivisionError'>\n",
      "statement 2\n"
     ]
    }
   ],
   "source": [
    "import sys\n",
    "\n",
    "print(\"statement 1\")\n",
    "try:\n",
    "    a =int(input(\"enter no 1: \"))\n",
    "    b =int(input(\"enter no 2:\"))\n",
    "    print(a/b)\n",
    "        \n",
    "except ValueError as msg:\n",
    "    print(msg)\n",
    "    \n",
    "except ZeroDivisionError as msg:\n",
    "    print(sys.exc_info()[0])\n",
    "    \n",
    "print(\"statement 2\")"
   ]
  },
  {
   "cell_type": "code",
   "execution_count": 17,
   "metadata": {},
   "outputs": [
    {
     "name": "stdout",
     "output_type": "stream",
     "text": [
      "statement 1\n",
      "enter no 1: 10\n",
      "enter no 2:0\n",
      "(<class 'ZeroDivisionError'>, ZeroDivisionError('division by zero',), <traceback object at 0x067A63F0>)\n",
      "statement 2\n"
     ]
    }
   ],
   "source": [
    "import sys\n",
    "\n",
    "print(\"statement 1\")\n",
    "try:\n",
    "    a =int(input(\"enter no 1: \"))\n",
    "    b =int(input(\"enter no 2:\"))\n",
    "    print(a/b)\n",
    "    \n",
    "except ArithmeticError as msg:\n",
    "    print(sys.exc_info())\n",
    "        \n",
    "except ZeroDivisionError as msg:\n",
    "    print(msg.exc_info())\n",
    "    \n",
    "print(\"statement 2\")"
   ]
  },
  {
   "cell_type": "code",
   "execution_count": 22,
   "metadata": {},
   "outputs": [
    {
     "name": "stdout",
     "output_type": "stream",
     "text": [
      "statement 1\n",
      "enter no 1: 10\n",
      "enter no 2:ten\n",
      "(<class 'ValueError'>, ValueError(\"invalid literal for int() with base 10: 'ten'\",), <traceback object at 0x067D83F0>)\n"
     ]
    }
   ],
   "source": [
    "import sys\n",
    "\n",
    "print(\"statement 1\")\n",
    "try:\n",
    "    a =int(input(\"enter no 1: \"))\n",
    "    b =int(input(\"enter no 2:\"))\n",
    "    print(a/b)\n",
    "    \n",
    "except (ZeroDivisionError,ValueError) as msg:\n",
    "    print(sys.exc_info())\n",
    "    "
   ]
  },
  {
   "cell_type": "code",
   "execution_count": 24,
   "metadata": {},
   "outputs": [
    {
     "name": "stdout",
     "output_type": "stream",
     "text": [
      "statement 1\n",
      "enter no 1: 10\n",
      "enter no 2:ten\n",
      "default exception.....\n"
     ]
    }
   ],
   "source": [
    "import sys\n",
    "\n",
    "print(\"statement 1\")\n",
    "try:\n",
    "    a =int(input(\"enter no 1: \"))\n",
    "    b =int(input(\"enter no 2:\"))\n",
    "    print(a/b)\n",
    "    \n",
    "except ZeroDivisionError as msg:\n",
    "    print(sys.exc_info())\n",
    "except:\n",
    "    print(\"default exception.....\")\n",
    "    \n",
    "    "
   ]
  },
  {
   "cell_type": "code",
   "execution_count": 25,
   "metadata": {},
   "outputs": [
    {
     "name": "stdout",
     "output_type": "stream",
     "text": [
      "statement 1\n"
     ]
    },
    {
     "ename": "SyntaxError",
     "evalue": "default 'except:' must be last (<ipython-input-25-f340f0204251>, line 7)",
     "output_type": "error",
     "traceback": [
      "\u001b[1;36m  File \u001b[1;32m\"<ipython-input-25-f340f0204251>\"\u001b[1;36m, line \u001b[1;32m7\u001b[0m\n\u001b[1;33m    print(a/b)\u001b[0m\n\u001b[1;37m           ^\u001b[0m\n\u001b[1;31mSyntaxError\u001b[0m\u001b[1;31m:\u001b[0m default 'except:' must be last\n"
     ]
    }
   ],
   "source": [
    "import sys\n",
    "\n",
    "print(\"statement 1\")\n",
    "try:\n",
    "    a =int(input(\"enter no 1: \"))\n",
    "    b =int(input(\"enter no 2:\"))\n",
    "    print(a/b)\n",
    "\n",
    "except:\n",
    "    print(\"default exception.....\")\n",
    "except ZeroDivisionError as msg:\n",
    "    print(sys.exc_info())\n"
   ]
  },
  {
   "cell_type": "code",
   "execution_count": 26,
   "metadata": {},
   "outputs": [
    {
     "name": "stdout",
     "output_type": "stream",
     "text": [
      "statement 1\n",
      "enter no 1: 10\n",
      "enter no 2:5\n",
      "2.0\n",
      "Always get exceuted\n"
     ]
    }
   ],
   "source": [
    "import sys\n",
    "\n",
    "print(\"statement 1\")\n",
    "try:\n",
    "    a =int(input(\"enter no 1: \"))\n",
    "    b =int(input(\"enter no 2:\"))\n",
    "    print(a/b)\n",
    "    \n",
    "except ZeroDivisionError as msg:\n",
    "    print(sys.exc_info())\n",
    "except:\n",
    "    print(\"default exception.....\")\n",
    "finally:\n",
    "    print(\"Always get exceuted\")"
   ]
  },
  {
   "cell_type": "code",
   "execution_count": 27,
   "metadata": {},
   "outputs": [
    {
     "name": "stdout",
     "output_type": "stream",
     "text": [
      "statement 1\n",
      "outer try\n",
      "inner try\n",
      "enter no 1: 10\n",
      "enter no 2:5\n",
      "2.0\n",
      "finally of inner block\n",
      "Always get exceuted\n"
     ]
    }
   ],
   "source": [
    "import sys\n",
    "\n",
    "print(\"statement 1\")\n",
    "try:\n",
    "    print(\"outer try\")\n",
    "    try:\n",
    "        print(\"inner try\")\n",
    "        a =int(input(\"enter no 1: \"))\n",
    "        b =int(input(\"enter no 2:\"))\n",
    "        print(a/b)\n",
    "        \n",
    "    except ZeroDivisionError as msg:\n",
    "        print(sys.exc_info())\n",
    "    finally:\n",
    "        print(\"finally of inner block\")\n",
    "except:\n",
    "    print(\"default exception.....\")\n",
    "finally:\n",
    "    print(\"Always get exceuted\")"
   ]
  },
  {
   "cell_type": "code",
   "execution_count": 30,
   "metadata": {},
   "outputs": [
    {
     "name": "stdout",
     "output_type": "stream",
     "text": [
      " enter age  : 45\n",
      "Valid age!!!!!\n"
     ]
    }
   ],
   "source": [
    "class TooYoungException(Exception):\n",
    "    def __init__(self,arg):\n",
    "        self.msg = arg\n",
    "        \n",
    "class TooOldException(Exception):\n",
    "    def __init__(self,arg):\n",
    "        self.msg = arg    \n",
    "        \n",
    "age =int(input(\" enter age  : \"))\n",
    "if age<18:\n",
    "    raise TooYoungException(\"Too young!!!!!! to vote!!!!!!!!!!\")\n",
    "elif age>60:\n",
    "    raise TooOldException(\"Too old!!!!!! to vote!!!!!!!!!!\")\n",
    "else:\n",
    "    print(\"Valid age!!!!!\")\n",
    "    \n"
   ]
  },
  {
   "cell_type": "code",
   "execution_count": null,
   "metadata": {},
   "outputs": [],
   "source": [
    "#file handling!\n",
    "'''\n",
    "2 types:\n",
    "    1: text file\n",
    "    2: binary file\n",
    "    \n",
    "to opena file :\n",
    "\n",
    "    open(filename, mode)\n",
    "    \n",
    "toclose a file\n",
    "    close()\n",
    "\n",
    "modes are:\n",
    " for text file :\n",
    "r -> read\n",
    "w -> write\n",
    "a -> append\n",
    "r+ -> read+write\n",
    "w+ -> write+read\n",
    "a+ -> append+read\n",
    "x -> if file already exists the return error otherwise create a new file\n",
    "\n",
    "\n",
    "for binary file:\n",
    "rb , wb  , ab r+b, w+b, a+b , xb\n",
    "\n",
    "\n",
    "writing functions:\n",
    "\n",
    "    write(str)\n",
    "    writelines(list of lines)\n",
    "    \n",
    "    \n",
    "reading from a file\n",
    "\n",
    "    read() -> to read  whole file\n",
    "    read(n) ->read n character from  file\n",
    "    readline() -> read one line only\n",
    "    readlines() -> read all  lines into a list\n",
    "            \n",
    "\n",
    "'''"
   ]
  },
  {
   "cell_type": "code",
   "execution_count": 1,
   "metadata": {},
   "outputs": [
    {
     "name": "stdout",
     "output_type": "stream",
     "text": [
      "File name :  abc.txt\n",
      "Mode :  w\n",
      "Is file readable :  False\n",
      "Is file writeable :  True\n",
      "Is file close:  False\n",
      "Is file close:  True\n"
     ]
    }
   ],
   "source": [
    "f = open(\"abc.txt\",\"w\")\n",
    "print(\"File name : \",f.name)\n",
    "print(\"Mode : \",f.mode)\n",
    "print(\"Is file readable : \",f.readable())\n",
    "print(\"Is file writeable : \",f.writable())\n",
    "print(\"Is file close: \",f.closed)\n",
    "f.close()\n",
    "print(\"Is file close: \",f.closed)\n"
   ]
  },
  {
   "cell_type": "code",
   "execution_count": 3,
   "metadata": {},
   "outputs": [
    {
     "name": "stdout",
     "output_type": "stream",
     "text": [
      "Successfully wrritten.....\n"
     ]
    }
   ],
   "source": [
    "f = open(\"abc.txt\",\"w\")\n",
    "f.write(\"Python\\n\")\n",
    "f.write(\"Programming\\n\")\n",
    "f.write(\"Language and\\n\")\n",
    "f.write(\"Modules\\n\")\n",
    "print(\"Successfully wrritten.....\")\n",
    "f.close()"
   ]
  },
  {
   "cell_type": "code",
   "execution_count": 4,
   "metadata": {},
   "outputs": [
    {
     "name": "stdout",
     "output_type": "stream",
     "text": [
      "Successfully wrritten.....\n"
     ]
    }
   ],
   "source": [
    "f = open(\"abc.txt\",\"a\")\n",
    "f.write(\"Python\\n\")\n",
    "f.write(\"Programming\\n\")\n",
    "f.write(\"Language and\\n\")\n",
    "f.write(\"Modules\\n\")\n",
    "print(\"Successfully wrritten.....\")\n",
    "f.close()"
   ]
  },
  {
   "cell_type": "code",
   "execution_count": 5,
   "metadata": {},
   "outputs": [
    {
     "name": "stdout",
     "output_type": "stream",
     "text": [
      "Successfully wrritten.....\n"
     ]
    }
   ],
   "source": [
    "f = open(\"abc.txt\",\"w\")\n",
    "L=[\"hope\\n\",\"good\\n\",\"things\\n\",\"positive\\n\",\"vibes\\n\"]\n",
    "f.writelines(L)\n",
    "print(\"Successfully wrritten.....\")\n",
    "f.close()"
   ]
  },
  {
   "cell_type": "code",
   "execution_count": 6,
   "metadata": {},
   "outputs": [
    {
     "name": "stdout",
     "output_type": "stream",
     "text": [
      "hope\n",
      "good\n",
      "things\n",
      "positive\n",
      "vibes\n",
      "\n"
     ]
    }
   ],
   "source": [
    "f = open(\"abc.txt\",\"r\")\n",
    "d = f.read()\n",
    "print(d)\n",
    "f.close()"
   ]
  },
  {
   "cell_type": "code",
   "execution_count": 7,
   "metadata": {},
   "outputs": [
    {
     "name": "stdout",
     "output_type": "stream",
     "text": [
      "hope\n",
      "good\n",
      "\n"
     ]
    }
   ],
   "source": [
    "f = open(\"abc.txt\",\"r\")\n",
    "d = f.read(10)\n",
    "print(d)\n",
    "f.close()"
   ]
  },
  {
   "cell_type": "code",
   "execution_count": 8,
   "metadata": {},
   "outputs": [
    {
     "name": "stdout",
     "output_type": "stream",
     "text": [
      "hope\n",
      "\n",
      "good\n",
      "\n",
      "things\n",
      "\n",
      "positive\n",
      "\n"
     ]
    }
   ],
   "source": [
    "f = open(\"abc.txt\",\"r\")\n",
    "d = f.readline()\n",
    "print(d)\n",
    "d = f.readline()\n",
    "print(d)\n",
    "d = f.readline()\n",
    "print(d)\n",
    "d = f.readline()\n",
    "print(d)\n",
    "\n",
    "f.close()"
   ]
  },
  {
   "cell_type": "code",
   "execution_count": 9,
   "metadata": {},
   "outputs": [
    {
     "name": "stdout",
     "output_type": "stream",
     "text": [
      "hope\n",
      "\n",
      "good\n",
      "\n",
      "things\n",
      "\n",
      "positive\n",
      "\n",
      "vibes\n",
      "\n"
     ]
    }
   ],
   "source": [
    "f = open(\"abc.txt\",\"r\")\n",
    "L = f.readlines()\n",
    "for i in L:\n",
    "    print(i)\n",
    "f.close()"
   ]
  },
  {
   "cell_type": "code",
   "execution_count": 13,
   "metadata": {},
   "outputs": [
    {
     "name": "stdout",
     "output_type": "stream",
     "text": [
      "hope\n",
      "good\n",
      "\n",
      "12\n",
      "things\n",
      "p\n",
      "21\n"
     ]
    }
   ],
   "source": [
    "f = open(\"abc.txt\",\"r\")\n",
    "d = f.read(10)\n",
    "print(d)\n",
    "\n",
    "print(f.tell())\n",
    "\n",
    "d=f.read(8)\n",
    "print(d)\n",
    "\n",
    "print(f.tell())\n",
    "\n",
    "f.close()"
   ]
  },
  {
   "cell_type": "code",
   "execution_count": 14,
   "metadata": {},
   "outputs": [
    {
     "name": "stdout",
     "output_type": "stream",
     "text": [
      "hope\n",
      "good\n",
      "\n",
      "12\n",
      "hope\n",
      "goo\n",
      "9\n"
     ]
    }
   ],
   "source": [
    "# seek (offset)\n",
    "f = open(\"abc.txt\",\"r\")\n",
    "d = f.read(10)\n",
    "print(d)\n",
    "\n",
    "print(f.tell())\n",
    "\n",
    "f.seek(0)\n",
    "\n",
    "\n",
    "d=f.read(8)\n",
    "print(d)\n",
    "\n",
    "print(f.tell())\n",
    "\n",
    "f.close()"
   ]
  },
  {
   "cell_type": "code",
   "execution_count": 15,
   "metadata": {},
   "outputs": [
    {
     "name": "stdout",
     "output_type": "stream",
     "text": [
      "s\n",
      "positi\n",
      "26\n"
     ]
    }
   ],
   "source": [
    "f = open(\"abc.txt\",\"r\")\n",
    "f.seek(17)\n",
    "\n",
    "d=f.read(8)\n",
    "\n",
    "print(d)\n",
    "print(f.tell())\n",
    "\n",
    "f.close()"
   ]
  },
  {
   "cell_type": "code",
   "execution_count": 16,
   "metadata": {},
   "outputs": [
    {
     "name": "stdout",
     "output_type": "stream",
     "text": [
      "All students are genious\n",
      "24\n",
      "18\n",
      "Data after modification : \n",
      "All students are gGEMS!!!!!\n"
     ]
    }
   ],
   "source": [
    "d= \"All students are genious\"\n",
    "f = open(\"abcd.txt\",\"w\")\n",
    "f.write(d)\n",
    "f.close()\n",
    "\n",
    "f = open(\"abcd.txt\",\"r+\")\n",
    "d = f.read()\n",
    "print(d)\n",
    "\n",
    "print(f.tell())\n",
    "f.seek(18)\n",
    "print(f.tell())\n",
    "\n",
    "f.write(\"GEMS!!!!!\")\n",
    "f.seek(0)\n",
    "d = f.read()\n",
    "\n",
    "print(\"Data after modification : \")\n",
    "print(d)\n",
    "\n",
    "f.close()"
   ]
  },
  {
   "cell_type": "code",
   "execution_count": 18,
   "metadata": {},
   "outputs": [
    {
     "name": "stdout",
     "output_type": "stream",
     "text": [
      "enter file name: abc.txt\n",
      "File exist.....\n",
      "hope\n",
      "\n",
      "good\n",
      "\n",
      "things\n",
      "\n",
      "positive\n",
      "\n",
      "vibes\n",
      "\n"
     ]
    }
   ],
   "source": [
    "import os,sys\n",
    "fnm = input(\"enter file name: \")\n",
    "if os.path.isfile(fnm):\n",
    "    print(\"File exist.....\")\n",
    "    f = open(fnm,\"r\")\n",
    "    L = f.readlines()\n",
    "    for i in L:\n",
    "        print(i)\n",
    "    f.close()\n",
    "else:\n",
    "    print(\"File not exist....\")\n",
    "\n",
    "    \n",
    "    "
   ]
  },
  {
   "cell_type": "code",
   "execution_count": 2,
   "metadata": {},
   "outputs": [],
   "source": [
    "#Handling Binary Data\n",
    "\n",
    "f1 = open(\"pic3.jpg\",\"rb\")\n",
    "f2 = open(\"pic5.jpg\",\"wb\")\n",
    "\n",
    "b = f1.read()\n",
    "#print(b)\n",
    "f2.write(b)\n",
    "\n",
    "f1.close()\n",
    "f2.close()"
   ]
  },
  {
   "cell_type": "code",
   "execution_count": 5,
   "metadata": {},
   "outputs": [
    {
     "name": "stdout",
     "output_type": "stream",
     "text": [
      "How many employees : 2\n",
      " enter eno : 101\n",
      " enter enm : mohan\n",
      " enter esal : 12000\n",
      " enter edepart : sales\n",
      " enter eno : 103\n",
      " enter enm : william\n",
      " enter esal : 13000\n",
      " enter edepart : edp\n",
      "Data Successfully written\n",
      "['ENO', 'ENAME', 'ESAL', 'EDEPART']\n",
      "['101', 'mohan', '12000', 'sales']\n",
      "['103', 'william', '13000', 'edp']\n"
     ]
    }
   ],
   "source": [
    "#CSV files\n",
    "\n",
    "import csv\n",
    "\n",
    "f = open(\"Employee.csv\",\"w\",newline='')\n",
    "w = csv.writer(f)\n",
    "L=[\"ENO\",\"ENAME\",\"ESAL\",\"EDEPART\"]\n",
    "w.writerow(L)\n",
    "\n",
    "n =int(input(\"How many employees : \"))\n",
    "for i in range(0,n):\n",
    "    eno = input(\" enter eno : \")\n",
    "    enm = input(\" enter enm : \")\n",
    "    esal = input(\" enter esal : \")\n",
    "    edepart = input(\" enter edepart : \")\n",
    "    L = [eno,enm,esal,edepart]\n",
    "    w.writerow(L)\n",
    "    \n",
    "f.close();\n",
    "print(\"Data Successfully written\")\n",
    "\n",
    "\n",
    "\n",
    "f= open(\"Employee.csv\" ,\"r\")\n",
    "\n",
    "r = csv.reader(f)\n",
    "d = list(r)\n",
    "for i in d:\n",
    "    print(i)\n",
    "    \n",
    "f.close()\n"
   ]
  },
  {
   "cell_type": "code",
   "execution_count": 6,
   "metadata": {},
   "outputs": [],
   "source": [
    "f1 = open(\"vid.mp4\",\"rb\")\n",
    "f2 = open(\"vid1.mp4\",\"wb\")\n",
    "\n",
    "b = f1.read()\n",
    "#print(b)\n",
    "f2.write(b)\n",
    "\n",
    "f1.close()\n",
    "f2.close()"
   ]
  },
  {
   "cell_type": "code",
   "execution_count": 7,
   "metadata": {},
   "outputs": [
    {
     "name": "stdout",
     "output_type": "stream",
     "text": [
      "Written!!!!!!\n",
      "pic3.jpg\n",
      "abc.txt\n",
      "vid.mp4\n",
      "Employee.csv\n"
     ]
    }
   ],
   "source": [
    "# zip module\n",
    "#ZIP_DEFLATED - w\n",
    "#ZIP_STORED - r\n",
    "\n",
    "from zipfile import *\n",
    "f = ZipFile(\"Zfile.zip\",\"w\",ZIP_DEFLATED)\n",
    "f.write(\"pic3.jpg\")\n",
    "f.write(\"abc.txt\")\n",
    "f.write(\"vid.mp4\")\n",
    "f.write(\"Employee.csv\")\n",
    "f.close()\n",
    "print(\"Written!!!!!!\")\n",
    "\n",
    "\n",
    "f = ZipFile(\"Zfile.zip\",\"r\",ZIP_STORED)\n",
    "n = f.namelist()\n",
    "for i in n:\n",
    "    print(i)\n",
    "    \n",
    "f.close()\n",
    "\n"
   ]
  },
  {
   "cell_type": "code",
   "execution_count": 8,
   "metadata": {},
   "outputs": [
    {
     "name": "stdout",
     "output_type": "stream",
     "text": [
      "C:\\Users\\user\n"
     ]
    }
   ],
   "source": [
    "import os\n",
    "c = os.getcwd()\n",
    "print(c)"
   ]
  },
  {
   "cell_type": "code",
   "execution_count": 12,
   "metadata": {},
   "outputs": [
    {
     "ename": "FileExistsError",
     "evalue": "[WinError 183] Cannot create a file when that file already exists: 'mydir/mysub1'",
     "output_type": "error",
     "traceback": [
      "\u001b[1;31m---------------------------------------------------------------------------\u001b[0m",
      "\u001b[1;31mFileExistsError\u001b[0m                           Traceback (most recent call last)",
      "\u001b[1;32m<ipython-input-12-2dd51a05850c>\u001b[0m in \u001b[0;36m<module>\u001b[1;34m()\u001b[0m\n\u001b[0;32m      1\u001b[0m \u001b[1;32mimport\u001b[0m \u001b[0mos\u001b[0m\u001b[1;33m\u001b[0m\u001b[0m\n\u001b[1;32m----> 2\u001b[1;33m \u001b[0mos\u001b[0m\u001b[1;33m.\u001b[0m\u001b[0mmkdir\u001b[0m\u001b[1;33m(\u001b[0m\u001b[1;34m\"mydir/mysub1\"\u001b[0m\u001b[1;33m)\u001b[0m\u001b[1;33m\u001b[0m\u001b[0m\n\u001b[0m",
      "\u001b[1;31mFileExistsError\u001b[0m: [WinError 183] Cannot create a file when that file already exists: 'mydir/mysub1'"
     ]
    }
   ],
   "source": [
    "import os\n",
    "os.mkdir(\"mydir/mysub1\")"
   ]
  },
  {
   "cell_type": "code",
   "execution_count": 13,
   "metadata": {},
   "outputs": [],
   "source": [
    "import os\n",
    "os.makedirs(\"mydir/mysub1/mysub2/mysub3\")"
   ]
  },
  {
   "cell_type": "code",
   "execution_count": 15,
   "metadata": {},
   "outputs": [],
   "source": [
    "os.removedirs(\"mydir/mysub1/mysub2/mysub3\")"
   ]
  },
  {
   "cell_type": "code",
   "execution_count": 17,
   "metadata": {},
   "outputs": [
    {
     "name": "stdout",
     "output_type": "stream",
     "text": [
      "os.stat_result(st_mode=33206, st_ino=33214047252006361, st_dev=1007014508, st_nlink=1, st_uid=0, st_gid=0, st_size=37, st_atime=1623725830, st_mtime=1623726108, st_ctime=1623725830)\n"
     ]
    }
   ],
   "source": [
    "import os\n",
    "from datetime import *\n",
    "s = os.stat(\"abc.txt\")\n",
    "print(s)"
   ]
  },
  {
   "cell_type": "code",
   "execution_count": null,
   "metadata": {},
   "outputs": [],
   "source": [
    "#Pickling and UnPickling\n",
    "#write     pickle.dump(object,file)\n",
    "# read     obj = pickle.load(f)\n",
    "\n",
    "\n"
   ]
  },
  {
   "cell_type": "code",
   "execution_count": 18,
   "metadata": {},
   "outputs": [
    {
     "name": "stdout",
     "output_type": "stream",
     "text": [
      "Data write in file\n",
      "100 William\n"
     ]
    }
   ],
   "source": [
    "import pickle\n",
    "class Employee:\n",
    "    def __init__(self,no,nm):\n",
    "        self.eno = no\n",
    "        self.enm = nm\n",
    "        \n",
    "    def display(self):\n",
    "        print(self.eno,self.enm)\n",
    "        \n",
    "    \n",
    "e = Employee(100,\"William\")    \n",
    "f = open(\"Vemp.dat\",\"wb\")\n",
    "pickle.dump(e,f)\n",
    "print(\"Data write in file\")\n",
    "f.close()\n",
    "\n",
    "f = open(\"Vemp.dat\",\"rb\")\n",
    "b = pickle.load(f)\n",
    "b.display()\n",
    "f.close()\n",
    "\n"
   ]
  },
  {
   "cell_type": "code",
   "execution_count": null,
   "metadata": {},
   "outputs": [],
   "source": [
    "#class\n",
    "'''class Test\n",
    "{\n",
    "    \n",
    "    state - variables - holds athe value for a class\n",
    "    \n",
    "    \n",
    "    behavior - methods - handle flow of the class  and values of a state\n",
    "    \n",
    "}\n",
    "\n",
    "\n",
    "class Student:\n",
    "    '''  docstring '''\n",
    "    def __init__(self):   -> default constructor of a class\n",
    "        self.name  -> Properties\n",
    "        self.age\n",
    "        \n",
    "    def display(self):  -> action \n",
    "        logic\n",
    "        return\n",
    "        \n",
    "    genertaor\n",
    "    decorates\n",
    "\n",
    "'''"
   ]
  },
  {
   "cell_type": "code",
   "execution_count": 11,
   "metadata": {},
   "outputs": [
    {
     "name": "stdout",
     "output_type": "stream",
     "text": [
      "display\n",
      "display\n",
      "Help on class Student in module __main__:\n",
      "\n",
      "class Student(builtins.object)\n",
      " |  This is a student class\n",
      " |  \n",
      " |  Methods defined here:\n",
      " |  \n",
      " |  display(self)\n",
      " |  \n",
      " |  showdata(self)\n",
      " |  \n",
      " |  ----------------------------------------------------------------------\n",
      " |  Data descriptors defined here:\n",
      " |  \n",
      " |  __dict__\n",
      " |      dictionary for instance variables (if defined)\n",
      " |  \n",
      " |  __weakref__\n",
      " |      list of weak references to the object (if defined)\n",
      "\n",
      "{}\n"
     ]
    }
   ],
   "source": [
    "class Student:\n",
    "    ''' This is a student class '''\n",
    "    \n",
    "    def display(self):\n",
    "        print(\"display\")\n",
    "        \n",
    "    def showdata(self):\n",
    "        print(\"showdata\")\n",
    "\n",
    "obj = Student()\n",
    "obj.display()\n",
    "\n",
    "\n",
    "obj1= Student()\n",
    "obj1.display()\n",
    "\n",
    "help(Student)\n",
    "\n",
    "print(obj.__dict__)\n",
    "        \n",
    "        \n",
    "    "
   ]
  },
  {
   "cell_type": "code",
   "execution_count": null,
   "metadata": {},
   "outputs": [],
   "source": [
    "'''\n",
    "3 types of variable reference\n",
    "1: Instance  - object level\n",
    "2: static  - class level\n",
    "3: local  - method level\n",
    "\n",
    "3 type of actions:\n",
    "\n",
    "1: Instance Methods\n",
    "2: Class Methods\n",
    "3: Static Methods\n",
    "\n",
    "\n",
    "\n",
    "\n",
    "'''"
   ]
  },
  {
   "cell_type": "code",
   "execution_count": 10,
   "metadata": {},
   "outputs": [
    {
     "name": "stdout",
     "output_type": "stream",
     "text": [
      "default const get called....\n",
      "Display get called....\n",
      "mohan     100     80\n",
      "CSC\n",
      "CSC\n",
      "{'name': 'mohan', 'score': 100}\n",
      "{'__module__': '__main__', '__doc__': ' This is a student class ', 'Course': 'CSC', '__init__': <function Student.__init__ at 0x06AE6030>, 'display': <function Student.display at 0x0682A9C0>, '__dict__': <attribute '__dict__' of 'Student' objects>, '__weakref__': <attribute '__weakref__' of 'Student' objects>}\n",
      "<attribute '__weakref__' of 'Student' objects>\n"
     ]
    }
   ],
   "source": [
    "class Student:\n",
    "    ''' This is a student class '''\n",
    "    Course =\"CSC\" # static var\n",
    "    \n",
    "    def __init__(self):  # self is default variable points to the current object of a class\n",
    "        self.name=\"mohan\"    # instance variable\n",
    "        self.score=100\n",
    "        print(\"default const get called....\")\n",
    "        \n",
    "    def display(self):\n",
    "        \n",
    "        print(\"Display get called....\")\n",
    "        \n",
    "        total=80        # local variable                \n",
    "        print(self.name,\"   \",self.score,\"   \", total)\n",
    "        \n",
    "    \n",
    "    \n",
    "obj = Student()\n",
    "obj.display()\n",
    "print(Student.Course)  # perfect way to call static member\n",
    "print(obj.Course)\n",
    "\n",
    "print(obj.__dict__)\n",
    "\n",
    "print(Student.__dict__)\n",
    "\n",
    "print(Student.__weakref__)\n",
    "                            "
   ]
  },
  {
   "cell_type": "code",
   "execution_count": 14,
   "metadata": {},
   "outputs": [
    {
     "name": "stdout",
     "output_type": "stream",
     "text": [
      "parameterized\n",
      "mohan\n"
     ]
    }
   ],
   "source": [
    "class Test:\n",
    "    def __init__(self):\n",
    "        print(\"default\")\n",
    "        \n",
    "    \n",
    "    def __init__(self,nm):\n",
    "        print(\"parameterized\")\n",
    "        self.name = nm\n",
    "        print(self.name)\n",
    "        \n",
    "        \n",
    "obj = Test(\"mohan\")\n",
    "\n"
   ]
  },
  {
   "cell_type": "code",
   "execution_count": 16,
   "metadata": {},
   "outputs": [
    {
     "name": "stdout",
     "output_type": "stream",
     "text": [
      "default\n"
     ]
    }
   ],
   "source": [
    "class Test:\n",
    "    def __init__(self,nm):\n",
    "        print(\"parameterized\")\n",
    "        self.name = nm\n",
    "        print(self.name)\n",
    "        \n",
    "    def __init__(self):\n",
    "        print(\"default\")\n",
    "        \n",
    "                        \n",
    "obj = Test()"
   ]
  },
  {
   "cell_type": "code",
   "execution_count": 17,
   "metadata": {},
   "outputs": [
    {
     "name": "stdout",
     "output_type": "stream",
     "text": [
      "101 \t mohan \t 90\n",
      "102 \t pooja \t 100\n"
     ]
    }
   ],
   "source": [
    "class Student:\n",
    "    def __init__(self,roll,nm,s):\n",
    "        self.rollno = roll\n",
    "        self.name = nm\n",
    "        self.score = s\n",
    "    def display(self):\n",
    "        print(self.rollno , \"\\t\", self.name ,\"\\t\", self.score )\n",
    "        \n",
    "    \n",
    "obj = Student(101,\"mohan\",90)\n",
    "obj.display()\n",
    "\n",
    "obj1 = Student(102,\"pooja\",100)\n",
    "obj1.display()\n"
   ]
  },
  {
   "cell_type": "markdown",
   "metadata": {},
   "source": [
    "# "
   ]
  },
  {
   "cell_type": "code",
   "execution_count": 21,
   "metadata": {},
   "outputs": [
    {
     "name": "stdout",
     "output_type": "stream",
     "text": [
      "{'rollno': 101, 'name': 'mohan', 'score': 100, 'course': 'csc'}\n",
      "{'rollno': 101, 'name': 'mohan', 'course': 'csc'}\n",
      "{'name': 'mohan', 'course': 'csc'}\n",
      "mohan\n",
      "csc\n"
     ]
    }
   ],
   "source": [
    "class Student:\n",
    "    def __init__(self,roll,nm,s):\n",
    "        self.rollno = roll\n",
    "        self.name = nm\n",
    "        self.score = s\n",
    "    def display(self):\n",
    "        print(self.rollno , \"\\t\", self.name ,\"\\t\", self.score )\n",
    "        \n",
    "        \n",
    "obj = Student(101,\"mohan\",100)\n",
    "obj.course =\"csc\"\n",
    "\n",
    "print(obj.__dict__)\n",
    "\n",
    "del obj.score\n",
    "\n",
    "print(obj.__dict__)\n",
    "\n",
    "del obj.rollno\n",
    "\n",
    "print(obj.__dict__)\n",
    "\n",
    "print(obj.name)\n",
    "print(obj.course)"
   ]
  },
  {
   "cell_type": "code",
   "execution_count": 23,
   "metadata": {},
   "outputs": [
    {
     "name": "stdout",
     "output_type": "stream",
     "text": [
      "90\n",
      "90\n",
      "90\n",
      "900     9000\n"
     ]
    }
   ],
   "source": [
    "class Test:\n",
    "    x=90     # static member\n",
    "    \n",
    "    def __init__(self):\n",
    "        self.z=890\n",
    "        \n",
    "t1= Test()\n",
    "t2 = Test()\n",
    "\n",
    "t1.z=900\n",
    "t2.z=9000\n",
    "\n",
    "print(Test.x)\n",
    "print(t1.x)\n",
    "print(t2.x)\n",
    "\n",
    "print(t1.z,\"   \",t2.z)\n",
    "        \n",
    "    "
   ]
  },
  {
   "cell_type": "code",
   "execution_count": 8,
   "metadata": {},
   "outputs": [
    {
     "name": "stdout",
     "output_type": "stream",
     "text": [
      "30\n",
      "20\n",
      "89     900\n",
      "56      78\n"
     ]
    }
   ],
   "source": [
    "class Test:\n",
    "    a=10\n",
    "    def __init__(self):\n",
    "        Test.b=20\n",
    "        \n",
    "    def func1(self):\n",
    "        Test.c=30\n",
    "        print(Test.c)\n",
    "        print(Test.b)\n",
    "        \n",
    "    @staticmethod\n",
    "    def func2():\n",
    "        Test.e=89\n",
    "        Test.a=900  # modify static \n",
    "        print(Test.e,\"   \",Test.a)\n",
    "        \n",
    "    \n",
    "    @classmethod\n",
    "    def func3(cls):\n",
    "        cls.d=56\n",
    "        Test.g=78\n",
    "        print(cls.d,\"    \",Test.g)\n",
    "        \n",
    "#print(Test.__dict__)\n",
    "\n",
    "t = Test()\n",
    "t.func1()\n",
    "Test.func2()\n",
    "Test.func3()\n",
    "\n",
    "\n",
    "        \n",
    "        \n",
    "    \n"
   ]
  },
  {
   "cell_type": "code",
   "execution_count": 10,
   "metadata": {},
   "outputs": [
    {
     "name": "stdout",
     "output_type": "stream",
     "text": [
      "10\n",
      "90\n",
      "1739401552\n",
      "1739402832\n"
     ]
    }
   ],
   "source": [
    "class Test:\n",
    "    a=10\n",
    "    def func1(self):\n",
    "        self.a =90\n",
    "        \n",
    "        \n",
    "t1 = Test()\n",
    "t1.func1()\n",
    "\n",
    "print(Test.a)\n",
    "print(t1.a)\n",
    "\n",
    "print(id(Test.a))\n",
    "print(id(t1.a))"
   ]
  },
  {
   "cell_type": "code",
   "execution_count": 14,
   "metadata": {},
   "outputs": [
    {
     "name": "stdout",
     "output_type": "stream",
     "text": [
      "90 100\n",
      "90 100\n",
      "90 200\n",
      "{'__module__': '__main__', '__init__': <function Test.__init__ at 0x060EB468>, 'func1': <classmethod object at 0x05E76E50>, '__dict__': <attribute '__dict__' of 'Test' objects>, '__weakref__': <attribute '__weakref__' of 'Test' objects>, '__doc__': None, 'b': 200}\n"
     ]
    }
   ],
   "source": [
    "class Test:\n",
    "    a=10\n",
    "    def __init__(self):\n",
    "        self.b=100\n",
    "        \n",
    "    @classmethod \n",
    "    def func1(cls):\n",
    "        cls.a=90\n",
    "        cls.b=200\n",
    "                        \n",
    "t1 = Test()\n",
    "t2 = Test()\n",
    "\n",
    "Test.func1()\n",
    "\n",
    "t1.func1()\n",
    "\n",
    "print(t1.a , t1.b)\n",
    "print(t1.a , t2.b)\n",
    "print(Test.a , Test.b)\n",
    "\n",
    "del Test.a\n",
    "\n",
    "print(Test.__dict__)\n"
   ]
  },
  {
   "cell_type": "code",
   "execution_count": null,
   "metadata": {},
   "outputs": [],
   "source": [
    "#setter/getter methods\n",
    "\n",
    "'''\n",
    "\n",
    "    def setVariable(self,n):   # mutator method\n",
    "        self.name = n \n",
    "        \n",
    "    def getVariable(self):    # accessor method\n",
    "        return self.name\n",
    "\n",
    "'''"
   ]
  },
  {
   "cell_type": "code",
   "execution_count": 16,
   "metadata": {},
   "outputs": [
    {
     "name": "stdout",
     "output_type": "stream",
     "text": [
      "Enter no of students : 2\n",
      "enter name : mohan\n",
      "Enter marks : 90\n",
      "Hello !    mohan\n",
      "Your Marks are :  90\n",
      "\n",
      "enter name : gagan\n",
      "Enter marks : 89\n",
      "Hello !    gagan\n",
      "Your Marks are :  89\n",
      "\n"
     ]
    }
   ],
   "source": [
    "class Student:\n",
    "    def setName(self,n):\n",
    "        self.name = n\n",
    "        \n",
    "    def getName(self):\n",
    "        return self.name\n",
    "        \n",
    "    \n",
    "    def setMarks(self,m):\n",
    "        self.marks = m\n",
    "        \n",
    "    def getMarks(self):\n",
    "        return self.marks\n",
    "    \n",
    "    \n",
    "n = int(input (\"Enter no of students : \"))\n",
    "for i in range(0,n):\n",
    "    s = Student()\n",
    "    \n",
    "    nm = input(\"enter name : \")\n",
    "    s.setName(nm)\n",
    "    \n",
    "    \n",
    "    mk = int(input(\"Enter marks : \"))\n",
    "    s.setMarks(mk)\n",
    "    \n",
    "    print(\"Hello !   \",s.getName())\n",
    "    print(\"Your Marks are : \",s.getMarks())\n",
    "    print()\n",
    "    "
   ]
  },
  {
   "cell_type": "code",
   "execution_count": 17,
   "metadata": {},
   "outputs": [
    {
     "name": "stdout",
     "output_type": "stream",
     "text": [
      "Total no of object are :  2\n",
      "Total no of object are :  4\n"
     ]
    }
   ],
   "source": [
    "# track no of objects of a class\n",
    "\n",
    "class Test:\n",
    "    count=0\n",
    "    def __init__(self):\n",
    "        Test.count = Test.count + 1\n",
    "        \n",
    "    @classmethod\n",
    "    def no_of_Objects(cls):\n",
    "        print(\"Total no of object are : \",cls.count)\n",
    "        \n",
    "        \n",
    "t1 = Test()\n",
    "t2 = Test()\n",
    "\n",
    "Test.no_of_Objects()\n",
    "\n",
    "t3 = Test()\n",
    "t4 = Test()\n",
    "\n",
    "Test.no_of_Objects()\n",
    "        \n"
   ]
  },
  {
   "cell_type": "code",
   "execution_count": 19,
   "metadata": {},
   "outputs": [
    {
     "name": "stdout",
     "output_type": "stream",
     "text": [
      "outer class object created....\n",
      "inner class object creation....\n",
      "inner class method\n",
      "outer class object created....\n",
      "inner class object creation....\n",
      "inner class method\n",
      "outer class object created....\n",
      "inner class object creation....\n",
      "inner class method\n"
     ]
    }
   ],
   "source": [
    "#Nested classes\n",
    "\n",
    "class Outer:\n",
    "    def __init__(self):\n",
    "        print(\"outer class object created....\")\n",
    "        \n",
    "    class Inner:\n",
    "        def __init__(self):\n",
    "            print(\"inner class object creation....\")\n",
    "            \n",
    "        def m1(self):\n",
    "            print(\"inner class method\")\n",
    "#1 way            \n",
    "        \n",
    "ob = Outer()\n",
    "io = ob.Inner()\n",
    "io.m1()\n",
    "\n",
    "\n",
    "# 2 way\n",
    "iobj = Outer().Inner()\n",
    "iobj.m1()\n",
    "\n",
    "\n",
    "#3 way\n",
    "\n",
    "Outer().Inner().m1()\n",
    "\n",
    "\n",
    "\n",
    "\n",
    "\n"
   ]
  },
  {
   "cell_type": "code",
   "execution_count": 20,
   "metadata": {},
   "outputs": [
    {
     "name": "stdout",
     "output_type": "stream",
     "text": [
      "mohan\n",
      "DOB :  10 / 9 / 1997\n"
     ]
    }
   ],
   "source": [
    "class Person:\n",
    "    def __init__(self):\n",
    "        self.name = \"mohan\"\n",
    "        self.dt_of_birth = self.DOB() # object of DOB class get created\n",
    "        \n",
    "    def display(self):\n",
    "        print(self.name)\n",
    "        \n",
    "    class DOB:\n",
    "        def __init__(self):\n",
    "            self.dd = 10\n",
    "            self.mm = 9\n",
    "            self.yy = 1997\n",
    "            \n",
    "        def display(self):\n",
    "            print(\"DOB : \",self.dd,\"/\",self.mm,\"/\",self.yy)\n",
    "            \n",
    "            \n",
    "p = Person()\n",
    "p.display()\n",
    "x = p.dt_of_birth\n",
    "x.display()\n",
    "            \n",
    "    \n",
    "            "
   ]
  },
  {
   "cell_type": "code",
   "execution_count": 25,
   "metadata": {},
   "outputs": [
    {
     "name": "stdout",
     "output_type": "stream",
     "text": [
      "const of a class.....\n",
      "const of a class.....\n",
      "const of a class.....\n",
      "const of a class.....\n",
      "destructor of a class....\n",
      "destructor of a class....\n",
      "destructor of a class....\n"
     ]
    }
   ],
   "source": [
    "class Test:\n",
    "    def __init__(self):\n",
    "        print(\"const of a class.....\")\n",
    "    \n",
    "    def __del__(self):\n",
    "        print(\"destructor of a class....\")\n",
    "        \n",
    "    \n",
    "t1 = Test()\n",
    "\n",
    "#t2 = t1\n",
    "#t3 = t2\n",
    "\n",
    "#del t3\n",
    "#del t1\n",
    "\n",
    "L= [Test(),Test(),Test()]\n",
    "\n",
    "del L\n",
    "\n",
    "\n",
    "\n"
   ]
  },
  {
   "cell_type": "code",
   "execution_count": 26,
   "metadata": {},
   "outputs": [
    {
     "name": "stdout",
     "output_type": "stream",
     "text": [
      "const of a class.....\n",
      "5\n"
     ]
    }
   ],
   "source": [
    "import sys\n",
    "class Test:\n",
    "    def __init__(self):\n",
    "        print(\"const of a class.....\")\n",
    "    \n",
    "    def __del__(self):\n",
    "        print(\"destructor of a class....\")\n",
    "        \n",
    "t1=Test()\n",
    "t2=t1\n",
    "t3=t1\n",
    "t4=t1\n",
    "# 4 in count + 1 for self \n",
    "\n",
    "print(sys.getrefcount(t1))\n"
   ]
  },
  {
   "cell_type": "code",
   "execution_count": null,
   "metadata": {},
   "outputs": [],
   "source": [
    "#poly - many\n",
    "# morphs - many forms\n",
    "\n",
    "# polymorphism - many forms\n",
    "'''\n",
    "types :\n",
    "1: Duck Typing\n",
    "2: Overloading\n",
    "      operators\n",
    "      methods\n",
    "      constructor\n",
    "      \n",
    "3: Overriding\n",
    "    method\n",
    "    constructor\n",
    "    \n",
    "    \n",
    "'''\n"
   ]
  },
  {
   "cell_type": "code",
   "execution_count": 2,
   "metadata": {},
   "outputs": [
    {
     "name": "stdout",
     "output_type": "stream",
     "text": [
      "two-args\n"
     ]
    }
   ],
   "source": [
    "#method overloading\n",
    "\n",
    "class Test:\n",
    "    def m1(self):\n",
    "        print(\"no args\")\n",
    "        \n",
    "    def m1(self,a):\n",
    "        print(\"one args\")\n",
    "    \n",
    "    def m1(self,a,b):\n",
    "        print(\"two-args\")\n",
    "        \n",
    "    \n",
    "t = Test()\n",
    "#t.m1() not allowwd\n",
    "#t.m1(10)  not allowed\n",
    "t.m1(1,2)\n",
    "\n",
    "        "
   ]
  },
  {
   "cell_type": "code",
   "execution_count": 3,
   "metadata": {},
   "outputs": [
    {
     "name": "stdout",
     "output_type": "stream",
     "text": [
      "Please provide arguments\n",
      "Sum :  1\n",
      "Sum :  3\n",
      "Sum :  6\n",
      "Sum :  10\n"
     ]
    }
   ],
   "source": [
    "class Test:\n",
    "    def m1(self,a=None,b=None,c=None,d=None):\n",
    "        if a!=None and b !=None and c!=None and d!=None:            \n",
    "            print(\"Sum : \",(a+b+c+d))\n",
    "        elif a!=None and b !=None and c!=None:\n",
    "            print(\"Sum : \",(a+b+c))\n",
    "        elif a!=None and b !=None:\n",
    "            print(\"Sum : \",(a+b))\n",
    "        elif a!=None:\n",
    "            print(\"Sum : \",a)\n",
    "        else:\n",
    "            print(\"Please provide arguments\")\n",
    "            \n",
    "        \n",
    "t = Test()\n",
    "t.m1()\n",
    "t.m1(1)\n",
    "t.m1(1,2)\n",
    "t.m1(1,2,3)\n",
    "t.m1(1,2,3,4)\n",
    "\n",
    "            \n",
    "    "
   ]
  },
  {
   "cell_type": "code",
   "execution_count": 4,
   "metadata": {},
   "outputs": [
    {
     "name": "stdout",
     "output_type": "stream",
     "text": [
      "Sum :  0\n",
      "Sum :  30\n",
      "Sum :  60\n",
      "Sum :  100\n",
      "Sum :  150\n"
     ]
    }
   ],
   "source": [
    "class Test:\n",
    "    def sumData(self,*a):\n",
    "        tot=0\n",
    "        for x in a:\n",
    "            tot = tot + x\n",
    "            \n",
    "        print(\"Sum : \",tot)\n",
    "        \n",
    "t = Test()\n",
    "t.sumData()\n",
    "t.sumData(10,20)\n",
    "t.sumData(10,20,30)\n",
    "t.sumData(10,20,30,40)\n",
    "t.sumData(10,20,30,40,50)\n"
   ]
  },
  {
   "cell_type": "code",
   "execution_count": 5,
   "metadata": {},
   "outputs": [
    {
     "name": "stdout",
     "output_type": "stream",
     "text": [
      "\n",
      "10 \n",
      "20 30 \n",
      "40 50 60 \n",
      "34.4 50 60 70 \n"
     ]
    }
   ],
   "source": [
    "class Test:\n",
    "    def __init__(self,*a):\n",
    "        for i in a:\n",
    "            print(i,end=\" \")\n",
    "        print()\n",
    "        \n",
    "    \n",
    "t1 = Test()\n",
    "t2 = Test(10)\n",
    "t3 = Test(20,30)\n",
    "t4 = Test(40,50,60)\n",
    "t5 = Test(34.40,50,60,70)\n",
    "\n",
    "\n",
    "            "
   ]
  },
  {
   "cell_type": "code",
   "execution_count": null,
   "metadata": {},
   "outputs": [],
   "source": [
    "'''\n",
    "all functions are declare in object class:\n",
    "\n",
    "__add__(self,val)                    +\n",
    "__sub__(self,val)                    -\n",
    "__mul__(self,val)                    *\n",
    "__div__(self,val)                    /\n",
    "__floordiv__(self,val)                //\n",
    "__mod__(self,val)                    %\n",
    "__pow__(self,val)                    **\n",
    "__iadd__(self,val)                    +=\n",
    "__isub__(self,val)                    -=\n",
    "__imul__(self,val)                    *=\n",
    "__idiv__(self,val)                    /=\n",
    "__ifloordiv__(self,val)               //=\n",
    "__imod__(self,val)                    %=\n",
    "__ipow__(self,val)                    **=\n",
    "__lt__(self,val)                    <\n",
    "__gt__(self,val)                    >\n",
    "__le__(self,val)                    <=\n",
    "__ge__(self,val)                    >=\n",
    "__eq__(self,val)                    ==\n",
    "__ne__(self,val)                    !=\n",
    "\n",
    "\n",
    "\n",
    "\n",
    "\n",
    "'''\n",
    "\n"
   ]
  },
  {
   "cell_type": "code",
   "execution_count": 8,
   "metadata": {},
   "outputs": [
    {
     "name": "stdout",
     "output_type": "stream",
     "text": [
      "Total pages :  300\n"
     ]
    }
   ],
   "source": [
    "class Books:\n",
    "    def __init__(self,pg):\n",
    "        self.pages = pg\n",
    "        \n",
    "    def __add__(self,val):\n",
    "        return self.pages + val.pages\n",
    "    \n",
    "    \n",
    "    \n",
    "b1= Books(100)\n",
    "b2= Books(200)\n",
    "\n",
    "print(\"Total pages : \",(b1+b2))\n"
   ]
  },
  {
   "cell_type": "code",
   "execution_count": 10,
   "metadata": {},
   "outputs": [
    {
     "name": "stdout",
     "output_type": "stream",
     "text": [
      "False\n",
      "True\n"
     ]
    }
   ],
   "source": [
    "class Student:\n",
    "    def __init__(self,nm,mk):\n",
    "        self.name=nm\n",
    "        self.marks =mk\n",
    "\n",
    "        \n",
    "    def __gt__(self,val):\n",
    "        return self.marks > val.marks\n",
    "    \n",
    "    def __le__(self,val):\n",
    "        return self.marks <= val.marks\n",
    "                \n",
    "s1= Student(\"mohan\",89)\n",
    "s2= Student(\"gagan\",90)\n",
    "\n",
    "\n",
    "print(s1>s2)\n",
    "print(s1<=s2)\n",
    "                    "
   ]
  },
  {
   "cell_type": "code",
   "execution_count": 13,
   "metadata": {},
   "outputs": [
    {
     "name": "stdout",
     "output_type": "stream",
     "text": [
      "A class Move\n",
      "B class move\n"
     ]
    },
    {
     "ename": "AttributeError",
     "evalue": "'C' object has no attribute 'move'",
     "output_type": "error",
     "traceback": [
      "\u001b[1;31m---------------------------------------------------------------------------\u001b[0m",
      "\u001b[1;31mAttributeError\u001b[0m                            Traceback (most recent call last)",
      "\u001b[1;32m<ipython-input-13-12e35d145d5d>\u001b[0m in \u001b[0;36m<module>\u001b[1;34m()\u001b[0m\n\u001b[0;32m     20\u001b[0m \u001b[1;33m\u001b[0m\u001b[0m\n\u001b[0;32m     21\u001b[0m \u001b[1;32mfor\u001b[0m \u001b[0mx\u001b[0m \u001b[1;32min\u001b[0m \u001b[0mL\u001b[0m\u001b[1;33m:\u001b[0m\u001b[1;33m\u001b[0m\u001b[0m\n\u001b[1;32m---> 22\u001b[1;33m     \u001b[0mx\u001b[0m\u001b[1;33m.\u001b[0m\u001b[0mmove\u001b[0m\u001b[1;33m(\u001b[0m\u001b[1;33m)\u001b[0m\u001b[1;33m\u001b[0m\u001b[0m\n\u001b[0m\u001b[0;32m     23\u001b[0m \u001b[1;33m\u001b[0m\u001b[0m\n\u001b[0;32m     24\u001b[0m \u001b[1;33m\u001b[0m\u001b[0m\n",
      "\u001b[1;31mAttributeError\u001b[0m: 'C' object has no attribute 'move'"
     ]
    }
   ],
   "source": [
    "\n",
    "#duck typing\n",
    "\n",
    "\n",
    "class A:\n",
    "    def move(self):\n",
    "        print(\"A class Move\")\n",
    "        \n",
    "\n",
    "class B:\n",
    "    def move(self):\n",
    "        print(\"B class move\")\n",
    "        \n",
    "class C:\n",
    "    def talk(self):\n",
    "        print(\"C class move\")\n",
    "    \n",
    "\n",
    "L = [A(),B(),C()]\n",
    "\n",
    "for x in L:\n",
    "    x.move()\n",
    "\n",
    "\n"
   ]
  },
  {
   "cell_type": "code",
   "execution_count": 15,
   "metadata": {},
   "outputs": [
    {
     "name": "stdout",
     "output_type": "stream",
     "text": [
      "A class Move\n",
      "B class move\n",
      "C class talk\n"
     ]
    }
   ],
   "source": [
    "\n",
    "class A:\n",
    "    def move(self):\n",
    "        print(\"A class Move\")\n",
    "        \n",
    "\n",
    "class B:\n",
    "    def move(self):\n",
    "        print(\"B class move\")\n",
    "        \n",
    "class C:\n",
    "    def talk(self):\n",
    "        print(\"C class talk\")\n",
    "        \n",
    "        \n",
    "def func(obj):\n",
    "    if hasattr(obj,'talk'):\n",
    "        obj.talk()\n",
    "    elif hasattr(obj,\"move\"):\n",
    "        obj.move()\n",
    "        \n",
    "        \n",
    "L = [A(),B(),C()]\n",
    "\n",
    "for x in L:\n",
    "    func(x)"
   ]
  },
  {
   "cell_type": "code",
   "execution_count": 8,
   "metadata": {},
   "outputs": [
    {
     "name": "stdout",
     "output_type": "stream",
     "text": [
      "A class Move\n",
      "B class move\n",
      "[<class '__main__.B'>, <class '__main__.A'>, <class 'object'>]\n"
     ]
    }
   ],
   "source": [
    "#method overriding\n",
    "# inheritance - single\n",
    "\n",
    "class A:\n",
    "    def move1(self):\n",
    "        print(\"A class Move\")\n",
    "        \n",
    "\n",
    "class B(A):\n",
    "    def move2(self):\n",
    "        print(\"B class move\")\n",
    "        \n",
    "        \n",
    "b = B()\n",
    "b.move1()\n",
    "b.move2()\n",
    "\n",
    "print(B.mro())\n",
    "   \n",
    "    \n"
   ]
  },
  {
   "cell_type": "code",
   "execution_count": 9,
   "metadata": {},
   "outputs": [
    {
     "name": "stdout",
     "output_type": "stream",
     "text": [
      "A class Move\n",
      "B class move\n",
      "A class Move\n",
      "C class move\n",
      "[<class '__main__.B'>, <class '__main__.A'>, <class 'object'>]\n",
      "[<class '__main__.C'>, <class '__main__.A'>, <class 'object'>]\n"
     ]
    }
   ],
   "source": [
    "#hierarichal inheritance\n",
    "class A:\n",
    "    def move1(self):\n",
    "        print(\"A class Move\")\n",
    "        \n",
    "\n",
    "class B(A):\n",
    "    def move2(self):\n",
    "        print(\"B class move\")\n",
    "        \n",
    "class C(A):\n",
    "    def move3(self):\n",
    "        print(\"C class move\")\n",
    "        \n",
    "    \n",
    "b = B()\n",
    "c = C()\n",
    "\n",
    "b.move1()\n",
    "b.move2()\n",
    "\n",
    "\n",
    "c.move1()\n",
    "c.move3()\n",
    "\n",
    "      \n",
    "print(B.mro())\n",
    "print(C.mro())\n"
   ]
  },
  {
   "cell_type": "code",
   "execution_count": 10,
   "metadata": {},
   "outputs": [
    {
     "name": "stdout",
     "output_type": "stream",
     "text": [
      "A class Move\n",
      "B class move\n",
      "C class move\n",
      "[<class '__main__.C'>, <class '__main__.B'>, <class '__main__.A'>, <class 'object'>]\n"
     ]
    }
   ],
   "source": [
    "#multilevel inheritance\n",
    "\n",
    "class A:\n",
    "     def move1(self):\n",
    "        print(\"A class Move\")\n",
    "        \n",
    "\n",
    "class B(A):\n",
    "    def move2(self):\n",
    "        print(\"B class move\")\n",
    "        \n",
    "        \n",
    "class C(B):\n",
    "    def move3(self):\n",
    "        print(\"C class move\")\n",
    "        \n",
    "        \n",
    "c = C()\n",
    "c.move1()\n",
    "c.move2()\n",
    "c.move3()\n",
    "\n",
    "print(C.mro())\n",
    "    "
   ]
  },
  {
   "cell_type": "code",
   "execution_count": 7,
   "metadata": {},
   "outputs": [
    {
     "name": "stdout",
     "output_type": "stream",
     "text": [
      "A class Move\n",
      "B class move\n",
      "C class move\n",
      "[<class '__main__.C'>, <class '__main__.B'>, <class '__main__.A'>, <class 'object'>]\n"
     ]
    }
   ],
   "source": [
    "# multiple inheritance\n",
    "\n",
    "class A:\n",
    "     def move1(self):\n",
    "        print(\"A class Move\")\n",
    "        \n",
    "\n",
    "class B:\n",
    "    def move2(self):\n",
    "        print(\"B class move\")\n",
    "        \n",
    "        \n",
    "class C(B,A):\n",
    "    def move3(self):\n",
    "        print(\"C class move\")\n",
    "        \n",
    "    \n",
    "c = C()\n",
    "c.move1()\n",
    "c.move2()\n",
    "c.move3()\n",
    "\n",
    "print(C.mro())"
   ]
  },
  {
   "cell_type": "code",
   "execution_count": 12,
   "metadata": {},
   "outputs": [
    {
     "name": "stdout",
     "output_type": "stream",
     "text": [
      "A display\n",
      "B display\n",
      "C display\n"
     ]
    }
   ],
   "source": [
    "class A:\n",
    "    def display(self):\n",
    "        print(\"A display\")\n",
    "        \n",
    "class B(A):\n",
    "    def display(self):\n",
    "        super().display()\n",
    "        print(\"B display\")\n",
    "    \n",
    "class C(B):\n",
    "    def display(self):\n",
    "        super().display()\n",
    "        print(\"C display\")\n",
    "        \n",
    "    \n",
    "c = C()\n",
    "c.display()\n",
    "    \n",
    "# by using super() to call parent class method    \n",
    "        "
   ]
  },
  {
   "cell_type": "code",
   "execution_count": 16,
   "metadata": {},
   "outputs": [
    {
     "name": "stdout",
     "output_type": "stream",
     "text": [
      "default const of A\n",
      "default const of B\n",
      "default const of C\n",
      "default const of A\n",
      "default const of A\n",
      "default const of B\n"
     ]
    }
   ],
   "source": [
    "class A:\n",
    "    def __init__(self):\n",
    "        print(\"default const of A\")\n",
    "        \n",
    "class B(A):\n",
    "    def __init__(self):\n",
    "        super().__init__()\n",
    "        print(\"default const of B\")\n",
    "    \n",
    "class C(B):\n",
    "    def __init__(self):\n",
    "        super().__init__()\n",
    "        print(\"default const of C\")\n",
    "        \n",
    "    \n",
    "c = C()\n",
    "\n"
   ]
  },
  {
   "cell_type": "code",
   "execution_count": 20,
   "metadata": {},
   "outputs": [
    {
     "name": "stdout",
     "output_type": "stream",
     "text": [
      "Dog\n",
      "Cat\n"
     ]
    },
    {
     "ename": "TypeError",
     "evalue": "Can't instantiate abstract class Animal with abstract methods move",
     "output_type": "error",
     "traceback": [
      "\u001b[1;31m---------------------------------------------------------------------------\u001b[0m",
      "\u001b[1;31mTypeError\u001b[0m                                 Traceback (most recent call last)",
      "\u001b[1;32m<ipython-input-20-07c14b2f397a>\u001b[0m in \u001b[0;36m<module>\u001b[1;34m()\u001b[0m\n\u001b[0;32m     23\u001b[0m \u001b[0mc\u001b[0m\u001b[1;33m.\u001b[0m\u001b[0mmove\u001b[0m\u001b[1;33m(\u001b[0m\u001b[1;33m)\u001b[0m\u001b[1;33m\u001b[0m\u001b[0m\n\u001b[0;32m     24\u001b[0m \u001b[1;33m\u001b[0m\u001b[0m\n\u001b[1;32m---> 25\u001b[1;33m \u001b[0ma\u001b[0m \u001b[1;33m=\u001b[0m \u001b[0mAnimal\u001b[0m\u001b[1;33m(\u001b[0m\u001b[1;33m)\u001b[0m\u001b[1;33m\u001b[0m\u001b[0m\n\u001b[0m\u001b[0;32m     26\u001b[0m \u001b[1;33m\u001b[0m\u001b[0m\n\u001b[0;32m     27\u001b[0m \u001b[1;33m\u001b[0m\u001b[0m\n",
      "\u001b[1;31mTypeError\u001b[0m: Can't instantiate abstract class Animal with abstract methods move"
     ]
    }
   ],
   "source": [
    "from abc import ABC,abstractmethod\n",
    "\n",
    "class Animal(ABC):\n",
    "    @abstractmethod\n",
    "    def move():\n",
    "        pass\n",
    "    \n",
    "    \n",
    "# override    \n",
    "class Dog(Animal):\n",
    "    def move(self):\n",
    "        print(\"Dog\")\n",
    "        \n",
    "class Cat(Animal):\n",
    "    def move(self):\n",
    "        print(\"Cat\")\n",
    "        \n",
    "        \n",
    "d = Dog()\n",
    "c = Cat()\n",
    "\n",
    "d.move()\n",
    "c.move()\n",
    "\n",
    "a = Animal()\n",
    "\n",
    "\n",
    "\n"
   ]
  },
  {
   "cell_type": "code",
   "execution_count": 1,
   "metadata": {},
   "outputs": [
    {
     "name": "stdout",
     "output_type": "stream",
     "text": [
      "Current Thread :  MainThread\n"
     ]
    }
   ],
   "source": [
    "#MultiThreading\n",
    "\n",
    "import threading\n",
    "print(\"Current Thread : \",threading.current_thread().getName())\n",
    "\n"
   ]
  },
  {
   "cell_type": "code",
   "execution_count": 3,
   "metadata": {},
   "outputs": [
    {
     "name": "stdout",
     "output_type": "stream",
     "text": [
      "Child Thread  1\n",
      "Child Thread  2\n",
      "Child Thread  3\n",
      "Child Thread  4\n",
      "Child Thread  5\n"
     ]
    }
   ],
   "source": [
    "# creating thread without using any class\n",
    "\n",
    "from threading import *\n",
    "\n",
    "def display():\n",
    "    for i in range(1,6):\n",
    "        print(\"Child Thread \",i)\n",
    "        \n",
    "t = Thread(target=display)\n",
    "t.start()\n",
    "\n",
    "\n"
   ]
  },
  {
   "cell_type": "code",
   "execution_count": 4,
   "metadata": {},
   "outputs": [
    {
     "name": "stdout",
     "output_type": "stream",
     "text": [
      "Child Thread  0\n",
      "Child Thread  1\n",
      "Child Thread  2\n",
      "Child Thread  3\n",
      "Child Thread  4\n",
      "Child Thread  5\n"
     ]
    }
   ],
   "source": [
    "#Thread by extending Thread class\n",
    "\n",
    "from threading import *\n",
    "\n",
    "class MyThread(Thread):\n",
    "    def run(self):\n",
    "        for i in range(6):\n",
    "            print(\"Child Thread \",i)\n",
    "            \n",
    "            \n",
    "t = MyThread()\n",
    "t.start()\n",
    "\n",
    "    "
   ]
  },
  {
   "cell_type": "code",
   "execution_count": 5,
   "metadata": {},
   "outputs": [
    {
     "name": "stdout",
     "output_type": "stream",
     "text": [
      "Child Thread  0\n",
      "Child Thread  1\n",
      "Child Thread  2\n",
      "Child Thread  3\n",
      "Child Thread  4\n",
      "Child Thread  5\n"
     ]
    }
   ],
   "source": [
    "from threading import *\n",
    "\n",
    "class Test():\n",
    "    def display(self):\n",
    "        for i in range(6):\n",
    "            print(\"Child Thread \",i)\n",
    "            \n",
    "obj = Test()            \n",
    "t = Thread(target=obj.display)\n",
    "t.start()"
   ]
  },
  {
   "cell_type": "code",
   "execution_count": 19,
   "metadata": {},
   "outputs": [
    {
     "name": "stdout",
     "output_type": "stream",
     "text": [
      "Current Thread :  MainThread\n",
      "Child 1\n",
      "Cube :  1\n",
      "Cube :  8\n",
      "Cube :  27\n",
      "Cube :  64\n",
      "Child 2\n",
      "Square :  1\n",
      "Square :  4\n",
      "Square :  9\n",
      "Square :  16\n"
     ]
    }
   ],
   "source": [
    "from threading import *\n",
    "\n",
    "print(\"Current Thread : \",threading.current_thread().getName())\n",
    "\n",
    "def cube(n):\n",
    "    print(threading.current_thread().getName())\n",
    "    for i in n:\n",
    "        print(\"Cube : \",i*i*i)\n",
    "\n",
    "def square(n):\n",
    "    print(threading.current_thread().getName())\n",
    "    for i in n:\n",
    "        print(\"Square : \",i*i)\n",
    "    \n",
    "\n",
    "m = [1,2,3,4]\n",
    "\n",
    "t1 = Thread(target=cube,args = (m,))\n",
    "t2 = Thread(target=square,args = (m,))\n",
    "\n",
    "t1.setName(\"Child 1\")\n",
    "t2.setName(\"Child 2\")\n",
    "\n",
    "\n",
    "t1.start()\n",
    "t2.start()\n",
    "\n",
    "#to make independent , no more dependnt on main thread\n",
    "\n",
    "t1.join()\n",
    "t2.join()\n",
    "\n",
    "\n",
    "    "
   ]
  },
  {
   "cell_type": "code",
   "execution_count": 2,
   "metadata": {},
   "outputs": [
    {
     "name": "stdout",
     "output_type": "stream",
     "text": [
      "Child Thread Main thread identification no :  5084\n",
      "Child thread identification no :  6644\n",
      " 0\n",
      "Child Thread  1\n",
      "Child Thread  2\n",
      "Child Thread  3\n",
      "Child Thread  4\n",
      "Child Thread  5\n"
     ]
    }
   ],
   "source": [
    "from threading import *\n",
    "\n",
    "class Test():\n",
    "    def display(self):\n",
    "        for i in range(6):\n",
    "            print(\"Child Thread \",i)\n",
    "            \n",
    "obj = Test()            \n",
    "t = Thread(target=obj.display)\n",
    "t.start()\n",
    "print(\"Main thread identification no : \",current_thread().ident)\n",
    "print(\"Child thread identification no : \",t.ident)  # show identification no of a thread\n",
    "\n",
    "\n"
   ]
  },
  {
   "cell_type": "code",
   "execution_count": 6,
   "metadata": {},
   "outputs": [
    {
     "name": "stdout",
     "output_type": "stream",
     "text": [
      "Active Thread Count :  5\n",
      "Child 1  started....\n",
      "Child 2  started....\n",
      "Child 3Active Thread Count :   started....\n",
      " 8\n",
      "\n",
      "<_MainThread(MainThread, started 5084)>\n",
      "<Thread(Thread-4, started daemon 7452)>\n",
      "<Heartbeat(Thread-5, started daemon 8944)>\n",
      "<HistorySavingThread(IPythonHistorySavingThread, started 5092)>\n",
      "<ParentPollerWindows(Thread-3, started daemon 9652)>\n",
      "<Thread(Child 1, started 5408)>\n",
      "<Thread(Child 2, started 10276)>\n",
      "<Thread(Child 3, started 9212)>\n",
      "\n",
      "Child 1  ended....\n",
      "Child 2  ended....\n",
      "Child 3  ended....\n",
      "Active Thread Count :  5\n"
     ]
    }
   ],
   "source": [
    "#active_count()\n",
    "\n",
    "from threading import *\n",
    "import time\n",
    "\n",
    "def display():\n",
    "    print(current_thread().getName(),\" started....\")\n",
    "    time.sleep(3)\n",
    "    print(current_thread().getName(),\" ended....\")\n",
    "    \n",
    "    \n",
    "print(\"Active Thread Count : \",active_count())\n",
    "\n",
    "t1 = Thread(target = display, name=\"Child 1\")\n",
    "t2 = Thread(target = display, name=\"Child 2\")\n",
    "t3 = Thread(target = display, name=\"Child 3\")\n",
    "\n",
    "t1.start()\n",
    "t2.start()\n",
    "t3.start()\n",
    "\n",
    "print(\"Active Thread Count : \",active_count())\n",
    "\n",
    "print()\n",
    "\n",
    "#to show all active threads\n",
    "L = enumerate()\n",
    "for i in L:\n",
    "    print(i)\n",
    "\n",
    "print()\n",
    "\n",
    "\n",
    "time.sleep(5)\n",
    "print(\"Active Thread Count : \",active_count())\n",
    "\n"
   ]
  },
  {
   "cell_type": "code",
   "execution_count": 7,
   "metadata": {},
   "outputs": [
    {
     "name": "stdout",
     "output_type": "stream",
     "text": [
      "Child 1  started....\n",
      "Child 2Child 1  started....\n",
      "  is Alive  True\n",
      "Child 2  is Alive  True\n",
      "Child 1  ended....\n",
      "Child 2  ended....\n",
      "Child 1  is Alive  False\n",
      "Child 2  is Alive  False\n"
     ]
    }
   ],
   "source": [
    "#isAlive()\n",
    "\n",
    "from threading import *\n",
    "import time\n",
    "\n",
    "def display():\n",
    "    print(current_thread().getName(),\" started....\")\n",
    "    time.sleep(3)\n",
    "    print(current_thread().getName(),\" ended....\")\n",
    "    \n",
    "t1 = Thread(target = display, name=\"Child 1\")\n",
    "t2 = Thread(target = display, name=\"Child 2\")\n",
    "\n",
    "\n",
    "t1.start()\n",
    "t2.start()\n",
    "\n",
    "print(t1.name,\" is Alive \",t1.isAlive())\n",
    "print(t2.name,\" is Alive \",t2.isAlive())\n",
    "\n",
    "time.sleep(5)\n",
    "\n",
    "print(t1.name,\" is Alive \",t1.isAlive())\n",
    "print(t2.name,\" is Alive \",t2.isAlive())"
   ]
  },
  {
   "cell_type": "code",
   "execution_count": 8,
   "metadata": {},
   "outputs": [
    {
     "name": "stdout",
     "output_type": "stream",
     "text": [
      "Hello\n",
      "Hello\n",
      "Hello\n",
      "Main\n",
      "Main\n",
      "Main\n",
      "Main\n",
      "Main\n",
      "Main\n",
      "Hello\n",
      "Hello\n",
      "Hello\n"
     ]
    }
   ],
   "source": [
    "#join()\n",
    "\n",
    "\n",
    "from threading import *\n",
    "import time\n",
    "\n",
    "def display():\n",
    "    for i in range(6):\n",
    "        print(\"Hello\")\n",
    "        time.sleep(2)\n",
    "        \n",
    "        \n",
    "t1 = Thread(target = display, name=\"Child 1\")\n",
    "\n",
    "t1.start()\n",
    "t1.join(5) # excuted by main thread\n",
    "\n",
    "for i in range(6):\n",
    "        print(\"Main\")\n",
    "        \n",
    "\n",
    "\n"
   ]
  },
  {
   "cell_type": "code",
   "execution_count": null,
   "metadata": {},
   "outputs": [],
   "source": [
    "#Synchroization - means run ne thread at a time.\n",
    "#can be achieved with Lock class and acquire() and release()\n",
    "'''Example:\n",
    "from threading import *\n",
    "I = Lock()\n",
    "I.acquire()\n",
    "I.release()\n",
    "'''\n",
    "\n"
   ]
  },
  {
   "cell_type": "code",
   "execution_count": 11,
   "metadata": {},
   "outputs": [
    {
     "name": "stdout",
     "output_type": "stream",
     "text": [
      "Good Morning! mohan\n",
      "Good Morning! mohan\n",
      "Good Morning! mohan\n",
      "Good Morning! mohan\n",
      "Good Morning! mohan\n",
      "Good Morning! mohan\n",
      "Good Morning! pooja\n",
      "Good Morning! pooja\n",
      "Good Morning! pooja\n",
      "Good Morning! pooja\n",
      "Good Morning! pooja\n",
      "Good Morning! pooja\n",
      "Good Morning! suman\n",
      "Good Morning! suman\n",
      "Good Morning! suman\n",
      "Good Morning! suman\n",
      "Good Morning! suman\n",
      "Good Morning! suman\n"
     ]
    }
   ],
   "source": [
    "from threading import *\n",
    "import time\n",
    "I = Lock()\n",
    "\n",
    "def wish(name):\n",
    "    I.acquire()\n",
    "    \n",
    "    for i in range(6):\n",
    "        print(\"Good Morning! \",end=\"\")\n",
    "        time.sleep(2)\n",
    "        print(name)\n",
    "        \n",
    "    I.release()\n",
    "    \n",
    "t1 = Thread(target = wish, name=\"Child 1\",args=(\"mohan\",))\n",
    "t2 = Thread(target = wish, name=\"Child 2\",args=(\"pooja\",))\n",
    "t3 = Thread(target = wish, name=\"Child 3\",args=(\"suman\",))\n",
    "\n",
    "t1.start()\n",
    "t2.start()\n",
    "t3.start()\n"
   ]
  },
  {
   "cell_type": "code",
   "execution_count": null,
   "metadata": {},
   "outputs": [],
   "source": [
    "\n"
   ]
  }
 ],
 "metadata": {
  "kernelspec": {
   "display_name": "Python 3",
   "language": "python",
   "name": "python3"
  },
  "language_info": {
   "codemirror_mode": {
    "name": "ipython",
    "version": 3
   },
   "file_extension": ".py",
   "mimetype": "text/x-python",
   "name": "python",
   "nbconvert_exporter": "python",
   "pygments_lexer": "ipython3",
   "version": "3.8.8"
  }
 },
 "nbformat": 4,
 "nbformat_minor": 4
}
